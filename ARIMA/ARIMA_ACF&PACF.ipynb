{
 "cells": [
  {
   "cell_type": "code",
   "execution_count": 1,
   "metadata": {},
   "outputs": [],
   "source": [
    "#Import libraries\n",
    "import pandas as pd\n",
    "import numpy as np\n",
    "import matplotlib.pyplot as plt\n",
    "import seaborn as sns\n",
    "import matplotlib\n",
    "matplotlib.use('Qt5Agg')\n",
    "sns.set_style(\"whitegrid\")\n",
    "import calendar"
   ]
  },
  {
   "cell_type": "markdown",
   "metadata": {},
   "source": [
    "# DATA PREPROCESSING"
   ]
  },
  {
   "cell_type": "markdown",
   "metadata": {},
   "source": [
    "### MSTA"
   ]
  },
  {
   "cell_type": "code",
   "execution_count": 2,
   "metadata": {},
   "outputs": [],
   "source": [
    "MSTA= pd.read_excel('Data_36544086.xlsx', sheet_name='MSTA',\n",
    "                                header=0, \n",
    "                                usecols=['Time', 'Anomaly (deg C)'],\n",
    "                                parse_dates=True).squeeze()"
   ]
  },
  {
   "cell_type": "code",
   "execution_count": 3,
   "metadata": {},
   "outputs": [],
   "source": [
    "MSTA['Time'] = pd.to_datetime(MSTA['Time'])\n",
    "MSTA = MSTA.set_index('Time')"
   ]
  },
  {
   "cell_type": "code",
   "execution_count": 4,
   "metadata": {},
   "outputs": [
    {
     "data": {
      "application/vnd.microsoft.datawrangler.viewer.v0+json": {
       "columns": [
        {
         "name": "Time",
         "rawType": "datetime64[ns]",
         "type": "datetime"
        },
        {
         "name": "Anomaly (deg C)",
         "rawType": "float64",
         "type": "float"
        }
       ],
       "conversionMethod": "pd.DataFrame",
       "ref": "c0176a4e-ce28-4aaa-87cf-2196289c849d",
       "rows": [
        [
         "1850-01-01 00:00:00",
         "-0.67456436"
        ],
        [
         "1850-02-01 00:00:00",
         "-0.333416"
        ],
        [
         "1850-03-01 00:00:00",
         "-0.59132266"
        ],
        [
         "1850-04-01 00:00:00",
         "-0.58872116"
        ],
        [
         "1850-05-01 00:00:00",
         "-0.50881654"
        ],
        [
         "1850-06-01 00:00:00",
         "-0.34424013"
        ],
        [
         "1850-07-01 00:00:00",
         "-0.15979019"
        ],
        [
         "1850-08-01 00:00:00",
         "-0.2076543"
        ],
        [
         "1850-09-01 00:00:00",
         "-0.3847069"
        ],
        [
         "1850-10-01 00:00:00",
         "-0.53312653"
        ],
        [
         "1850-11-01 00:00:00",
         "-0.2825075"
        ],
        [
         "1850-12-01 00:00:00",
         "-0.40367043"
        ],
        [
         "1851-01-01 00:00:00",
         "-0.20073938"
        ],
        [
         "1851-02-01 00:00:00",
         "-0.46933234"
        ],
        [
         "1851-03-01 00:00:00",
         "-0.6460531"
        ],
        [
         "1851-04-01 00:00:00",
         "-0.5421326"
        ],
        [
         "1851-05-01 00:00:00",
         "-0.19762275"
        ],
        [
         "1851-06-01 00:00:00",
         "-0.13670355"
        ],
        [
         "1851-07-01 00:00:00",
         "-0.0968156"
        ],
        [
         "1851-08-01 00:00:00",
         "-0.10175375"
        ],
        [
         "1851-09-01 00:00:00",
         "-0.091244884"
        ],
        [
         "1851-10-01 00:00:00",
         "-0.00836263"
        ],
        [
         "1851-11-01 00:00:00",
         "-0.08189084"
        ],
        [
         "1851-12-01 00:00:00",
         "-0.22754622"
        ],
        [
         "1852-01-01 00:00:00",
         "-0.37509567"
        ],
        [
         "1852-02-01 00:00:00",
         "-0.47672674"
        ],
        [
         "1852-03-01 00:00:00",
         "-0.5597683"
        ],
        [
         "1852-04-01 00:00:00",
         "-0.5853704"
        ],
        [
         "1852-05-01 00:00:00",
         "-0.12741269"
        ],
        [
         "1852-06-01 00:00:00",
         "-0.083659135"
        ],
        [
         "1852-07-01 00:00:00",
         "0.005029385"
        ],
        [
         "1852-08-01 00:00:00",
         "-0.13558698"
        ],
        [
         "1852-09-01 00:00:00",
         "-0.0019016695"
        ],
        [
         "1852-10-01 00:00:00",
         "-0.172434"
        ],
        [
         "1852-11-01 00:00:00",
         "-0.3052479"
        ],
        [
         "1852-12-01 00:00:00",
         "0.065385304"
        ],
        [
         "1853-01-01 00:00:00",
         "-0.23259853"
        ],
        [
         "1853-02-01 00:00:00",
         "-0.40372267"
        ],
        [
         "1853-03-01 00:00:00",
         "-0.28042167"
        ],
        [
         "1853-04-01 00:00:00",
         "-0.38631994"
        ],
        [
         "1853-05-01 00:00:00",
         "-0.2678886"
        ],
        [
         "1853-06-01 00:00:00",
         "-0.1423762"
        ],
        [
         "1853-07-01 00:00:00",
         "-0.08344058"
        ],
        [
         "1853-08-01 00:00:00",
         "-0.056647103"
        ],
        [
         "1853-09-01 00:00:00",
         "-0.2502504"
        ],
        [
         "1853-10-01 00:00:00",
         "-0.391768"
        ],
        [
         "1853-11-01 00:00:00",
         "-0.41142052"
        ],
        [
         "1853-12-01 00:00:00",
         "-0.33739907"
        ],
        [
         "1854-01-01 00:00:00",
         "-0.3813734"
        ],
        [
         "1854-02-01 00:00:00",
         "-0.36109406"
        ]
       ],
       "shape": {
        "columns": 1,
        "rows": 2100
       }
      },
      "text/html": [
       "<div>\n",
       "<style scoped>\n",
       "    .dataframe tbody tr th:only-of-type {\n",
       "        vertical-align: middle;\n",
       "    }\n",
       "\n",
       "    .dataframe tbody tr th {\n",
       "        vertical-align: top;\n",
       "    }\n",
       "\n",
       "    .dataframe thead th {\n",
       "        text-align: right;\n",
       "    }\n",
       "</style>\n",
       "<table border=\"1\" class=\"dataframe\">\n",
       "  <thead>\n",
       "    <tr style=\"text-align: right;\">\n",
       "      <th></th>\n",
       "      <th>Anomaly (deg C)</th>\n",
       "    </tr>\n",
       "    <tr>\n",
       "      <th>Time</th>\n",
       "      <th></th>\n",
       "    </tr>\n",
       "  </thead>\n",
       "  <tbody>\n",
       "    <tr>\n",
       "      <th>1850-01-01</th>\n",
       "      <td>-0.674564</td>\n",
       "    </tr>\n",
       "    <tr>\n",
       "      <th>1850-02-01</th>\n",
       "      <td>-0.333416</td>\n",
       "    </tr>\n",
       "    <tr>\n",
       "      <th>1850-03-01</th>\n",
       "      <td>-0.591323</td>\n",
       "    </tr>\n",
       "    <tr>\n",
       "      <th>1850-04-01</th>\n",
       "      <td>-0.588721</td>\n",
       "    </tr>\n",
       "    <tr>\n",
       "      <th>1850-05-01</th>\n",
       "      <td>-0.508817</td>\n",
       "    </tr>\n",
       "    <tr>\n",
       "      <th>...</th>\n",
       "      <td>...</td>\n",
       "    </tr>\n",
       "    <tr>\n",
       "      <th>2024-08-01</th>\n",
       "      <td>1.239584</td>\n",
       "    </tr>\n",
       "    <tr>\n",
       "      <th>2024-09-01</th>\n",
       "      <td>1.144937</td>\n",
       "    </tr>\n",
       "    <tr>\n",
       "      <th>2024-10-01</th>\n",
       "      <td>1.199982</td>\n",
       "    </tr>\n",
       "    <tr>\n",
       "      <th>2024-11-01</th>\n",
       "      <td>1.225049</td>\n",
       "    </tr>\n",
       "    <tr>\n",
       "      <th>2024-12-01</th>\n",
       "      <td>1.096270</td>\n",
       "    </tr>\n",
       "  </tbody>\n",
       "</table>\n",
       "<p>2100 rows × 1 columns</p>\n",
       "</div>"
      ],
      "text/plain": [
       "            Anomaly (deg C)\n",
       "Time                       \n",
       "1850-01-01        -0.674564\n",
       "1850-02-01        -0.333416\n",
       "1850-03-01        -0.591323\n",
       "1850-04-01        -0.588721\n",
       "1850-05-01        -0.508817\n",
       "...                     ...\n",
       "2024-08-01         1.239584\n",
       "2024-09-01         1.144937\n",
       "2024-10-01         1.199982\n",
       "2024-11-01         1.225049\n",
       "2024-12-01         1.096270\n",
       "\n",
       "[2100 rows x 1 columns]"
      ]
     },
     "execution_count": 4,
     "metadata": {},
     "output_type": "execute_result"
    }
   ],
   "source": [
    "MSTA"
   ]
  },
  {
   "cell_type": "code",
   "execution_count": 5,
   "metadata": {},
   "outputs": [
    {
     "data": {
      "application/vnd.microsoft.datawrangler.viewer.v0+json": {
       "columns": [
        {
         "name": "Time",
         "rawType": "datetime64[ns]",
         "type": "datetime"
        },
        {
         "name": "Anomaly (deg C)",
         "rawType": "float64",
         "type": "float"
        }
       ],
       "conversionMethod": "pd.DataFrame",
       "ref": "752fe905-a713-4cf2-9346-b4bd5af17436",
       "rows": [
        [
         "1950-01-01 00:00:00",
         "-0.3000435"
        ],
        [
         "1950-02-01 00:00:00",
         "-0.3700363"
        ],
        [
         "1950-03-01 00:00:00",
         "-0.21643846"
        ],
        [
         "1950-04-01 00:00:00",
         "-0.24361575"
        ],
        [
         "1950-05-01 00:00:00",
         "-0.13729782"
        ],
        [
         "1950-06-01 00:00:00",
         "-0.105043374"
        ],
        [
         "1950-07-01 00:00:00",
         "-0.10670231"
        ],
        [
         "1950-08-01 00:00:00",
         "-0.15261763"
        ],
        [
         "1950-09-01 00:00:00",
         "-0.24503586"
        ],
        [
         "1950-10-01 00:00:00",
         "-0.20104446"
        ],
        [
         "1950-11-01 00:00:00",
         "-0.38081577"
        ],
        [
         "1950-12-01 00:00:00",
         "-0.2607705"
        ],
        [
         "1951-01-01 00:00:00",
         "-0.3603426"
        ],
        [
         "1951-02-01 00:00:00",
         "-0.50937843"
        ],
        [
         "1951-03-01 00:00:00",
         "-0.2620192"
        ],
        [
         "1951-04-01 00:00:00",
         "-0.108077675"
        ],
        [
         "1951-05-01 00:00:00",
         "0.03226914"
        ],
        [
         "1951-06-01 00:00:00",
         "0.060181145"
        ],
        [
         "1951-07-01 00:00:00",
         "0.03866412"
        ],
        [
         "1951-08-01 00:00:00",
         "0.12133113"
        ],
        [
         "1951-09-01 00:00:00",
         "0.13226272"
        ],
        [
         "1951-10-01 00:00:00",
         "0.12436143"
        ],
        [
         "1951-11-01 00:00:00",
         "-0.07229671"
        ],
        [
         "1951-12-01 00:00:00",
         "0.06919738"
        ],
        [
         "1952-01-01 00:00:00",
         "0.09402649"
        ],
        [
         "1952-02-01 00:00:00",
         "0.068350874"
        ],
        [
         "1952-03-01 00:00:00",
         "-0.16353905"
        ],
        [
         "1952-04-01 00:00:00",
         "0.045588057"
        ],
        [
         "1952-05-01 00:00:00",
         "0.022243632"
        ],
        [
         "1952-06-01 00:00:00",
         "0.023484357"
        ],
        [
         "1952-07-01 00:00:00",
         "0.09006012"
        ],
        [
         "1952-08-01 00:00:00",
         "0.096942395"
        ],
        [
         "1952-09-01 00:00:00",
         "0.09621102"
        ],
        [
         "1952-10-01 00:00:00",
         "-0.016534438"
        ],
        [
         "1952-11-01 00:00:00",
         "-0.13228506"
        ],
        [
         "1952-12-01 00:00:00",
         "-0.040293824"
        ],
        [
         "1953-01-01 00:00:00",
         "-0.009005203"
        ],
        [
         "1953-02-01 00:00:00",
         "0.09501187"
        ],
        [
         "1953-03-01 00:00:00",
         "0.01800697"
        ],
        [
         "1953-04-01 00:00:00",
         "0.22455436"
        ],
        [
         "1953-05-01 00:00:00",
         "0.14901619"
        ],
        [
         "1953-06-01 00:00:00",
         "0.1404282"
        ],
        [
         "1953-07-01 00:00:00",
         "0.043144584"
        ],
        [
         "1953-08-01 00:00:00",
         "0.08707856"
        ],
        [
         "1953-09-01 00:00:00",
         "0.08630111"
        ],
        [
         "1953-10-01 00:00:00",
         "0.08342033"
        ],
        [
         "1953-11-01 00:00:00",
         "-0.0058099576"
        ],
        [
         "1953-12-01 00:00:00",
         "0.019422"
        ],
        [
         "1954-01-01 00:00:00",
         "-0.24345858"
        ],
        [
         "1954-02-01 00:00:00",
         "-0.08907446"
        ]
       ],
       "shape": {
        "columns": 1,
        "rows": 900
       }
      },
      "text/html": [
       "<div>\n",
       "<style scoped>\n",
       "    .dataframe tbody tr th:only-of-type {\n",
       "        vertical-align: middle;\n",
       "    }\n",
       "\n",
       "    .dataframe tbody tr th {\n",
       "        vertical-align: top;\n",
       "    }\n",
       "\n",
       "    .dataframe thead th {\n",
       "        text-align: right;\n",
       "    }\n",
       "</style>\n",
       "<table border=\"1\" class=\"dataframe\">\n",
       "  <thead>\n",
       "    <tr style=\"text-align: right;\">\n",
       "      <th></th>\n",
       "      <th>Anomaly (deg C)</th>\n",
       "    </tr>\n",
       "    <tr>\n",
       "      <th>Time</th>\n",
       "      <th></th>\n",
       "    </tr>\n",
       "  </thead>\n",
       "  <tbody>\n",
       "    <tr>\n",
       "      <th>1950-01-01</th>\n",
       "      <td>-0.300044</td>\n",
       "    </tr>\n",
       "    <tr>\n",
       "      <th>1950-02-01</th>\n",
       "      <td>-0.370036</td>\n",
       "    </tr>\n",
       "    <tr>\n",
       "      <th>1950-03-01</th>\n",
       "      <td>-0.216438</td>\n",
       "    </tr>\n",
       "    <tr>\n",
       "      <th>1950-04-01</th>\n",
       "      <td>-0.243616</td>\n",
       "    </tr>\n",
       "    <tr>\n",
       "      <th>1950-05-01</th>\n",
       "      <td>-0.137298</td>\n",
       "    </tr>\n",
       "    <tr>\n",
       "      <th>...</th>\n",
       "      <td>...</td>\n",
       "    </tr>\n",
       "    <tr>\n",
       "      <th>2024-08-01</th>\n",
       "      <td>1.239584</td>\n",
       "    </tr>\n",
       "    <tr>\n",
       "      <th>2024-09-01</th>\n",
       "      <td>1.144937</td>\n",
       "    </tr>\n",
       "    <tr>\n",
       "      <th>2024-10-01</th>\n",
       "      <td>1.199982</td>\n",
       "    </tr>\n",
       "    <tr>\n",
       "      <th>2024-11-01</th>\n",
       "      <td>1.225049</td>\n",
       "    </tr>\n",
       "    <tr>\n",
       "      <th>2024-12-01</th>\n",
       "      <td>1.096270</td>\n",
       "    </tr>\n",
       "  </tbody>\n",
       "</table>\n",
       "<p>900 rows × 1 columns</p>\n",
       "</div>"
      ],
      "text/plain": [
       "            Anomaly (deg C)\n",
       "Time                       \n",
       "1950-01-01        -0.300044\n",
       "1950-02-01        -0.370036\n",
       "1950-03-01        -0.216438\n",
       "1950-04-01        -0.243616\n",
       "1950-05-01        -0.137298\n",
       "...                     ...\n",
       "2024-08-01         1.239584\n",
       "2024-09-01         1.144937\n",
       "2024-10-01         1.199982\n",
       "2024-11-01         1.225049\n",
       "2024-12-01         1.096270\n",
       "\n",
       "[900 rows x 1 columns]"
      ]
     },
     "execution_count": 5,
     "metadata": {},
     "output_type": "execute_result"
    }
   ],
   "source": [
    "# Extract data from the year 1950 onwards\n",
    "MSTA_1950_onwards = MSTA[MSTA.index >= '1950-01-01']\n",
    "MSTA_1950_onwards"
   ]
  },
  {
   "cell_type": "markdown",
   "metadata": {},
   "source": [
    "### Calendar Adjustment"
   ]
  },
  {
   "cell_type": "code",
   "execution_count": 6,
   "metadata": {},
   "outputs": [
    {
     "name": "stderr",
     "output_type": "stream",
     "text": [
      "C:\\Users\\admin\\AppData\\Local\\Temp\\ipykernel_12636\\3628291968.py:4: SettingWithCopyWarning: \n",
      "A value is trying to be set on a copy of a slice from a DataFrame.\n",
      "Try using .loc[row_indexer,col_indexer] = value instead\n",
      "\n",
      "See the caveats in the documentation: https://pandas.pydata.org/pandas-docs/stable/user_guide/indexing.html#returning-a-view-versus-a-copy\n",
      "  df[\"Days\"] = np.nan\n",
      "C:\\Users\\admin\\AppData\\Local\\Temp\\ipykernel_12636\\3628291968.py:9: SettingWithCopyWarning: \n",
      "A value is trying to be set on a copy of a slice from a DataFrame.\n",
      "Try using .loc[row_indexer,col_indexer] = value instead\n",
      "\n",
      "See the caveats in the documentation: https://pandas.pydata.org/pandas-docs/stable/user_guide/indexing.html#returning-a-view-versus-a-copy\n",
      "  df[\"Adjusted Data\"] = (df.iloc[:, 0] * 365.25 / (12 * df[\"Days\"])).round(2)\n"
     ]
    }
   ],
   "source": [
    "#Calendar adjustment\n",
    "# Create empty column for days in the month\n",
    "def calendar_adjustment(df):\n",
    "    df[\"Days\"] = np.nan\n",
    "    # Fill empty columns with the days per calendar month\n",
    "    for date in df.index:\n",
    "        df.loc[date, \"Days\"] = calendar.monthrange(date.year, date.month)[1]\n",
    "    # Perform calendar adjustment\n",
    "    df[\"Adjusted Data\"] = (df.iloc[:, 0] * 365.25 / (12 * df[\"Days\"])).round(2)\n",
    "\n",
    "\n",
    "calendar_adjustment(MSTA_1950_onwards)"
   ]
  },
  {
   "cell_type": "code",
   "execution_count": 7,
   "metadata": {},
   "outputs": [],
   "source": [
    "MSTA_1950_onwards= MSTA_1950_onwards.drop(columns=['Days', 'Anomaly (deg C)'])"
   ]
  },
  {
   "cell_type": "code",
   "execution_count": 8,
   "metadata": {},
   "outputs": [],
   "source": [
    "def rename_columns(df, df_name):\n",
    "    df = df.rename(columns={'Adjusted Data': df_name})\n",
    "    return df"
   ]
  },
  {
   "cell_type": "code",
   "execution_count": 9,
   "metadata": {},
   "outputs": [],
   "source": [
    "MSTA_1950_onwards= rename_columns(MSTA_1950_onwards, 'Anomaly (adjusted deg C)')#\n"
   ]
  },
  {
   "cell_type": "code",
   "execution_count": 10,
   "metadata": {},
   "outputs": [],
   "source": [
    "# Add frequency to the index\n",
    "def frequency_add(i):\n",
    "    i.index = pd.DatetimeIndex(i.index.values, freq=i.index.inferred_freq)\n",
    "\n",
    "frequency_add(MSTA_1950_onwards)"
   ]
  },
  {
   "cell_type": "markdown",
   "metadata": {},
   "source": [
    "# ACF/PACF plots"
   ]
  },
  {
   "cell_type": "code",
   "execution_count": 11,
   "metadata": {},
   "outputs": [],
   "source": [
    "from statsmodels.graphics.tsaplots import plot_acf, plot_pacf"
   ]
  },
  {
   "cell_type": "code",
   "execution_count": 12,
   "metadata": {},
   "outputs": [],
   "source": [
    "# ACF and PACF plots\n",
    "fig, ax = plt.subplots(2, 1, figsize=(10, 7))\n",
    "\n",
    "# ACF plot \n",
    "plot_acf(MSTA_1950_onwards, title='ACF of MSTA (1950 onwards)', lags=100, ax=ax[0])\n",
    "\n",
    "# PACF plot \n",
    "plot_pacf(MSTA_1950_onwards, title='PACF of MSTA_1950_onwards ', lags=100, ax=ax[1])\n",
    "plt.title('PACF of MSTA (1950 onwards)', fontsize=20)\n",
    "plt.tight_layout()\n",
    "plt.show()\n"
   ]
  }
 ],
 "metadata": {
  "kernelspec": {
   "display_name": "datasciences1",
   "language": "python",
   "name": "python3"
  },
  "language_info": {
   "codemirror_mode": {
    "name": "ipython",
    "version": 3
   },
   "file_extension": ".py",
   "mimetype": "text/x-python",
   "name": "python",
   "nbconvert_exporter": "python",
   "pygments_lexer": "ipython3",
   "version": "3.9.16"
  }
 },
 "nbformat": 4,
 "nbformat_minor": 2
}
