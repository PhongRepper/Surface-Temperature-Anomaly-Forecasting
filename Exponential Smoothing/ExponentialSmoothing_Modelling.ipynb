{
 "cells": [
  {
   "cell_type": "code",
   "execution_count": 74,
   "metadata": {},
   "outputs": [],
   "source": [
    "#Import libraries\n",
    "import pandas as pd\n",
    "import numpy as np\n",
    "import matplotlib.pyplot as plt\n",
    "import seaborn as sns\n",
    "import matplotlib       \n",
    "matplotlib.use('Qt5Agg')\n",
    "sns.set_style(\"whitegrid\")\n",
    "import calendar"
   ]
  },
  {
   "cell_type": "markdown",
   "metadata": {},
   "source": [
    "# DATA PREPROCESSING"
   ]
  },
  {
   "cell_type": "markdown",
   "metadata": {},
   "source": [
    "### MSTA"
   ]
  },
  {
   "cell_type": "code",
   "execution_count": 75,
   "metadata": {},
   "outputs": [],
   "source": [
    "MSTA= pd.read_excel('Data_36544086.xlsx', sheet_name='MSTA',\n",
    "                                header=0, \n",
    "                                usecols=['Time', 'Anomaly (deg C)'],\n",
    "                                parse_dates=True).squeeze()"
   ]
  },
  {
   "cell_type": "code",
   "execution_count": 76,
   "metadata": {},
   "outputs": [],
   "source": [
    "MSTA['Time'] = pd.to_datetime(MSTA['Time'])\n",
    "MSTA = MSTA.set_index('Time')"
   ]
  },
  {
   "cell_type": "code",
   "execution_count": 77,
   "metadata": {},
   "outputs": [
    {
     "data": {
      "application/vnd.microsoft.datawrangler.viewer.v0+json": {
       "columns": [
        {
         "name": "index",
         "rawType": "object",
         "type": "string"
        },
        {
         "name": "Anomaly (deg C)",
         "rawType": "float64",
         "type": "float"
        }
       ],
       "conversionMethod": "pd.DataFrame",
       "ref": "07819f11-11cd-4ba6-b0e5-9043a7bfb2c9",
       "rows": [
        [
         "count",
         "2100.0"
        ],
        [
         "mean",
         "-0.06502215366849051"
        ],
        [
         "std",
         "0.40623704175985204"
        ],
        [
         "min",
         "-1.0448953"
        ],
        [
         "25%",
         "-0.34592773"
        ],
        [
         "50%",
         "-0.15394249"
        ],
        [
         "75%",
         "0.12239733125"
        ],
        [
         "max",
         "1.3521734"
        ]
       ],
       "shape": {
        "columns": 1,
        "rows": 8
       }
      },
      "text/html": [
       "<div>\n",
       "<style scoped>\n",
       "    .dataframe tbody tr th:only-of-type {\n",
       "        vertical-align: middle;\n",
       "    }\n",
       "\n",
       "    .dataframe tbody tr th {\n",
       "        vertical-align: top;\n",
       "    }\n",
       "\n",
       "    .dataframe thead th {\n",
       "        text-align: right;\n",
       "    }\n",
       "</style>\n",
       "<table border=\"1\" class=\"dataframe\">\n",
       "  <thead>\n",
       "    <tr style=\"text-align: right;\">\n",
       "      <th></th>\n",
       "      <th>Anomaly (deg C)</th>\n",
       "    </tr>\n",
       "  </thead>\n",
       "  <tbody>\n",
       "    <tr>\n",
       "      <th>count</th>\n",
       "      <td>2100.000000</td>\n",
       "    </tr>\n",
       "    <tr>\n",
       "      <th>mean</th>\n",
       "      <td>-0.065022</td>\n",
       "    </tr>\n",
       "    <tr>\n",
       "      <th>std</th>\n",
       "      <td>0.406237</td>\n",
       "    </tr>\n",
       "    <tr>\n",
       "      <th>min</th>\n",
       "      <td>-1.044895</td>\n",
       "    </tr>\n",
       "    <tr>\n",
       "      <th>25%</th>\n",
       "      <td>-0.345928</td>\n",
       "    </tr>\n",
       "    <tr>\n",
       "      <th>50%</th>\n",
       "      <td>-0.153942</td>\n",
       "    </tr>\n",
       "    <tr>\n",
       "      <th>75%</th>\n",
       "      <td>0.122397</td>\n",
       "    </tr>\n",
       "    <tr>\n",
       "      <th>max</th>\n",
       "      <td>1.352173</td>\n",
       "    </tr>\n",
       "  </tbody>\n",
       "</table>\n",
       "</div>"
      ],
      "text/plain": [
       "       Anomaly (deg C)\n",
       "count      2100.000000\n",
       "mean         -0.065022\n",
       "std           0.406237\n",
       "min          -1.044895\n",
       "25%          -0.345928\n",
       "50%          -0.153942\n",
       "75%           0.122397\n",
       "max           1.352173"
      ]
     },
     "execution_count": 77,
     "metadata": {},
     "output_type": "execute_result"
    }
   ],
   "source": [
    "MSTA.describe()"
   ]
  },
  {
   "cell_type": "code",
   "execution_count": 78,
   "metadata": {},
   "outputs": [
    {
     "data": {
      "text/plain": [
       "Anomaly (deg C)    0\n",
       "dtype: int64"
      ]
     },
     "execution_count": 78,
     "metadata": {},
     "output_type": "execute_result"
    }
   ],
   "source": [
    "MSTA.isna().sum()"
   ]
  },
  {
   "cell_type": "code",
   "execution_count": 79,
   "metadata": {},
   "outputs": [
    {
     "data": {
      "application/vnd.microsoft.datawrangler.viewer.v0+json": {
       "columns": [
        {
         "name": "Time",
         "rawType": "datetime64[ns]",
         "type": "datetime"
        },
        {
         "name": "Anomaly (deg C)",
         "rawType": "float64",
         "type": "float"
        }
       ],
       "conversionMethod": "pd.DataFrame",
       "ref": "76d73ed7-cf4e-4c9a-bfad-c5990665093b",
       "rows": [
        [
         "1950-01-01 00:00:00",
         "-0.3000435"
        ],
        [
         "1950-02-01 00:00:00",
         "-0.3700363"
        ],
        [
         "1950-03-01 00:00:00",
         "-0.21643846"
        ],
        [
         "1950-04-01 00:00:00",
         "-0.24361575"
        ],
        [
         "1950-05-01 00:00:00",
         "-0.13729782"
        ],
        [
         "1950-06-01 00:00:00",
         "-0.105043374"
        ],
        [
         "1950-07-01 00:00:00",
         "-0.10670231"
        ],
        [
         "1950-08-01 00:00:00",
         "-0.15261763"
        ],
        [
         "1950-09-01 00:00:00",
         "-0.24503586"
        ],
        [
         "1950-10-01 00:00:00",
         "-0.20104446"
        ],
        [
         "1950-11-01 00:00:00",
         "-0.38081577"
        ],
        [
         "1950-12-01 00:00:00",
         "-0.2607705"
        ],
        [
         "1951-01-01 00:00:00",
         "-0.3603426"
        ],
        [
         "1951-02-01 00:00:00",
         "-0.50937843"
        ],
        [
         "1951-03-01 00:00:00",
         "-0.2620192"
        ],
        [
         "1951-04-01 00:00:00",
         "-0.108077675"
        ],
        [
         "1951-05-01 00:00:00",
         "0.03226914"
        ],
        [
         "1951-06-01 00:00:00",
         "0.060181145"
        ],
        [
         "1951-07-01 00:00:00",
         "0.03866412"
        ],
        [
         "1951-08-01 00:00:00",
         "0.12133113"
        ],
        [
         "1951-09-01 00:00:00",
         "0.13226272"
        ],
        [
         "1951-10-01 00:00:00",
         "0.12436143"
        ],
        [
         "1951-11-01 00:00:00",
         "-0.07229671"
        ],
        [
         "1951-12-01 00:00:00",
         "0.06919738"
        ],
        [
         "1952-01-01 00:00:00",
         "0.09402649"
        ],
        [
         "1952-02-01 00:00:00",
         "0.068350874"
        ],
        [
         "1952-03-01 00:00:00",
         "-0.16353905"
        ],
        [
         "1952-04-01 00:00:00",
         "0.045588057"
        ],
        [
         "1952-05-01 00:00:00",
         "0.022243632"
        ],
        [
         "1952-06-01 00:00:00",
         "0.023484357"
        ],
        [
         "1952-07-01 00:00:00",
         "0.09006012"
        ],
        [
         "1952-08-01 00:00:00",
         "0.096942395"
        ],
        [
         "1952-09-01 00:00:00",
         "0.09621102"
        ],
        [
         "1952-10-01 00:00:00",
         "-0.016534438"
        ],
        [
         "1952-11-01 00:00:00",
         "-0.13228506"
        ],
        [
         "1952-12-01 00:00:00",
         "-0.040293824"
        ],
        [
         "1953-01-01 00:00:00",
         "-0.009005203"
        ],
        [
         "1953-02-01 00:00:00",
         "0.09501187"
        ],
        [
         "1953-03-01 00:00:00",
         "0.01800697"
        ],
        [
         "1953-04-01 00:00:00",
         "0.22455436"
        ],
        [
         "1953-05-01 00:00:00",
         "0.14901619"
        ],
        [
         "1953-06-01 00:00:00",
         "0.1404282"
        ],
        [
         "1953-07-01 00:00:00",
         "0.043144584"
        ],
        [
         "1953-08-01 00:00:00",
         "0.08707856"
        ],
        [
         "1953-09-01 00:00:00",
         "0.08630111"
        ],
        [
         "1953-10-01 00:00:00",
         "0.08342033"
        ],
        [
         "1953-11-01 00:00:00",
         "-0.0058099576"
        ],
        [
         "1953-12-01 00:00:00",
         "0.019422"
        ],
        [
         "1954-01-01 00:00:00",
         "-0.24345858"
        ],
        [
         "1954-02-01 00:00:00",
         "-0.08907446"
        ]
       ],
       "shape": {
        "columns": 1,
        "rows": 900
       }
      },
      "text/html": [
       "<div>\n",
       "<style scoped>\n",
       "    .dataframe tbody tr th:only-of-type {\n",
       "        vertical-align: middle;\n",
       "    }\n",
       "\n",
       "    .dataframe tbody tr th {\n",
       "        vertical-align: top;\n",
       "    }\n",
       "\n",
       "    .dataframe thead th {\n",
       "        text-align: right;\n",
       "    }\n",
       "</style>\n",
       "<table border=\"1\" class=\"dataframe\">\n",
       "  <thead>\n",
       "    <tr style=\"text-align: right;\">\n",
       "      <th></th>\n",
       "      <th>Anomaly (deg C)</th>\n",
       "    </tr>\n",
       "    <tr>\n",
       "      <th>Time</th>\n",
       "      <th></th>\n",
       "    </tr>\n",
       "  </thead>\n",
       "  <tbody>\n",
       "    <tr>\n",
       "      <th>1950-01-01</th>\n",
       "      <td>-0.300044</td>\n",
       "    </tr>\n",
       "    <tr>\n",
       "      <th>1950-02-01</th>\n",
       "      <td>-0.370036</td>\n",
       "    </tr>\n",
       "    <tr>\n",
       "      <th>1950-03-01</th>\n",
       "      <td>-0.216438</td>\n",
       "    </tr>\n",
       "    <tr>\n",
       "      <th>1950-04-01</th>\n",
       "      <td>-0.243616</td>\n",
       "    </tr>\n",
       "    <tr>\n",
       "      <th>1950-05-01</th>\n",
       "      <td>-0.137298</td>\n",
       "    </tr>\n",
       "    <tr>\n",
       "      <th>...</th>\n",
       "      <td>...</td>\n",
       "    </tr>\n",
       "    <tr>\n",
       "      <th>2024-08-01</th>\n",
       "      <td>1.239584</td>\n",
       "    </tr>\n",
       "    <tr>\n",
       "      <th>2024-09-01</th>\n",
       "      <td>1.144937</td>\n",
       "    </tr>\n",
       "    <tr>\n",
       "      <th>2024-10-01</th>\n",
       "      <td>1.199982</td>\n",
       "    </tr>\n",
       "    <tr>\n",
       "      <th>2024-11-01</th>\n",
       "      <td>1.225049</td>\n",
       "    </tr>\n",
       "    <tr>\n",
       "      <th>2024-12-01</th>\n",
       "      <td>1.096270</td>\n",
       "    </tr>\n",
       "  </tbody>\n",
       "</table>\n",
       "<p>900 rows × 1 columns</p>\n",
       "</div>"
      ],
      "text/plain": [
       "            Anomaly (deg C)\n",
       "Time                       \n",
       "1950-01-01        -0.300044\n",
       "1950-02-01        -0.370036\n",
       "1950-03-01        -0.216438\n",
       "1950-04-01        -0.243616\n",
       "1950-05-01        -0.137298\n",
       "...                     ...\n",
       "2024-08-01         1.239584\n",
       "2024-09-01         1.144937\n",
       "2024-10-01         1.199982\n",
       "2024-11-01         1.225049\n",
       "2024-12-01         1.096270\n",
       "\n",
       "[900 rows x 1 columns]"
      ]
     },
     "execution_count": 79,
     "metadata": {},
     "output_type": "execute_result"
    }
   ],
   "source": [
    "# Extract data from the year 1950 onwards\n",
    "MSTA_1950_onwards = MSTA[MSTA.index >= '1950-01-01']\n",
    "MSTA_1950_onwards"
   ]
  },
  {
   "cell_type": "markdown",
   "metadata": {},
   "source": [
    "### CH4"
   ]
  },
  {
   "cell_type": "code",
   "execution_count": 80,
   "metadata": {},
   "outputs": [],
   "source": [
    "CH4 = pd.read_excel('Data_36544086.xlsx', sheet_name='CH4',\n",
    "                header=0, \n",
    "                usecols=['Year', 'Month', 'NOAA CH4 (ppb)'], \n",
    "                parse_dates=True).squeeze()"
   ]
  },
  {
   "cell_type": "code",
   "execution_count": 81,
   "metadata": {},
   "outputs": [],
   "source": [
    "# Convert 'Year' and 'Month' to strings and concatenate them\n",
    "CH4['Time'] = CH4['Year'].astype(str) + '-' + CH4['Month'].astype(str).str.zfill(2)"
   ]
  },
  {
   "cell_type": "code",
   "execution_count": 82,
   "metadata": {},
   "outputs": [],
   "source": [
    "CH4 = CH4.drop(columns=['Year', 'Month'])\n",
    "CH4['Time'] = pd.to_datetime(CH4['Time'])\n",
    "CH4 = CH4.set_index('Time')\n"
   ]
  },
  {
   "cell_type": "code",
   "execution_count": 83,
   "metadata": {},
   "outputs": [
    {
     "data": {
      "text/plain": [
       "NOAA CH4 (ppb)    0\n",
       "dtype: int64"
      ]
     },
     "execution_count": 83,
     "metadata": {},
     "output_type": "execute_result"
    }
   ],
   "source": [
    "CH4.describe()\n",
    "CH4.isna().sum()"
   ]
  },
  {
   "cell_type": "code",
   "execution_count": 84,
   "metadata": {},
   "outputs": [
    {
     "data": {
      "application/vnd.microsoft.datawrangler.viewer.v0+json": {
       "columns": [
        {
         "name": "Time",
         "rawType": "datetime64[ns]",
         "type": "datetime"
        },
        {
         "name": "NOAA CH4 (ppb)",
         "rawType": "float64",
         "type": "float"
        }
       ],
       "conversionMethod": "pd.DataFrame",
       "ref": "4ce1cd75-00f7-4234-95b0-35a25d05df7f",
       "rows": [
        [
         "1983-07-01 00:00:00",
         "1625.95"
        ],
        [
         "1983-08-01 00:00:00",
         "1628.05"
        ],
        [
         "1983-09-01 00:00:00",
         "1638.44"
        ],
        [
         "1983-10-01 00:00:00",
         "1644.8"
        ],
        [
         "1983-11-01 00:00:00",
         "1642.59"
        ],
        [
         "1983-12-01 00:00:00",
         "1639.56"
        ],
        [
         "1984-01-01 00:00:00",
         "1638.73"
        ],
        [
         "1984-02-01 00:00:00",
         "1638.78"
        ],
        [
         "1984-03-01 00:00:00",
         "1640.88"
        ],
        [
         "1984-04-01 00:00:00",
         "1643.98"
        ],
        [
         "1984-05-01 00:00:00",
         "1643.13"
        ],
        [
         "1984-06-01 00:00:00",
         "1639.76"
        ],
        [
         "1984-07-01 00:00:00",
         "1638.0"
        ],
        [
         "1984-08-01 00:00:00",
         "1641.68"
        ],
        [
         "1984-09-01 00:00:00",
         "1650.62"
        ],
        [
         "1984-10-01 00:00:00",
         "1654.59"
        ],
        [
         "1984-11-01 00:00:00",
         "1653.77"
        ],
        [
         "1984-12-01 00:00:00",
         "1656.23"
        ],
        [
         "1985-01-01 00:00:00",
         "1655.6"
        ],
        [
         "1985-02-01 00:00:00",
         "1652.21"
        ],
        [
         "1985-03-01 00:00:00",
         "1654.62"
        ],
        [
         "1985-04-01 00:00:00",
         "1658.2"
        ],
        [
         "1985-05-01 00:00:00",
         "1655.86"
        ],
        [
         "1985-06-01 00:00:00",
         "1650.07"
        ],
        [
         "1985-07-01 00:00:00",
         "1646.81"
        ],
        [
         "1985-08-01 00:00:00",
         "1652.23"
        ],
        [
         "1985-09-01 00:00:00",
         "1662.5"
        ],
        [
         "1985-10-01 00:00:00",
         "1667.49"
        ],
        [
         "1985-11-01 00:00:00",
         "1666.79"
        ],
        [
         "1985-12-01 00:00:00",
         "1666.08"
        ],
        [
         "1986-01-01 00:00:00",
         "1666.28"
        ],
        [
         "1986-02-01 00:00:00",
         "1666.89"
        ],
        [
         "1986-03-01 00:00:00",
         "1669.28"
        ],
        [
         "1986-04-01 00:00:00",
         "1670.81"
        ],
        [
         "1986-05-01 00:00:00",
         "1668.43"
        ],
        [
         "1986-06-01 00:00:00",
         "1664.78"
        ],
        [
         "1986-07-01 00:00:00",
         "1662.33"
        ],
        [
         "1986-08-01 00:00:00",
         "1664.36"
        ],
        [
         "1986-09-01 00:00:00",
         "1672.59"
        ],
        [
         "1986-10-01 00:00:00",
         "1678.67"
        ],
        [
         "1986-11-01 00:00:00",
         "1678.97"
        ],
        [
         "1986-12-01 00:00:00",
         "1679.14"
        ],
        [
         "1987-01-01 00:00:00",
         "1679.39"
        ],
        [
         "1987-02-01 00:00:00",
         "1679.0"
        ],
        [
         "1987-03-01 00:00:00",
         "1680.04"
        ],
        [
         "1987-04-01 00:00:00",
         "1681.35"
        ],
        [
         "1987-05-01 00:00:00",
         "1681.83"
        ],
        [
         "1987-06-01 00:00:00",
         "1680.0"
        ],
        [
         "1987-07-01 00:00:00",
         "1675.96"
        ],
        [
         "1987-08-01 00:00:00",
         "1677.15"
        ]
       ],
       "shape": {
        "columns": 1,
        "rows": 495
       }
      },
      "text/html": [
       "<div>\n",
       "<style scoped>\n",
       "    .dataframe tbody tr th:only-of-type {\n",
       "        vertical-align: middle;\n",
       "    }\n",
       "\n",
       "    .dataframe tbody tr th {\n",
       "        vertical-align: top;\n",
       "    }\n",
       "\n",
       "    .dataframe thead th {\n",
       "        text-align: right;\n",
       "    }\n",
       "</style>\n",
       "<table border=\"1\" class=\"dataframe\">\n",
       "  <thead>\n",
       "    <tr style=\"text-align: right;\">\n",
       "      <th></th>\n",
       "      <th>NOAA CH4 (ppb)</th>\n",
       "    </tr>\n",
       "    <tr>\n",
       "      <th>Time</th>\n",
       "      <th></th>\n",
       "    </tr>\n",
       "  </thead>\n",
       "  <tbody>\n",
       "    <tr>\n",
       "      <th>1983-07-01</th>\n",
       "      <td>1625.95</td>\n",
       "    </tr>\n",
       "    <tr>\n",
       "      <th>1983-08-01</th>\n",
       "      <td>1628.05</td>\n",
       "    </tr>\n",
       "    <tr>\n",
       "      <th>1983-09-01</th>\n",
       "      <td>1638.44</td>\n",
       "    </tr>\n",
       "    <tr>\n",
       "      <th>1983-10-01</th>\n",
       "      <td>1644.80</td>\n",
       "    </tr>\n",
       "    <tr>\n",
       "      <th>1983-11-01</th>\n",
       "      <td>1642.59</td>\n",
       "    </tr>\n",
       "    <tr>\n",
       "      <th>...</th>\n",
       "      <td>...</td>\n",
       "    </tr>\n",
       "    <tr>\n",
       "      <th>2024-05-01</th>\n",
       "      <td>1926.36</td>\n",
       "    </tr>\n",
       "    <tr>\n",
       "      <th>2024-06-01</th>\n",
       "      <td>1921.77</td>\n",
       "    </tr>\n",
       "    <tr>\n",
       "      <th>2024-07-01</th>\n",
       "      <td>1921.03</td>\n",
       "    </tr>\n",
       "    <tr>\n",
       "      <th>2024-08-01</th>\n",
       "      <td>1926.83</td>\n",
       "    </tr>\n",
       "    <tr>\n",
       "      <th>2024-09-01</th>\n",
       "      <td>1936.64</td>\n",
       "    </tr>\n",
       "  </tbody>\n",
       "</table>\n",
       "<p>495 rows × 1 columns</p>\n",
       "</div>"
      ],
      "text/plain": [
       "            NOAA CH4 (ppb)\n",
       "Time                      \n",
       "1983-07-01         1625.95\n",
       "1983-08-01         1628.05\n",
       "1983-09-01         1638.44\n",
       "1983-10-01         1644.80\n",
       "1983-11-01         1642.59\n",
       "...                    ...\n",
       "2024-05-01         1926.36\n",
       "2024-06-01         1921.77\n",
       "2024-07-01         1921.03\n",
       "2024-08-01         1926.83\n",
       "2024-09-01         1936.64\n",
       "\n",
       "[495 rows x 1 columns]"
      ]
     },
     "execution_count": 84,
     "metadata": {},
     "output_type": "execute_result"
    }
   ],
   "source": [
    "CH4"
   ]
  },
  {
   "cell_type": "markdown",
   "metadata": {},
   "source": [
    "### GMAF"
   ]
  },
  {
   "cell_type": "code",
   "execution_count": 85,
   "metadata": {},
   "outputs": [],
   "source": [
    "GMAF = pd.read_excel('Data_36544086.xlsx', sheet_name='GMAF',\n",
    "                    header=None,\n",
    "                    skiprows=227,\n",
    "                    usecols=[0,2],\n",
    "                    names=['Time', 'Passenger Count'], \n",
    "                    parse_dates=True).squeeze()"
   ]
  },
  {
   "cell_type": "code",
   "execution_count": 86,
   "metadata": {},
   "outputs": [],
   "source": [
    "# Reset the index to access the 'Time' column\n",
    "#GMAF = GMAF.reset_index()\n",
    "\n",
    "# Convert the 'Time' column to datetime format\n",
    "GMAF['Time'] = pd.to_datetime(GMAF['Time'], format='%Y %b')\n",
    "\n",
    "# Format the dates to 'YYYY-MM'\n",
    "GMAF['Time'] = GMAF['Time'].dt.strftime('%Y-%m')\n",
    "\n",
    "GMAF['Time'] = pd.to_datetime(GMAF['Time'])\n",
    "\n",
    "# Set 'Time' column back as the index\n",
    "GMAF = GMAF.set_index('Time')"
   ]
  },
  {
   "cell_type": "code",
   "execution_count": 87,
   "metadata": {},
   "outputs": [],
   "source": [
    "GMAF['Passenger Count'] = GMAF['Passenger Count'].astype(int)"
   ]
  },
  {
   "cell_type": "code",
   "execution_count": 88,
   "metadata": {},
   "outputs": [
    {
     "data": {
      "application/vnd.microsoft.datawrangler.viewer.v0+json": {
       "columns": [
        {
         "name": "index",
         "rawType": "object",
         "type": "string"
        },
        {
         "name": "Passenger Count",
         "rawType": "float64",
         "type": "float"
        }
       ],
       "conversionMethod": "pd.DataFrame",
       "ref": "97054f81-5e3c-4805-930f-9fa2943b98ca",
       "rows": [
        [
         "count",
         "528.0"
        ],
        [
         "mean",
         "4259.448863636364"
        ],
        [
         "std",
         "2304.9164418329187"
        ],
        [
         "min",
         "150.0"
        ],
        [
         "25%",
         "2475.5"
        ],
        [
         "50%",
         "4033.0"
        ],
        [
         "75%",
         "5793.25"
        ],
        [
         "max",
         "11628.0"
        ]
       ],
       "shape": {
        "columns": 1,
        "rows": 8
       }
      },
      "text/html": [
       "<div>\n",
       "<style scoped>\n",
       "    .dataframe tbody tr th:only-of-type {\n",
       "        vertical-align: middle;\n",
       "    }\n",
       "\n",
       "    .dataframe tbody tr th {\n",
       "        vertical-align: top;\n",
       "    }\n",
       "\n",
       "    .dataframe thead th {\n",
       "        text-align: right;\n",
       "    }\n",
       "</style>\n",
       "<table border=\"1\" class=\"dataframe\">\n",
       "  <thead>\n",
       "    <tr style=\"text-align: right;\">\n",
       "      <th></th>\n",
       "      <th>Passenger Count</th>\n",
       "    </tr>\n",
       "  </thead>\n",
       "  <tbody>\n",
       "    <tr>\n",
       "      <th>count</th>\n",
       "      <td>528.000000</td>\n",
       "    </tr>\n",
       "    <tr>\n",
       "      <th>mean</th>\n",
       "      <td>4259.448864</td>\n",
       "    </tr>\n",
       "    <tr>\n",
       "      <th>std</th>\n",
       "      <td>2304.916442</td>\n",
       "    </tr>\n",
       "    <tr>\n",
       "      <th>min</th>\n",
       "      <td>150.000000</td>\n",
       "    </tr>\n",
       "    <tr>\n",
       "      <th>25%</th>\n",
       "      <td>2475.500000</td>\n",
       "    </tr>\n",
       "    <tr>\n",
       "      <th>50%</th>\n",
       "      <td>4033.000000</td>\n",
       "    </tr>\n",
       "    <tr>\n",
       "      <th>75%</th>\n",
       "      <td>5793.250000</td>\n",
       "    </tr>\n",
       "    <tr>\n",
       "      <th>max</th>\n",
       "      <td>11628.000000</td>\n",
       "    </tr>\n",
       "  </tbody>\n",
       "</table>\n",
       "</div>"
      ],
      "text/plain": [
       "       Passenger Count\n",
       "count       528.000000\n",
       "mean       4259.448864\n",
       "std        2304.916442\n",
       "min         150.000000\n",
       "25%        2475.500000\n",
       "50%        4033.000000\n",
       "75%        5793.250000\n",
       "max       11628.000000"
      ]
     },
     "execution_count": 88,
     "metadata": {},
     "output_type": "execute_result"
    }
   ],
   "source": [
    "GMAF.describe()"
   ]
  },
  {
   "cell_type": "code",
   "execution_count": 89,
   "metadata": {},
   "outputs": [
    {
     "data": {
      "text/plain": [
       "Passenger Count    0\n",
       "dtype: int64"
      ]
     },
     "execution_count": 89,
     "metadata": {},
     "output_type": "execute_result"
    }
   ],
   "source": [
    "GMAF.isna().sum()"
   ]
  },
  {
   "cell_type": "markdown",
   "metadata": {},
   "source": [
    "### ET12"
   ]
  },
  {
   "cell_type": "code",
   "execution_count": 90,
   "metadata": {},
   "outputs": [],
   "source": [
    "ET12 = pd.read_excel('Data_36544086.xlsx', sheet_name='ET12',\n",
    "                                    header=None,\n",
    "                                    skiprows= 6,\n",
    "                                    usecols=[0,1],\n",
    "                                    names=['Time', 'Unadjusted Total'], parse_dates=True).squeeze()"
   ]
  },
  {
   "cell_type": "code",
   "execution_count": 91,
   "metadata": {},
   "outputs": [],
   "source": [
    "ET12 = ET12.set_index('Time')"
   ]
  },
  {
   "cell_type": "code",
   "execution_count": 92,
   "metadata": {},
   "outputs": [],
   "source": [
    "ET12['Unadjusted Total'] = ET12['Unadjusted Total'].round(2)"
   ]
  },
  {
   "cell_type": "code",
   "execution_count": 93,
   "metadata": {},
   "outputs": [],
   "source": [
    "# Reset the index to access the 'Time' column\n",
    "ET12 = ET12.reset_index()\n",
    "\n",
    "# Clean the 'Time' column to remove unwanted characters or spaces\n",
    "ET12['Time'] = ET12['Time'].str.replace(r'\\[.*\\]', '', regex=True).str.strip()\n",
    "\n",
    "# Convert the 'Time' column to datetime format\n",
    "ET12['Time'] = pd.to_datetime(ET12['Time'], format='%B %Y')\n",
    "\n",
    "# Format the dates to 'YYYY-MM'\n",
    "ET12['Time'] = ET12['Time'].dt.strftime('%Y-%m')\n",
    "\n",
    "# Set 'Time' column back as the index\n",
    "ET12['Time'] = pd.to_datetime(ET12['Time'])\n",
    "ET12 = ET12.set_index('Time')"
   ]
  },
  {
   "cell_type": "code",
   "execution_count": 94,
   "metadata": {},
   "outputs": [
    {
     "data": {
      "application/vnd.microsoft.datawrangler.viewer.v0+json": {
       "columns": [
        {
         "name": "index",
         "rawType": "object",
         "type": "string"
        },
        {
         "name": "Unadjusted Total",
         "rawType": "float64",
         "type": "float"
        }
       ],
       "conversionMethod": "pd.DataFrame",
       "ref": "c9f2f7b6-b6fc-44f0-bc98-09651077c6f2",
       "rows": [
        [
         "count",
         "360.0"
        ],
        [
         "mean",
         "17.36963888888889"
        ],
        [
         "std",
         "3.3742627599012947"
        ],
        [
         "min",
         "10.02"
        ],
        [
         "25%",
         "14.89"
        ],
        [
         "50%",
         "16.9"
        ],
        [
         "75%",
         "19.735"
        ],
        [
         "max",
         "25.02"
        ]
       ],
       "shape": {
        "columns": 1,
        "rows": 8
       }
      },
      "text/html": [
       "<div>\n",
       "<style scoped>\n",
       "    .dataframe tbody tr th:only-of-type {\n",
       "        vertical-align: middle;\n",
       "    }\n",
       "\n",
       "    .dataframe tbody tr th {\n",
       "        vertical-align: top;\n",
       "    }\n",
       "\n",
       "    .dataframe thead th {\n",
       "        text-align: right;\n",
       "    }\n",
       "</style>\n",
       "<table border=\"1\" class=\"dataframe\">\n",
       "  <thead>\n",
       "    <tr style=\"text-align: right;\">\n",
       "      <th></th>\n",
       "      <th>Unadjusted Total</th>\n",
       "    </tr>\n",
       "  </thead>\n",
       "  <tbody>\n",
       "    <tr>\n",
       "      <th>count</th>\n",
       "      <td>360.000000</td>\n",
       "    </tr>\n",
       "    <tr>\n",
       "      <th>mean</th>\n",
       "      <td>17.369639</td>\n",
       "    </tr>\n",
       "    <tr>\n",
       "      <th>std</th>\n",
       "      <td>3.374263</td>\n",
       "    </tr>\n",
       "    <tr>\n",
       "      <th>min</th>\n",
       "      <td>10.020000</td>\n",
       "    </tr>\n",
       "    <tr>\n",
       "      <th>25%</th>\n",
       "      <td>14.890000</td>\n",
       "    </tr>\n",
       "    <tr>\n",
       "      <th>50%</th>\n",
       "      <td>16.900000</td>\n",
       "    </tr>\n",
       "    <tr>\n",
       "      <th>75%</th>\n",
       "      <td>19.735000</td>\n",
       "    </tr>\n",
       "    <tr>\n",
       "      <th>max</th>\n",
       "      <td>25.020000</td>\n",
       "    </tr>\n",
       "  </tbody>\n",
       "</table>\n",
       "</div>"
      ],
      "text/plain": [
       "       Unadjusted Total\n",
       "count        360.000000\n",
       "mean          17.369639\n",
       "std            3.374263\n",
       "min           10.020000\n",
       "25%           14.890000\n",
       "50%           16.900000\n",
       "75%           19.735000\n",
       "max           25.020000"
      ]
     },
     "execution_count": 94,
     "metadata": {},
     "output_type": "execute_result"
    }
   ],
   "source": [
    "ET12.describe()"
   ]
  },
  {
   "cell_type": "code",
   "execution_count": 95,
   "metadata": {},
   "outputs": [
    {
     "data": {
      "text/plain": [
       "Unadjusted Total    0\n",
       "dtype: int64"
      ]
     },
     "execution_count": 95,
     "metadata": {},
     "output_type": "execute_result"
    }
   ],
   "source": [
    "ET12.isna().sum()"
   ]
  },
  {
   "cell_type": "markdown",
   "metadata": {},
   "source": [
    "### Calendar Adjustment"
   ]
  },
  {
   "cell_type": "code",
   "execution_count": 96,
   "metadata": {},
   "outputs": [],
   "source": [
    "variables = [MSTA_1950_onwards, CH4, GMAF, ET12]"
   ]
  },
  {
   "cell_type": "code",
   "execution_count": 97,
   "metadata": {},
   "outputs": [
    {
     "name": "stderr",
     "output_type": "stream",
     "text": [
      "C:\\Users\\admin\\AppData\\Local\\Temp\\ipykernel_26532\\3493902977.py:4: SettingWithCopyWarning: \n",
      "A value is trying to be set on a copy of a slice from a DataFrame.\n",
      "Try using .loc[row_indexer,col_indexer] = value instead\n",
      "\n",
      "See the caveats in the documentation: https://pandas.pydata.org/pandas-docs/stable/user_guide/indexing.html#returning-a-view-versus-a-copy\n",
      "  df[\"Days\"] = np.nan\n",
      "C:\\Users\\admin\\AppData\\Local\\Temp\\ipykernel_26532\\3493902977.py:9: SettingWithCopyWarning: \n",
      "A value is trying to be set on a copy of a slice from a DataFrame.\n",
      "Try using .loc[row_indexer,col_indexer] = value instead\n",
      "\n",
      "See the caveats in the documentation: https://pandas.pydata.org/pandas-docs/stable/user_guide/indexing.html#returning-a-view-versus-a-copy\n",
      "  df[\"Adjusted Data\"] = (df.iloc[:, 0] * 365.25 / (12 * df[\"Days\"])).round(2)\n"
     ]
    }
   ],
   "source": [
    "#Calendar adjustment\n",
    "# Create empty column for days in the month\n",
    "def calendar_adjustment(df):\n",
    "    df[\"Days\"] = np.nan\n",
    "    # Fill empty columns with the days per calendar month\n",
    "    for date in df.index:\n",
    "        df.loc[date, \"Days\"] = calendar.monthrange(date.year, date.month)[1]\n",
    "    # Perform calendar adjustment\n",
    "    df[\"Adjusted Data\"] = (df.iloc[:, 0] * 365.25 / (12 * df[\"Days\"])).round(2)\n",
    "\n",
    "\n",
    "#for i in variables:\n",
    "for i in [MSTA_1950_onwards, GMAF, ET12]:\n",
    "    calendar_adjustment(i)"
   ]
  },
  {
   "cell_type": "code",
   "execution_count": 98,
   "metadata": {},
   "outputs": [],
   "source": [
    "# CH4 = CH4.drop(columns=['Days', 'NOAA CH4 (ppb)'])\n",
    "MSTA_1950_onwards = MSTA_1950_onwards.drop(columns=['Days', 'Anomaly (deg C)'])\n",
    "GMAF = GMAF.drop(columns=['Days', 'Passenger Count'])\n",
    "ET12 = ET12.drop(columns=['Days', 'Unadjusted Total'])"
   ]
  },
  {
   "cell_type": "code",
   "execution_count": 99,
   "metadata": {},
   "outputs": [],
   "source": [
    "def rename_columns(df, df_name):\n",
    "    df = df.rename(columns={'Adjusted Data': df_name})\n",
    "    return df"
   ]
  },
  {
   "cell_type": "code",
   "execution_count": 100,
   "metadata": {},
   "outputs": [],
   "source": [
    "# CH4 = rename_columns(CH4, 'CH4 (adjusted)')\n",
    "MSTA_1950_onwards = rename_columns(MSTA_1950_onwards, 'Anomaly (adjusted deg C)')#\n",
    "GMAF = rename_columns(GMAF, 'Passenger Count (adjusted)')\n",
    "ET12 = rename_columns(ET12, 'Total ET12 (adjusted)')"
   ]
  },
  {
   "cell_type": "code",
   "execution_count": 101,
   "metadata": {},
   "outputs": [
    {
     "data": {
      "application/vnd.microsoft.datawrangler.viewer.v0+json": {
       "columns": [
        {
         "name": "Time",
         "rawType": "datetime64[ns]",
         "type": "datetime"
        },
        {
         "name": "NOAA CH4 (ppb)",
         "rawType": "float64",
         "type": "float"
        }
       ],
       "conversionMethod": "pd.DataFrame",
       "ref": "e81e8b01-a947-4b3a-8c39-0d5a8fff6414",
       "rows": [
        [
         "1983-07-01 00:00:00",
         "1625.95"
        ],
        [
         "1983-08-01 00:00:00",
         "1628.05"
        ],
        [
         "1983-09-01 00:00:00",
         "1638.44"
        ],
        [
         "1983-10-01 00:00:00",
         "1644.8"
        ],
        [
         "1983-11-01 00:00:00",
         "1642.59"
        ],
        [
         "1983-12-01 00:00:00",
         "1639.56"
        ],
        [
         "1984-01-01 00:00:00",
         "1638.73"
        ],
        [
         "1984-02-01 00:00:00",
         "1638.78"
        ],
        [
         "1984-03-01 00:00:00",
         "1640.88"
        ],
        [
         "1984-04-01 00:00:00",
         "1643.98"
        ],
        [
         "1984-05-01 00:00:00",
         "1643.13"
        ],
        [
         "1984-06-01 00:00:00",
         "1639.76"
        ],
        [
         "1984-07-01 00:00:00",
         "1638.0"
        ],
        [
         "1984-08-01 00:00:00",
         "1641.68"
        ],
        [
         "1984-09-01 00:00:00",
         "1650.62"
        ],
        [
         "1984-10-01 00:00:00",
         "1654.59"
        ],
        [
         "1984-11-01 00:00:00",
         "1653.77"
        ],
        [
         "1984-12-01 00:00:00",
         "1656.23"
        ],
        [
         "1985-01-01 00:00:00",
         "1655.6"
        ],
        [
         "1985-02-01 00:00:00",
         "1652.21"
        ],
        [
         "1985-03-01 00:00:00",
         "1654.62"
        ],
        [
         "1985-04-01 00:00:00",
         "1658.2"
        ],
        [
         "1985-05-01 00:00:00",
         "1655.86"
        ],
        [
         "1985-06-01 00:00:00",
         "1650.07"
        ],
        [
         "1985-07-01 00:00:00",
         "1646.81"
        ],
        [
         "1985-08-01 00:00:00",
         "1652.23"
        ],
        [
         "1985-09-01 00:00:00",
         "1662.5"
        ],
        [
         "1985-10-01 00:00:00",
         "1667.49"
        ],
        [
         "1985-11-01 00:00:00",
         "1666.79"
        ],
        [
         "1985-12-01 00:00:00",
         "1666.08"
        ],
        [
         "1986-01-01 00:00:00",
         "1666.28"
        ],
        [
         "1986-02-01 00:00:00",
         "1666.89"
        ],
        [
         "1986-03-01 00:00:00",
         "1669.28"
        ],
        [
         "1986-04-01 00:00:00",
         "1670.81"
        ],
        [
         "1986-05-01 00:00:00",
         "1668.43"
        ],
        [
         "1986-06-01 00:00:00",
         "1664.78"
        ],
        [
         "1986-07-01 00:00:00",
         "1662.33"
        ],
        [
         "1986-08-01 00:00:00",
         "1664.36"
        ],
        [
         "1986-09-01 00:00:00",
         "1672.59"
        ],
        [
         "1986-10-01 00:00:00",
         "1678.67"
        ],
        [
         "1986-11-01 00:00:00",
         "1678.97"
        ],
        [
         "1986-12-01 00:00:00",
         "1679.14"
        ],
        [
         "1987-01-01 00:00:00",
         "1679.39"
        ],
        [
         "1987-02-01 00:00:00",
         "1679.0"
        ],
        [
         "1987-03-01 00:00:00",
         "1680.04"
        ],
        [
         "1987-04-01 00:00:00",
         "1681.35"
        ],
        [
         "1987-05-01 00:00:00",
         "1681.83"
        ],
        [
         "1987-06-01 00:00:00",
         "1680.0"
        ],
        [
         "1987-07-01 00:00:00",
         "1675.96"
        ],
        [
         "1987-08-01 00:00:00",
         "1677.15"
        ]
       ],
       "shape": {
        "columns": 1,
        "rows": 495
       }
      },
      "text/html": [
       "<div>\n",
       "<style scoped>\n",
       "    .dataframe tbody tr th:only-of-type {\n",
       "        vertical-align: middle;\n",
       "    }\n",
       "\n",
       "    .dataframe tbody tr th {\n",
       "        vertical-align: top;\n",
       "    }\n",
       "\n",
       "    .dataframe thead th {\n",
       "        text-align: right;\n",
       "    }\n",
       "</style>\n",
       "<table border=\"1\" class=\"dataframe\">\n",
       "  <thead>\n",
       "    <tr style=\"text-align: right;\">\n",
       "      <th></th>\n",
       "      <th>NOAA CH4 (ppb)</th>\n",
       "    </tr>\n",
       "    <tr>\n",
       "      <th>Time</th>\n",
       "      <th></th>\n",
       "    </tr>\n",
       "  </thead>\n",
       "  <tbody>\n",
       "    <tr>\n",
       "      <th>1983-07-01</th>\n",
       "      <td>1625.95</td>\n",
       "    </tr>\n",
       "    <tr>\n",
       "      <th>1983-08-01</th>\n",
       "      <td>1628.05</td>\n",
       "    </tr>\n",
       "    <tr>\n",
       "      <th>1983-09-01</th>\n",
       "      <td>1638.44</td>\n",
       "    </tr>\n",
       "    <tr>\n",
       "      <th>1983-10-01</th>\n",
       "      <td>1644.80</td>\n",
       "    </tr>\n",
       "    <tr>\n",
       "      <th>1983-11-01</th>\n",
       "      <td>1642.59</td>\n",
       "    </tr>\n",
       "    <tr>\n",
       "      <th>...</th>\n",
       "      <td>...</td>\n",
       "    </tr>\n",
       "    <tr>\n",
       "      <th>2024-05-01</th>\n",
       "      <td>1926.36</td>\n",
       "    </tr>\n",
       "    <tr>\n",
       "      <th>2024-06-01</th>\n",
       "      <td>1921.77</td>\n",
       "    </tr>\n",
       "    <tr>\n",
       "      <th>2024-07-01</th>\n",
       "      <td>1921.03</td>\n",
       "    </tr>\n",
       "    <tr>\n",
       "      <th>2024-08-01</th>\n",
       "      <td>1926.83</td>\n",
       "    </tr>\n",
       "    <tr>\n",
       "      <th>2024-09-01</th>\n",
       "      <td>1936.64</td>\n",
       "    </tr>\n",
       "  </tbody>\n",
       "</table>\n",
       "<p>495 rows × 1 columns</p>\n",
       "</div>"
      ],
      "text/plain": [
       "            NOAA CH4 (ppb)\n",
       "Time                      \n",
       "1983-07-01         1625.95\n",
       "1983-08-01         1628.05\n",
       "1983-09-01         1638.44\n",
       "1983-10-01         1644.80\n",
       "1983-11-01         1642.59\n",
       "...                    ...\n",
       "2024-05-01         1926.36\n",
       "2024-06-01         1921.77\n",
       "2024-07-01         1921.03\n",
       "2024-08-01         1926.83\n",
       "2024-09-01         1936.64\n",
       "\n",
       "[495 rows x 1 columns]"
      ]
     },
     "execution_count": 101,
     "metadata": {},
     "output_type": "execute_result"
    }
   ],
   "source": [
    "CH4"
   ]
  },
  {
   "cell_type": "code",
   "execution_count": 102,
   "metadata": {},
   "outputs": [],
   "source": [
    "# Add frequency to the index\n",
    "def frequency_add(i):\n",
    "    i.index = pd.DatetimeIndex(i.index.values, freq=i.index.inferred_freq)\n",
    "\n",
    "for i in variables:\n",
    "    frequency_add(i)"
   ]
  },
  {
   "cell_type": "code",
   "execution_count": 103,
   "metadata": {},
   "outputs": [],
   "source": [
    "# Set the name attribute for each DataFrame\n",
    "variables[0].name = 'MSTA_1950_onwards'\n",
    "variables[1].name = 'CH4'\n",
    "variables[2].name = 'GMAF'\n",
    "variables[3].name = 'ET12'"
   ]
  },
  {
   "cell_type": "markdown",
   "metadata": {},
   "source": [
    "### Log Transformation\n"
   ]
  },
  {
   "cell_type": "code",
   "execution_count": 104,
   "metadata": {},
   "outputs": [
    {
     "data": {
      "application/vnd.microsoft.datawrangler.viewer.v0+json": {
       "columns": [
        {
         "name": "Time",
         "rawType": "datetime64[ns]",
         "type": "datetime"
        },
        {
         "name": "Passenger Count (adjusted)",
         "rawType": "float64",
         "type": "float"
        },
        {
         "name": "Log Data",
         "rawType": "float64",
         "type": "float"
        }
       ],
       "conversionMethod": "pd.DataFrame",
       "ref": "fc000c1d-ba63-4986-82aa-f59b1f1bfa43",
       "rows": [
        [
         "1980-01-01 00:00:00",
         "808.07",
         "6.6946486884319825"
        ],
        [
         "1980-02-01 00:00:00",
         "818.66",
         "6.7076688572432905"
        ],
        [
         "1980-03-01 00:00:00",
         "1038.8",
         "6.945821479788593"
        ],
        [
         "1980-04-01 00:00:00",
         "1417.37",
         "7.256558320637841"
        ],
        [
         "1980-05-01 00:00:00",
         "1411.91",
         "7.252698676644976"
        ],
        [
         "1980-06-01 00:00:00",
         "1847.56",
         "7.521621128614363"
        ],
        [
         "1980-07-01 00:00:00",
         "1914.62",
         "7.557274448503865"
        ],
        [
         "1980-08-01 00:00:00",
         "2726.61",
         "7.910814358316638"
        ],
        [
         "1980-09-01 00:00:00",
         "2290.93",
         "7.73671312764362"
        ],
        [
         "1980-10-01 00:00:00",
         "1481.62",
         "7.300891362720892"
        ],
        [
         "1980-11-01 00:00:00",
         "1018.64",
         "6.92622368326518"
        ],
        [
         "1980-12-01 00:00:00",
         "677.48",
         "6.518380032022921"
        ],
        [
         "1981-01-01 00:00:00",
         "817.89",
         "6.7067278532326355"
        ],
        [
         "1981-02-01 00:00:00",
         "889.21",
         "6.790333428090682"
        ],
        [
         "1981-03-01 00:00:00",
         "1047.64",
         "6.954295294417033"
        ],
        [
         "1981-04-01 00:00:00",
         "1543.18",
         "7.341600501424592"
        ],
        [
         "1981-05-01 00:00:00",
         "1530.71",
         "7.333486959035099"
        ],
        [
         "1981-06-01 00:00:00",
         "1854.66",
         "7.525456669832459"
        ],
        [
         "1981-07-01 00:00:00",
         "2137.5",
         "7.667392200810915"
        ],
        [
         "1981-08-01 00:00:00",
         "3085.97",
         "8.034621311553755"
        ],
        [
         "1981-09-01 00:00:00",
         "2584.14",
         "7.857148043001396"
        ],
        [
         "1981-10-01 00:00:00",
         "1779.12",
         "7.483874139016574"
        ],
        [
         "1981-11-01 00:00:00",
         "1020.67",
         "6.928214553383508"
        ],
        [
         "1981-12-01 00:00:00",
         "723.63",
         "6.584280212031541"
        ],
        [
         "1982-01-01 00:00:00",
         "944.54",
         "6.850698036494783"
        ],
        [
         "1982-02-01 00:00:00",
         "947.91",
         "6.854259561039386"
        ],
        [
         "1982-03-01 00:00:00",
         "1085.93",
         "6.990192041694542"
        ],
        [
         "1982-04-01 00:00:00",
         "1695.37",
         "7.4356562850785"
        ],
        [
         "1982-05-01 00:00:00",
         "1496.35",
         "7.310784088389951"
        ],
        [
         "1982-06-01 00:00:00",
         "2293.97",
         "7.738039220010081"
        ],
        [
         "1982-07-01 00:00:00",
         "2206.23",
         "7.6990404554847105"
        ],
        [
         "1982-08-01 00:00:00",
         "3208.7",
         "8.073621149672046"
        ],
        [
         "1982-09-01 00:00:00",
         "2780.97",
         "7.930555066689264"
        ],
        [
         "1982-10-01 00:00:00",
         "1981.38",
         "7.591548850614967"
        ],
        [
         "1982-11-01 00:00:00",
         "1102.85",
         "7.005653017258597"
        ],
        [
         "1982-12-01 00:00:00",
         "838.5",
         "6.731614581263264"
        ],
        [
         "1983-01-01 00:00:00",
         "929.82",
         "6.834991019027298"
        ],
        [
         "1983-02-01 00:00:00",
         "951.17",
         "6.857692805770709"
        ],
        [
         "1983-03-01 00:00:00",
         "1135.02",
         "7.034405550905627"
        ],
        [
         "1983-04-01 00:00:00",
         "1639.57",
         "7.402189291317143"
        ],
        [
         "1983-05-01 00:00:00",
         "1616.13",
         "7.387789681390026"
        ],
        [
         "1983-06-01 00:00:00",
         "2173.24",
         "7.683974420545159"
        ],
        [
         "1983-07-01 00:00:00",
         "2628.43",
         "7.874141988746432"
        ],
        [
         "1983-08-01 00:00:00",
         "3129.17",
         "8.04852307265005"
        ],
        [
         "1983-09-01 00:00:00",
         "2750.54",
         "7.919552535020165"
        ],
        [
         "1983-10-01 00:00:00",
         "1990.22",
         "7.59600046437185"
        ],
        [
         "1983-11-01 00:00:00",
         "1114.01",
         "7.0157213971076215"
        ],
        [
         "1983-12-01 00:00:00",
         "895.45",
         "6.797326385212749"
        ],
        [
         "1984-01-01 00:00:00",
         "1016.22",
         "6.9238451401310845"
        ],
        [
         "1984-02-01 00:00:00",
         "928.87",
         "6.833968793607541"
        ]
       ],
       "shape": {
        "columns": 2,
        "rows": 528
       }
      },
      "text/html": [
       "<div>\n",
       "<style scoped>\n",
       "    .dataframe tbody tr th:only-of-type {\n",
       "        vertical-align: middle;\n",
       "    }\n",
       "\n",
       "    .dataframe tbody tr th {\n",
       "        vertical-align: top;\n",
       "    }\n",
       "\n",
       "    .dataframe thead th {\n",
       "        text-align: right;\n",
       "    }\n",
       "</style>\n",
       "<table border=\"1\" class=\"dataframe\">\n",
       "  <thead>\n",
       "    <tr style=\"text-align: right;\">\n",
       "      <th></th>\n",
       "      <th>Passenger Count (adjusted)</th>\n",
       "      <th>Log Data</th>\n",
       "    </tr>\n",
       "    <tr>\n",
       "      <th>Time</th>\n",
       "      <th></th>\n",
       "      <th></th>\n",
       "    </tr>\n",
       "  </thead>\n",
       "  <tbody>\n",
       "    <tr>\n",
       "      <th>1980-01-01</th>\n",
       "      <td>808.07</td>\n",
       "      <td>6.694649</td>\n",
       "    </tr>\n",
       "    <tr>\n",
       "      <th>1980-02-01</th>\n",
       "      <td>818.66</td>\n",
       "      <td>6.707669</td>\n",
       "    </tr>\n",
       "    <tr>\n",
       "      <th>1980-03-01</th>\n",
       "      <td>1038.80</td>\n",
       "      <td>6.945821</td>\n",
       "    </tr>\n",
       "    <tr>\n",
       "      <th>1980-04-01</th>\n",
       "      <td>1417.37</td>\n",
       "      <td>7.256558</td>\n",
       "    </tr>\n",
       "    <tr>\n",
       "      <th>1980-05-01</th>\n",
       "      <td>1411.91</td>\n",
       "      <td>7.252699</td>\n",
       "    </tr>\n",
       "    <tr>\n",
       "      <th>...</th>\n",
       "      <td>...</td>\n",
       "      <td>...</td>\n",
       "    </tr>\n",
       "    <tr>\n",
       "      <th>2023-08-01</th>\n",
       "      <td>10037.50</td>\n",
       "      <td>9.214083</td>\n",
       "    </tr>\n",
       "    <tr>\n",
       "      <th>2023-09-01</th>\n",
       "      <td>9615.21</td>\n",
       "      <td>9.171101</td>\n",
       "    </tr>\n",
       "    <tr>\n",
       "      <th>2023-10-01</th>\n",
       "      <td>8339.88</td>\n",
       "      <td>9.028804</td>\n",
       "    </tr>\n",
       "    <tr>\n",
       "      <th>2023-11-01</th>\n",
       "      <td>5794.29</td>\n",
       "      <td>8.664628</td>\n",
       "    </tr>\n",
       "    <tr>\n",
       "      <th>2023-12-01</th>\n",
       "      <td>4907.31</td>\n",
       "      <td>8.498481</td>\n",
       "    </tr>\n",
       "  </tbody>\n",
       "</table>\n",
       "<p>528 rows × 2 columns</p>\n",
       "</div>"
      ],
      "text/plain": [
       "            Passenger Count (adjusted)  Log Data\n",
       "Time                                            \n",
       "1980-01-01                      808.07  6.694649\n",
       "1980-02-01                      818.66  6.707669\n",
       "1980-03-01                     1038.80  6.945821\n",
       "1980-04-01                     1417.37  7.256558\n",
       "1980-05-01                     1411.91  7.252699\n",
       "...                                ...       ...\n",
       "2023-08-01                    10037.50  9.214083\n",
       "2023-09-01                     9615.21  9.171101\n",
       "2023-10-01                     8339.88  9.028804\n",
       "2023-11-01                     5794.29  8.664628\n",
       "2023-12-01                     4907.31  8.498481\n",
       "\n",
       "[528 rows x 2 columns]"
      ]
     },
     "execution_count": 104,
     "metadata": {},
     "output_type": "execute_result"
    }
   ],
   "source": [
    "#Log transformation funciton\n",
    "def log_transform(df):\n",
    "    df['Log Data'] = np.log(df.iloc[:, 0])\n",
    "    return df\n",
    "\n",
    "log_transform(CH4)\n",
    "log_transform(ET12)\n",
    "log_transform(GMAF)"
   ]
  },
  {
   "cell_type": "code",
   "execution_count": 105,
   "metadata": {},
   "outputs": [],
   "source": [
    "#log timeplot\n",
    "for i in [CH4, ET12, GMAF]:\n",
    "    plt.plot(i['Log Data'], label='Log Data')\n",
    "    plt.legend()\n",
    "    plt.show()"
   ]
  },
  {
   "cell_type": "markdown",
   "metadata": {},
   "source": [
    "# Exponential Smoothing"
   ]
  },
  {
   "cell_type": "code",
   "execution_count": 106,
   "metadata": {},
   "outputs": [],
   "source": [
    "# Exponential Smoothing\n",
    "from statsmodels.tsa.api import ExponentialSmoothing, Holt\n",
    "\n",
    "# Forecasting Error\n",
    "from sklearn.metrics import mean_squared_error, mean_absolute_error, mean_absolute_percentage_error\n",
    "from pandas.plotting import autocorrelation_plot\n",
    "from statsmodels.graphics.tsaplots import plot_acf, plot_pacf"
   ]
  },
  {
   "cell_type": "markdown",
   "metadata": {},
   "source": [
    "### Common Functions"
   ]
  },
  {
   "cell_type": "code",
   "execution_count": 107,
   "metadata": {},
   "outputs": [],
   "source": [
    "#Holt-Winters Forecasting for annual seasonality\n",
    "def holt_winters_M_forecast_annual(i, predict_periods):\n",
    "    # Ensure the datetime index has a frequency set\n",
    "    i.index = pd.DatetimeIndex(i.index.values, freq=i.index.inferred_freq)\n",
    "\n",
    "    fit2 = ExponentialSmoothing(i['Log Data'], seasonal_periods=12, trend='add', seasonal='mul').fit()\n",
    "    fit4 = ExponentialSmoothing(i['Log Data'], seasonal_periods=12, trend='add', seasonal='mul', damped_trend=True).fit()\n",
    "\n",
    "    forecast2 = fit2.forecast(predict_periods).rename('HW-multiplicative seasonality')\n",
    "    forecast4 = fit4.forecast(predict_periods).rename('Damped HW-multiplicative seasonality')\n",
    "\n",
    "    return fit2, fit4, forecast2, forecast4"
   ]
  },
  {
   "cell_type": "code",
   "execution_count": 108,
   "metadata": {},
   "outputs": [],
   "source": [
    "#Holt-Winters Forecasting for annual seasonality\n",
    "def holt_winters_A_forecast_annual(i, predict_periods):\n",
    "    # Ensure the datetime index has a frequency set\n",
    "    i.index = pd.DatetimeIndex(i.index.values, freq=i.index.inferred_freq)\n",
    "\n",
    "    fit1 = ExponentialSmoothing(i['Log Data'], seasonal_periods=12, trend='add', seasonal='add').fit(optimized = True)\n",
    "    fit3 = ExponentialSmoothing(i['Log Data'], seasonal_periods=12, trend='add', seasonal='add', damped_trend=True).fit()\n",
    "\n",
    "    forecast1 = fit1.forecast(predict_periods).rename('HW-additive seasonality')\n",
    "    forecast3 = fit3.forecast(predict_periods).rename('Damped HW-additive seasonality')\n",
    "\n",
    "    return fit1, fit3, forecast1, forecast3"
   ]
  },
  {
   "cell_type": "code",
   "execution_count": 109,
   "metadata": {},
   "outputs": [],
   "source": [
    "#HW-M plot\n",
    "def holt_winters_M_forecast_plot(i, predict_periods):\n",
    "    # Ensure the datetime index has a frequency set\n",
    "    i.index = pd.DatetimeIndex(i.index.values, freq=i.index.inferred_freq)\n",
    "\n",
    "    fit2 = ExponentialSmoothing(i['Log Data'], seasonal_periods=12, trend='add', seasonal='mul').fit()\n",
    "    fit4 = ExponentialSmoothing(i['Log Data'], seasonal_periods=12, trend='add', seasonal='mul', damped_trend=True).fit()\n",
    "\n",
    "    forecast2 = fit2.forecast(predict_periods).rename('Model 1: HW-multiplicative seasonality')\n",
    "    forecast4 = fit4.forecast(predict_periods).rename('Model 2: Damped HW-multiplicative seasonality')\n",
    "\n",
    "    # Create figure\n",
    "    fig, ax = plt.subplots(1, 1, figsize=(15, 10))\n",
    "\n",
    "    i['Log Data'].rename('Time plot of original').plot(color='black', legend=True, ax=ax)\n",
    "\n",
    "    fit2.fittedvalues.plot(color='blue', ax=ax)\n",
    "    forecast2.plot(color='blue', legend=True, ax=ax)\n",
    "\n",
    "    fit4.fittedvalues.plot(color='yellow', ax=ax)\n",
    "    forecast4.plot(color='yellow', legend=True, ax=ax)\n",
    "\n",
    "    plt.xlabel('Dates')\n",
    "    plt.ylabel('Values')\n",
    "    plt.title('HW-M method-based forecasts')\n",
    "    plt.legend(fontsize = 20)\n",
    "    plt.tight_layout()\n",
    "    plt.show()"
   ]
  },
  {
   "cell_type": "code",
   "execution_count": 110,
   "metadata": {},
   "outputs": [],
   "source": [
    "#HW-A plot\n",
    "def holt_winters_A_forecast_plot(i, predict_periods):\n",
    "    # Ensure the datetime index has a frequency set\n",
    "    i.index = pd.DatetimeIndex(i.index.values, freq=i.index.inferred_freq)\n",
    "\n",
    "    fit1 = ExponentialSmoothing(i['Log Data'], seasonal_periods=12, trend='add', seasonal='add').fit(optimized = True)\n",
    "    fit3 = ExponentialSmoothing(i['Log Data'], seasonal_periods=12, trend='add', seasonal='add', damped_trend=True).fit()\n",
    "\n",
    "\n",
    "    # Forecast the next periods\n",
    "    forecast1 = fit1.forecast(predict_periods).rename('Model 1: HW-additive seasonality')\n",
    "    forecast3 = fit3.forecast(predict_periods).rename('Model 2: Damped HW-additive seasonality')\n",
    "\n",
    "    # Create figure\n",
    "    fig, ax = plt.subplots(1, 1, figsize=(15, 10))\n",
    "\n",
    "    i['Log Data'].rename('Time plot of original').plot(color='black', legend=True, ax=ax)\n",
    "\n",
    "    fit1.fittedvalues.plot(color='red', ax=ax)\n",
    "    forecast1.plot(color='red', legend=True, ax=ax)\n",
    "\n",
    "\n",
    "    fit3.fittedvalues.plot(color='green', ax=ax)\n",
    "    forecast3.plot(color='green', legend=True, ax=ax)\n",
    "\n",
    "\n",
    "    plt.xlabel('Dates')\n",
    "    plt.ylabel('Values')\n",
    "    plt.title('HW-A method-based forecasts')\n",
    "    plt.legend(fontsize = 20)\n",
    "\n",
    "    plt.tight_layout()\n",
    "    plt.show()"
   ]
  },
  {
   "cell_type": "code",
   "execution_count": 111,
   "metadata": {},
   "outputs": [],
   "source": [
    "#Back transformation and merge (for log transformed data):\n",
    "def back_transformation_merge(forecast2,forecast4):\n",
    "    forecast2_backtransformed = round(np.exp(forecast2),2)\n",
    "    forecast4_backtransformed = round(np.exp(forecast4),2)\n",
    "    forecast_df = pd.concat([forecast2_backtransformed,  forecast4_backtransformed], axis=1)\n",
    "    \n",
    "    return forecast_df"
   ]
  },
  {
   "cell_type": "code",
   "execution_count": 112,
   "metadata": {},
   "outputs": [],
   "source": [
    "#ME score:\n",
    "def ME_results(i, model):\n",
    "    i.index = pd.DatetimeIndex(i.index.values, freq=i.index.inferred_freq)\n",
    "\n",
    "\n",
    "    fit2 = ExponentialSmoothing(i['Log Data'], seasonal_periods=12, trend='add', seasonal= model).fit()\n",
    "    fit4 = ExponentialSmoothing(i['Log Data'], seasonal_periods=12, trend='add', seasonal= model, damped_trend=True).fit()\n",
    "\n",
    "    def mean_error(y_true, y_pred):\n",
    "        return np.mean(y_true - y_pred)\n",
    "\n",
    "    ME2 = mean_error(i['Log Data'], fit2.fittedvalues)\n",
    "    ME4 = mean_error(i['Log Data'], fit4.fittedvalues)\n",
    "\n",
    "        # Printing the parameters and errors for each scenario\n",
    "    results = pd.DataFrame(index=[r\"alpha\", r\"beta\", r\"gamma\", r\"l0\", \"b0\", \"ME\"])\n",
    "    params = ['smoothing_level', 'smoothing_trend', 'smoothing_seasonal', 'initial_level', 'initial_trend']\n",
    "    results[\"HW model 1\"] = [fit2.params[p] for p in params] + [ME2]\n",
    "    results[\"HW model 2\"] = [fit4.params[p] for p in params] + [ME4]\n",
    "    print(results)   "
   ]
  },
  {
   "cell_type": "code",
   "execution_count": 113,
   "metadata": {},
   "outputs": [],
   "source": [
    "# MSE Score\n",
    "def MSE_results(i, model):\n",
    "        # Ensure the datetime index has a frequency set\n",
    "        i.index = pd.DatetimeIndex(i.index.values, freq=i.index.inferred_freq)\n",
    "\n",
    "        fit2 = ExponentialSmoothing(i['Log Data'], seasonal_periods=12, trend= 'add', seasonal= model).fit()\n",
    "        fit4 = ExponentialSmoothing(i['Log Data'], seasonal_periods=12, trend= 'add', seasonal= model, damped_trend=True).fit()\n",
    "\n",
    "\n",
    "        MSE2 = mean_squared_error(i['Log Data'], fit2.fittedvalues)\n",
    "        MSE4 = mean_squared_error(i['Log Data'], fit4.fittedvalues)\n",
    "\n",
    "        # Printing the parameters and errors for each scenario\n",
    "        results = pd.DataFrame(index=[r\"alpha\", r\"beta\", r\"gamma\", r\"l0\", \"b0\", \"MSE\"])\n",
    "        params = ['smoothing_level', 'smoothing_trend', 'smoothing_seasonal', 'initial_level', 'initial_trend']\n",
    "        results[\"HW model 1\"] = [fit2.params[p] for p in params] + [MSE2]\n",
    "        results[\"HW model 2\"] = [fit4.params[p] for p in params] + [MSE4]\n",
    "        print(results)"
   ]
  },
  {
   "cell_type": "code",
   "execution_count": 114,
   "metadata": {},
   "outputs": [],
   "source": [
    "#MAE score\n",
    "def MAE_results(i, model):\n",
    "        # Ensure the datetime index has a frequency set\n",
    "        i.index = pd.DatetimeIndex(i.index.values, freq=i.index.inferred_freq)\n",
    "\n",
    "        fit2 = ExponentialSmoothing(i['Log Data'], seasonal_periods=12, trend='add', seasonal= model).fit()\n",
    "        fit4 = ExponentialSmoothing(i['Log Data'], seasonal_periods=12, trend='add', seasonal= model, damped_trend=True).fit()\n",
    "\n",
    "\n",
    "        MAE2 = mean_absolute_error(i['Log Data'], fit2.fittedvalues)\n",
    "        MAE4 = mean_absolute_error(i['Log Data'], fit4.fittedvalues)\n",
    "\n",
    "        # Printing the parameters and errors for each scenario\n",
    "        results = pd.DataFrame(index=[r\"alpha\", r\"beta\", r\"gamma\", r\"l0\", \"b0\", \"MAE\"])\n",
    "        params = ['smoothing_level', 'smoothing_trend', 'smoothing_seasonal', 'initial_level', 'initial_trend']\n",
    "        results[\"HW model 1\"] = [fit2.params[p] for p in params] + [MAE2]\n",
    "        results[\"HW model 2\"] = [fit4.params[p] for p in params] + [MAE4]\n",
    "        print(results)"
   ]
  },
  {
   "cell_type": "code",
   "execution_count": 115,
   "metadata": {},
   "outputs": [],
   "source": [
    "#MAPE score\n",
    "def MAPE_results(i, model):\n",
    "        # Ensure the datetime index has a frequency set\n",
    "        i.index = pd.DatetimeIndex(i.index.values, freq=i.index.inferred_freq)\n",
    "\n",
    "        fit2 = ExponentialSmoothing(i['Log Data'], seasonal_periods=12, trend='add', seasonal='mul').fit()\n",
    "        fit4 = ExponentialSmoothing(i['Log Data'], seasonal_periods=12, trend='add', seasonal='mul', damped_trend=True).fit()\n",
    "\n",
    "        MAPE2 = mean_absolute_percentage_error(i['Log Data'], fit2.fittedvalues)\n",
    "        MAPE4 = mean_absolute_percentage_error(i['Log Data'], fit4.fittedvalues)\n",
    "\n",
    "        # Printing the parameters and errors for each scenario\n",
    "        results = pd.DataFrame(index=[r\"alpha\", r\"beta\", r\"gamma\", r\"l0\", \"b0\", \"MAPE\"])\n",
    "        params = ['smoothing_level', 'smoothing_trend', 'smoothing_seasonal', 'initial_level', 'initial_trend']\n",
    "        results[\"HW model 2\"] = [fit2.params[p] for p in params] + [MAPE2]\n",
    "        results[\"HW model 4\"] = [fit4.params[p] for p in params] + [MAPE4]\n",
    "        print(results)"
   ]
  },
  {
   "cell_type": "markdown",
   "metadata": {},
   "source": [
    "### MSTA "
   ]
  },
  {
   "cell_type": "code",
   "execution_count": 116,
   "metadata": {},
   "outputs": [],
   "source": [
    "#Holt Linear Forecasting\n",
    "\n",
    "MSTA_1950_onwards.index = pd.DatetimeIndex(MSTA_1950_onwards.index.values, freq=MSTA_1950_onwards.index.inferred_freq)\n",
    "predict_periods = 12\n",
    "# Fit the models without specifying initial parameters\n",
    "fit1 = Holt(MSTA_1950_onwards.iloc[:, 0]).fit(optimized=True)\n",
    "# Holt's method with additive trend and seasonal component, damped trend\n",
    "fit3 = Holt(MSTA_1950_onwards.iloc[:, 0], damped_trend=True).fit(optimized=True)\n",
    "\n",
    "# Create figure\n",
    "fig, ax = plt.subplots(1, 1, figsize=(15, 10))\n",
    "\n",
    "MSTA_1950_onwards.iloc[:, 0].rename('Time plot of original').plot(color='black', legend=True, ax=ax)\n",
    "\n",
    "fit1.fittedvalues.plot(color='red', ax=ax)\n",
    "fit1.forecast(predict_periods).rename(\"Model 1: Holt's linear trend\").plot(color='red', legend=True, ax=ax)\n",
    "\n",
    "fit3.fittedvalues.plot(color='green', ax=ax)\n",
    "fit3.forecast(predict_periods).rename(\"Model 2: Damped Holt's linear trend\").plot(color='green', legend=True, ax=ax)\n",
    "\n",
    "plt.xlabel('Dates')\n",
    "plt.ylabel('Values')\n",
    "plt.title('Holt Linear Forecasting for MSTA', fontsize = 20, fontweight = 'bold')\n",
    "plt.legend(fontsize = 20)\n",
    "plt.tight_layout()\n",
    "plt.show()"
   ]
  },
  {
   "cell_type": "code",
   "execution_count": 117,
   "metadata": {},
   "outputs": [
    {
     "data": {
      "application/vnd.microsoft.datawrangler.viewer.v0+json": {
       "columns": [
        {
         "name": "index",
         "rawType": "datetime64[ns]",
         "type": "datetime"
        },
        {
         "name": "Holt's linear trend",
         "rawType": "float64",
         "type": "float"
        },
        {
         "name": "Damped Holt's linear trend",
         "rawType": "float64",
         "type": "float"
        }
       ],
       "conversionMethod": "pd.DataFrame",
       "ref": "040d7f21-068b-4bde-8b82-0b9d6b980151",
       "rows": [
        [
         "2025-01-01 00:00:00",
         "1.140734259752767",
         "1.137439517436277"
        ],
        [
         "2025-02-01 00:00:00",
         "1.1450520973083622",
         "1.137439517436277"
        ],
        [
         "2025-03-01 00:00:00",
         "1.1493699348639577",
         "1.137439517436277"
        ],
        [
         "2025-04-01 00:00:00",
         "1.153687772419553",
         "1.1374395174362768"
        ],
        [
         "2025-05-01 00:00:00",
         "1.1580056099751483",
         "1.1374395174362768"
        ],
        [
         "2025-06-01 00:00:00",
         "1.1623234475307436",
         "1.1374395174362768"
        ],
        [
         "2025-07-01 00:00:00",
         "1.166641285086339",
         "1.1374395174362768"
        ],
        [
         "2025-08-01 00:00:00",
         "1.1709591226419342",
         "1.1374395174362768"
        ],
        [
         "2025-09-01 00:00:00",
         "1.1752769601975297",
         "1.1374395174362768"
        ],
        [
         "2025-10-01 00:00:00",
         "1.179594797753125",
         "1.1374395174362768"
        ],
        [
         "2025-11-01 00:00:00",
         "1.1839126353087204",
         "1.1374395174362768"
        ],
        [
         "2025-12-01 00:00:00",
         "1.1882304728643156",
         "1.1374395174362768"
        ]
       ],
       "shape": {
        "columns": 2,
        "rows": 12
       }
      },
      "text/html": [
       "<div>\n",
       "<style scoped>\n",
       "    .dataframe tbody tr th:only-of-type {\n",
       "        vertical-align: middle;\n",
       "    }\n",
       "\n",
       "    .dataframe tbody tr th {\n",
       "        vertical-align: top;\n",
       "    }\n",
       "\n",
       "    .dataframe thead th {\n",
       "        text-align: right;\n",
       "    }\n",
       "</style>\n",
       "<table border=\"1\" class=\"dataframe\">\n",
       "  <thead>\n",
       "    <tr style=\"text-align: right;\">\n",
       "      <th></th>\n",
       "      <th>Holt's linear trend</th>\n",
       "      <th>Damped Holt's linear trend</th>\n",
       "    </tr>\n",
       "  </thead>\n",
       "  <tbody>\n",
       "    <tr>\n",
       "      <th>2025-01-01</th>\n",
       "      <td>1.140734</td>\n",
       "      <td>1.13744</td>\n",
       "    </tr>\n",
       "    <tr>\n",
       "      <th>2025-02-01</th>\n",
       "      <td>1.145052</td>\n",
       "      <td>1.13744</td>\n",
       "    </tr>\n",
       "    <tr>\n",
       "      <th>2025-03-01</th>\n",
       "      <td>1.149370</td>\n",
       "      <td>1.13744</td>\n",
       "    </tr>\n",
       "    <tr>\n",
       "      <th>2025-04-01</th>\n",
       "      <td>1.153688</td>\n",
       "      <td>1.13744</td>\n",
       "    </tr>\n",
       "    <tr>\n",
       "      <th>2025-05-01</th>\n",
       "      <td>1.158006</td>\n",
       "      <td>1.13744</td>\n",
       "    </tr>\n",
       "    <tr>\n",
       "      <th>2025-06-01</th>\n",
       "      <td>1.162323</td>\n",
       "      <td>1.13744</td>\n",
       "    </tr>\n",
       "    <tr>\n",
       "      <th>2025-07-01</th>\n",
       "      <td>1.166641</td>\n",
       "      <td>1.13744</td>\n",
       "    </tr>\n",
       "    <tr>\n",
       "      <th>2025-08-01</th>\n",
       "      <td>1.170959</td>\n",
       "      <td>1.13744</td>\n",
       "    </tr>\n",
       "    <tr>\n",
       "      <th>2025-09-01</th>\n",
       "      <td>1.175277</td>\n",
       "      <td>1.13744</td>\n",
       "    </tr>\n",
       "    <tr>\n",
       "      <th>2025-10-01</th>\n",
       "      <td>1.179595</td>\n",
       "      <td>1.13744</td>\n",
       "    </tr>\n",
       "    <tr>\n",
       "      <th>2025-11-01</th>\n",
       "      <td>1.183913</td>\n",
       "      <td>1.13744</td>\n",
       "    </tr>\n",
       "    <tr>\n",
       "      <th>2025-12-01</th>\n",
       "      <td>1.188230</td>\n",
       "      <td>1.13744</td>\n",
       "    </tr>\n",
       "  </tbody>\n",
       "</table>\n",
       "</div>"
      ],
      "text/plain": [
       "            Holt's linear trend  Damped Holt's linear trend\n",
       "2025-01-01             1.140734                     1.13744\n",
       "2025-02-01             1.145052                     1.13744\n",
       "2025-03-01             1.149370                     1.13744\n",
       "2025-04-01             1.153688                     1.13744\n",
       "2025-05-01             1.158006                     1.13744\n",
       "2025-06-01             1.162323                     1.13744\n",
       "2025-07-01             1.166641                     1.13744\n",
       "2025-08-01             1.170959                     1.13744\n",
       "2025-09-01             1.175277                     1.13744\n",
       "2025-10-01             1.179595                     1.13744\n",
       "2025-11-01             1.183913                     1.13744\n",
       "2025-12-01             1.188230                     1.13744"
      ]
     },
     "execution_count": 117,
     "metadata": {},
     "output_type": "execute_result"
    }
   ],
   "source": [
    "# Forecast the next periods\n",
    "forecast1 = fit1.forecast(predict_periods).rename(\"Holt's linear trend\")\n",
    "forecast3 = fit3.forecast(predict_periods).rename(\"Damped Holt's linear trend\")\n",
    "\n",
    "MSTA_forecast = pd.concat([forecast1,  forecast3], axis=1)\n",
    "MSTA_forecast\n"
   ]
  },
  {
   "cell_type": "code",
   "execution_count": 118,
   "metadata": {},
   "outputs": [
    {
     "name": "stdout",
     "output_type": "stream",
     "text": [
      "       Holt's linear trend  Damped Holt's linear trend\n",
      "alpha             0.620077                5.633594e-01\n",
      "beta              0.046042                1.254498e-15\n",
      "gamma                  NaN                         NaN\n",
      "l0               -0.290000               -2.900000e-01\n",
      "b0               -0.110000               -1.100000e-01\n",
      "MSE               0.011956                1.113280e-02\n"
     ]
    }
   ],
   "source": [
    "#MSE for MSTA\n",
    "MSTA_1950_onwards.index = pd.DatetimeIndex(MSTA_1950_onwards.index.values, freq=MSTA_1950_onwards.index.inferred_freq)\n",
    "\n",
    "\n",
    "fit1 = Holt(MSTA_1950_onwards.iloc[:, 0]).fit(optimized=True)\n",
    "fit3 = Holt(MSTA_1950_onwards.iloc[:, 0], damped_trend=True).fit(optimized=True)\n",
    "\n",
    "MSE1 = mean_squared_error(MSTA_1950_onwards.iloc[:, 0], fit1.fittedvalues)\n",
    "MSE3 = mean_squared_error(MSTA_1950_onwards.iloc[:, 0], fit3.fittedvalues)\n",
    "\n",
    "results = pd.DataFrame(index=[r\"alpha\", r\"beta\", r\"gamma\", r\"l0\", \"b0\", \"MSE\"])\n",
    "params = ['smoothing_level', 'smoothing_trend', 'smoothing_seasonal', 'initial_level', 'initial_trend']\n",
    "results[\"Holt's linear trend\"] = [fit1.params[p] for p in params] + [MSE1]\n",
    "results[\"Damped Holt's linear trend\"] = [fit3.params[p] for p in params] + [MSE3]\n",
    "print(results)"
   ]
  },
  {
   "cell_type": "code",
   "execution_count": 119,
   "metadata": {},
   "outputs": [
    {
     "name": "stdout",
     "output_type": "stream",
     "text": [
      "       Holt's linear trend  Damped Holt's linear trend\n",
      "alpha             0.620077                5.633594e-01\n",
      "beta              0.046042                1.254498e-15\n",
      "gamma                  NaN                         NaN\n",
      "l0               -0.290000               -2.900000e-01\n",
      "b0               -0.110000               -1.100000e-01\n",
      "MAE               0.085863                8.228074e-02\n"
     ]
    }
   ],
   "source": [
    "#MAE for MSTA\n",
    "MSTA_1950_onwards.index = pd.DatetimeIndex(MSTA_1950_onwards.index.values, freq=MSTA_1950_onwards.index.inferred_freq)\n",
    "\n",
    "\n",
    "fit1 = Holt(MSTA_1950_onwards.iloc[:, 0]).fit(optimized=True)\n",
    "fit3 = Holt(MSTA_1950_onwards.iloc[:, 0], damped_trend=True).fit(optimized=True)\n",
    "\n",
    "MAE1 = mean_absolute_error(MSTA_1950_onwards.iloc[:, 0], fit1.fittedvalues)\n",
    "MAE3 = mean_absolute_error(MSTA_1950_onwards.iloc[:, 0], fit3.fittedvalues)\n",
    "\n",
    "results = pd.DataFrame(index=[r\"alpha\", r\"beta\", r\"gamma\", r\"l0\", \"b0\", \"MAE\"])\n",
    "params = ['smoothing_level', 'smoothing_trend', 'smoothing_seasonal', 'initial_level', 'initial_trend']\n",
    "results[\"Holt's linear trend\"] = [fit1.params[p] for p in params] + [MAE1]\n",
    "results[\"Damped Holt's linear trend\"] = [fit3.params[p] for p in params] + [MAE3]\n",
    "print(results)"
   ]
  },
  {
   "cell_type": "code",
   "execution_count": 120,
   "metadata": {},
   "outputs": [
    {
     "name": "stdout",
     "output_type": "stream",
     "text": [
      "AIC: -4038.0733174231777\n",
      "BIC: -4014.061343606556\n"
     ]
    }
   ],
   "source": [
    "#AIC and BIC of model 2\n",
    "aic = fit3.aic\n",
    "bic = fit3.bic\n",
    "\n",
    "# Print the results\n",
    "print(\"AIC:\", aic)\n",
    "print(\"BIC:\", bic)"
   ]
  },
  {
   "cell_type": "code",
   "execution_count": 121,
   "metadata": {},
   "outputs": [],
   "source": [
    "#Checking Residuals behaviour\n",
    "\n",
    "residuals = MSTA_1950_onwards.iloc[:, 0] - fit3.fittedvalues\n",
    "\n",
    "residuals_flattened = residuals.values.flatten()\n",
    "\n",
    "autocorrelation_plot(residuals_flattened)\n",
    "plot_acf(residuals_flattened, lags=20)  \n",
    "plt.title('ACF of the Model 2 Residuals', fontsize = 20, fontweight = \"bold\")\n",
    "plt.show()"
   ]
  },
  {
   "cell_type": "markdown",
   "metadata": {},
   "source": [
    "### CH4"
   ]
  },
  {
   "cell_type": "code",
   "execution_count": 122,
   "metadata": {},
   "outputs": [
    {
     "data": {
      "application/vnd.microsoft.datawrangler.viewer.v0+json": {
       "columns": [
        {
         "name": "index",
         "rawType": "datetime64[ns]",
         "type": "datetime"
        },
        {
         "name": "HW-additive seasonality",
         "rawType": "float64",
         "type": "float"
        },
        {
         "name": "Damped HW-additive seasonality",
         "rawType": "float64",
         "type": "float"
        }
       ],
       "conversionMethod": "pd.DataFrame",
       "ref": "cbcd8a0a-15ff-4e43-b542-55bac8dea73b",
       "rows": [
        [
         "2024-10-01 00:00:00",
         "1941.5",
         "1941.22"
        ],
        [
         "2024-11-01 00:00:00",
         "1943.26",
         "1942.74"
        ],
        [
         "2024-12-01 00:00:00",
         "1943.01",
         "1942.26"
        ],
        [
         "2025-01-01 00:00:00",
         "1941.56",
         "1940.59"
        ],
        [
         "2025-02-01 00:00:00",
         "1941.56",
         "1940.37"
        ],
        [
         "2025-03-01 00:00:00",
         "1943.45",
         "1942.02"
        ],
        [
         "2025-04-01 00:00:00",
         "1944.59",
         "1942.91"
        ],
        [
         "2025-05-01 00:00:00",
         "1942.93",
         "1941.0"
        ],
        [
         "2025-06-01 00:00:00",
         "1939.26",
         "1937.09"
        ],
        [
         "2025-07-01 00:00:00",
         "1937.28",
         "1934.85"
        ],
        [
         "2025-08-01 00:00:00",
         "1941.35",
         "1938.64"
        ],
        [
         "2025-09-01 00:00:00",
         "1948.88",
         "1945.8"
        ],
        [
         "2025-10-01 00:00:00",
         "1954.04",
         "1950.62"
        ],
        [
         "2025-11-01 00:00:00",
         "1955.81",
         "1952.06"
        ],
        [
         "2025-12-01 00:00:00",
         "1955.56",
         "1951.49"
        ]
       ],
       "shape": {
        "columns": 2,
        "rows": 15
       }
      },
      "text/html": [
       "<div>\n",
       "<style scoped>\n",
       "    .dataframe tbody tr th:only-of-type {\n",
       "        vertical-align: middle;\n",
       "    }\n",
       "\n",
       "    .dataframe tbody tr th {\n",
       "        vertical-align: top;\n",
       "    }\n",
       "\n",
       "    .dataframe thead th {\n",
       "        text-align: right;\n",
       "    }\n",
       "</style>\n",
       "<table border=\"1\" class=\"dataframe\">\n",
       "  <thead>\n",
       "    <tr style=\"text-align: right;\">\n",
       "      <th></th>\n",
       "      <th>HW-additive seasonality</th>\n",
       "      <th>Damped HW-additive seasonality</th>\n",
       "    </tr>\n",
       "  </thead>\n",
       "  <tbody>\n",
       "    <tr>\n",
       "      <th>2024-10-01</th>\n",
       "      <td>1941.50</td>\n",
       "      <td>1941.22</td>\n",
       "    </tr>\n",
       "    <tr>\n",
       "      <th>2024-11-01</th>\n",
       "      <td>1943.26</td>\n",
       "      <td>1942.74</td>\n",
       "    </tr>\n",
       "    <tr>\n",
       "      <th>2024-12-01</th>\n",
       "      <td>1943.01</td>\n",
       "      <td>1942.26</td>\n",
       "    </tr>\n",
       "    <tr>\n",
       "      <th>2025-01-01</th>\n",
       "      <td>1941.56</td>\n",
       "      <td>1940.59</td>\n",
       "    </tr>\n",
       "    <tr>\n",
       "      <th>2025-02-01</th>\n",
       "      <td>1941.56</td>\n",
       "      <td>1940.37</td>\n",
       "    </tr>\n",
       "    <tr>\n",
       "      <th>2025-03-01</th>\n",
       "      <td>1943.45</td>\n",
       "      <td>1942.02</td>\n",
       "    </tr>\n",
       "    <tr>\n",
       "      <th>2025-04-01</th>\n",
       "      <td>1944.59</td>\n",
       "      <td>1942.91</td>\n",
       "    </tr>\n",
       "    <tr>\n",
       "      <th>2025-05-01</th>\n",
       "      <td>1942.93</td>\n",
       "      <td>1941.00</td>\n",
       "    </tr>\n",
       "    <tr>\n",
       "      <th>2025-06-01</th>\n",
       "      <td>1939.26</td>\n",
       "      <td>1937.09</td>\n",
       "    </tr>\n",
       "    <tr>\n",
       "      <th>2025-07-01</th>\n",
       "      <td>1937.28</td>\n",
       "      <td>1934.85</td>\n",
       "    </tr>\n",
       "    <tr>\n",
       "      <th>2025-08-01</th>\n",
       "      <td>1941.35</td>\n",
       "      <td>1938.64</td>\n",
       "    </tr>\n",
       "    <tr>\n",
       "      <th>2025-09-01</th>\n",
       "      <td>1948.88</td>\n",
       "      <td>1945.80</td>\n",
       "    </tr>\n",
       "    <tr>\n",
       "      <th>2025-10-01</th>\n",
       "      <td>1954.04</td>\n",
       "      <td>1950.62</td>\n",
       "    </tr>\n",
       "    <tr>\n",
       "      <th>2025-11-01</th>\n",
       "      <td>1955.81</td>\n",
       "      <td>1952.06</td>\n",
       "    </tr>\n",
       "    <tr>\n",
       "      <th>2025-12-01</th>\n",
       "      <td>1955.56</td>\n",
       "      <td>1951.49</td>\n",
       "    </tr>\n",
       "  </tbody>\n",
       "</table>\n",
       "</div>"
      ],
      "text/plain": [
       "            HW-additive seasonality  Damped HW-additive seasonality\n",
       "2024-10-01                  1941.50                         1941.22\n",
       "2024-11-01                  1943.26                         1942.74\n",
       "2024-12-01                  1943.01                         1942.26\n",
       "2025-01-01                  1941.56                         1940.59\n",
       "2025-02-01                  1941.56                         1940.37\n",
       "2025-03-01                  1943.45                         1942.02\n",
       "2025-04-01                  1944.59                         1942.91\n",
       "2025-05-01                  1942.93                         1941.00\n",
       "2025-06-01                  1939.26                         1937.09\n",
       "2025-07-01                  1937.28                         1934.85\n",
       "2025-08-01                  1941.35                         1938.64\n",
       "2025-09-01                  1948.88                         1945.80\n",
       "2025-10-01                  1954.04                         1950.62\n",
       "2025-11-01                  1955.81                         1952.06\n",
       "2025-12-01                  1955.56                         1951.49"
      ]
     },
     "execution_count": 122,
     "metadata": {},
     "output_type": "execute_result"
    }
   ],
   "source": [
    "fit2, fit4, forecast2, forecast4 = holt_winters_A_forecast_annual(CH4, 15)\n",
    "CH4_forecast = back_transformation_merge(forecast2, forecast4)\n",
    "CH4_forecast"
   ]
  },
  {
   "cell_type": "code",
   "execution_count": 123,
   "metadata": {},
   "outputs": [],
   "source": [
    "holt_winters_A_forecast_plot(CH4,15)"
   ]
  },
  {
   "cell_type": "code",
   "execution_count": 124,
   "metadata": {},
   "outputs": [
    {
     "name": "stdout",
     "output_type": "stream",
     "text": [
      "       HW model 1  HW model 2\n",
      "alpha    0.889084    0.889501\n",
      "beta     0.032915    0.033035\n",
      "gamma    0.110915    0.110497\n",
      "l0       7.398303    7.399062\n",
      "b0       0.000597    0.000776\n",
      "ME      -0.000004    0.000064\n"
     ]
    }
   ],
   "source": [
    "ME_results(CH4, \"add\")"
   ]
  },
  {
   "cell_type": "code",
   "execution_count": 125,
   "metadata": {},
   "outputs": [
    {
     "name": "stdout",
     "output_type": "stream",
     "text": [
      "         HW model 1    HW model 2\n",
      "alpha  8.890841e-01  8.895012e-01\n",
      "beta   3.291542e-02  3.303478e-02\n",
      "gamma  1.109152e-01  1.104965e-01\n",
      "l0     7.398303e+00  7.399062e+00\n",
      "b0     5.971599e-04  7.764085e-04\n",
      "MSE    4.842070e-07  4.892355e-07\n"
     ]
    }
   ],
   "source": [
    "MSE_results(CH4, \"add\")"
   ]
  },
  {
   "cell_type": "code",
   "execution_count": 126,
   "metadata": {},
   "outputs": [
    {
     "name": "stdout",
     "output_type": "stream",
     "text": [
      "       HW model 1  HW model 2\n",
      "alpha    0.889084    0.889501\n",
      "beta     0.032915    0.033035\n",
      "gamma    0.110915    0.110497\n",
      "l0       7.398303    7.399062\n",
      "b0       0.000597    0.000776\n",
      "MAE      0.000541    0.000547\n"
     ]
    }
   ],
   "source": [
    "MAE_results(CH4, \"add\")"
   ]
  },
  {
   "cell_type": "code",
   "execution_count": 127,
   "metadata": {},
   "outputs": [],
   "source": [
    "# Residuals behaviour\n",
    "residualsCH4 = CH4.iloc[:, 0] - np.exp(fit2.fittedvalues)\n",
    "\n",
    "residualsCH4_flattened = residualsCH4.values.flatten()\n",
    "\n",
    "autocorrelation_plot(residualsCH4_flattened)\n",
    "plot_acf(residualsCH4_flattened, lags=100)\n",
    "plt.title(\"ACF of the CH4 Model 1 Residuals\", fontsize = 20, fontweight = \"bold\")\n",
    "plt.show()"
   ]
  },
  {
   "cell_type": "markdown",
   "metadata": {},
   "source": [
    "### GMAF"
   ]
  },
  {
   "cell_type": "code",
   "execution_count": 128,
   "metadata": {},
   "outputs": [],
   "source": [
    "holt_winters_M_forecast_plot(GMAF, 24)"
   ]
  },
  {
   "cell_type": "code",
   "execution_count": 129,
   "metadata": {},
   "outputs": [
    {
     "data": {
      "application/vnd.microsoft.datawrangler.viewer.v0+json": {
       "columns": [
        {
         "name": "index",
         "rawType": "datetime64[ns]",
         "type": "datetime"
        },
        {
         "name": "HW-multiplicative seasonality",
         "rawType": "float64",
         "type": "float"
        },
        {
         "name": "Damped HW-multiplicative seasonality",
         "rawType": "float64",
         "type": "float"
        }
       ],
       "conversionMethod": "pd.DataFrame",
       "ref": "7bc8482f-a9b5-4224-87fe-1751cec00e5d",
       "rows": [
        [
         "2024-01-01 00:00:00",
         "5490.98",
         "5471.13"
        ],
        [
         "2024-02-01 00:00:00",
         "5854.74",
         "5804.05"
        ],
        [
         "2024-03-01 00:00:00",
         "6376.79",
         "6291.6"
        ],
        [
         "2024-04-01 00:00:00",
         "7841.31",
         "7700.31"
        ],
        [
         "2024-05-01 00:00:00",
         "7849.3",
         "7675.94"
        ],
        [
         "2024-06-01 00:00:00",
         "10162.06",
         "9892.71"
        ],
        [
         "2024-07-01 00:00:00",
         "10453.68",
         "10137.84"
        ],
        [
         "2024-08-01 00:00:00",
         "13985.51",
         "13503.1"
        ],
        [
         "2024-09-01 00:00:00",
         "12449.13",
         "11983.4"
        ],
        [
         "2024-10-01 00:00:00",
         "9948.6",
         "9552.45"
        ],
        [
         "2024-11-01 00:00:00",
         "6424.89",
         "6159.05"
        ],
        [
         "2024-12-01 00:00:00",
         "5131.85",
         "4907.31"
        ],
        [
         "2025-01-01 00:00:00",
         "5745.51",
         "5471.13"
        ],
        [
         "2025-02-01 00:00:00",
         "6128.08",
         "5804.05"
        ],
        [
         "2025-03-01 00:00:00",
         "6677.37",
         "6291.6"
        ],
        [
         "2025-04-01 00:00:00",
         "8219.68",
         "7700.31"
        ],
        [
         "2025-05-01 00:00:00",
         "8227.92",
         "7675.94"
        ],
        [
         "2025-06-01 00:00:00",
         "10666.48",
         "9892.71"
        ],
        [
         "2025-07-01 00:00:00",
         "10973.97",
         "10137.84"
        ],
        [
         "2025-08-01 00:00:00",
         "14703.71",
         "13503.1"
        ],
        [
         "2025-09-01 00:00:00",
         "13080.16",
         "11983.4"
        ],
        [
         "2025-10-01 00:00:00",
         "10440.37",
         "9552.45"
        ],
        [
         "2025-11-01 00:00:00",
         "6726.91",
         "6159.05"
        ],
        [
         "2025-12-01 00:00:00",
         "5366.66",
         "4907.31"
        ]
       ],
       "shape": {
        "columns": 2,
        "rows": 24
       }
      },
      "text/html": [
       "<div>\n",
       "<style scoped>\n",
       "    .dataframe tbody tr th:only-of-type {\n",
       "        vertical-align: middle;\n",
       "    }\n",
       "\n",
       "    .dataframe tbody tr th {\n",
       "        vertical-align: top;\n",
       "    }\n",
       "\n",
       "    .dataframe thead th {\n",
       "        text-align: right;\n",
       "    }\n",
       "</style>\n",
       "<table border=\"1\" class=\"dataframe\">\n",
       "  <thead>\n",
       "    <tr style=\"text-align: right;\">\n",
       "      <th></th>\n",
       "      <th>HW-multiplicative seasonality</th>\n",
       "      <th>Damped HW-multiplicative seasonality</th>\n",
       "    </tr>\n",
       "  </thead>\n",
       "  <tbody>\n",
       "    <tr>\n",
       "      <th>2024-01-01</th>\n",
       "      <td>5490.98</td>\n",
       "      <td>5471.13</td>\n",
       "    </tr>\n",
       "    <tr>\n",
       "      <th>2024-02-01</th>\n",
       "      <td>5854.74</td>\n",
       "      <td>5804.05</td>\n",
       "    </tr>\n",
       "    <tr>\n",
       "      <th>2024-03-01</th>\n",
       "      <td>6376.79</td>\n",
       "      <td>6291.60</td>\n",
       "    </tr>\n",
       "    <tr>\n",
       "      <th>2024-04-01</th>\n",
       "      <td>7841.31</td>\n",
       "      <td>7700.31</td>\n",
       "    </tr>\n",
       "    <tr>\n",
       "      <th>2024-05-01</th>\n",
       "      <td>7849.30</td>\n",
       "      <td>7675.94</td>\n",
       "    </tr>\n",
       "    <tr>\n",
       "      <th>2024-06-01</th>\n",
       "      <td>10162.06</td>\n",
       "      <td>9892.71</td>\n",
       "    </tr>\n",
       "    <tr>\n",
       "      <th>2024-07-01</th>\n",
       "      <td>10453.68</td>\n",
       "      <td>10137.84</td>\n",
       "    </tr>\n",
       "    <tr>\n",
       "      <th>2024-08-01</th>\n",
       "      <td>13985.51</td>\n",
       "      <td>13503.10</td>\n",
       "    </tr>\n",
       "    <tr>\n",
       "      <th>2024-09-01</th>\n",
       "      <td>12449.13</td>\n",
       "      <td>11983.40</td>\n",
       "    </tr>\n",
       "    <tr>\n",
       "      <th>2024-10-01</th>\n",
       "      <td>9948.60</td>\n",
       "      <td>9552.45</td>\n",
       "    </tr>\n",
       "    <tr>\n",
       "      <th>2024-11-01</th>\n",
       "      <td>6424.89</td>\n",
       "      <td>6159.05</td>\n",
       "    </tr>\n",
       "    <tr>\n",
       "      <th>2024-12-01</th>\n",
       "      <td>5131.85</td>\n",
       "      <td>4907.31</td>\n",
       "    </tr>\n",
       "    <tr>\n",
       "      <th>2025-01-01</th>\n",
       "      <td>5745.51</td>\n",
       "      <td>5471.13</td>\n",
       "    </tr>\n",
       "    <tr>\n",
       "      <th>2025-02-01</th>\n",
       "      <td>6128.08</td>\n",
       "      <td>5804.05</td>\n",
       "    </tr>\n",
       "    <tr>\n",
       "      <th>2025-03-01</th>\n",
       "      <td>6677.37</td>\n",
       "      <td>6291.60</td>\n",
       "    </tr>\n",
       "    <tr>\n",
       "      <th>2025-04-01</th>\n",
       "      <td>8219.68</td>\n",
       "      <td>7700.31</td>\n",
       "    </tr>\n",
       "    <tr>\n",
       "      <th>2025-05-01</th>\n",
       "      <td>8227.92</td>\n",
       "      <td>7675.94</td>\n",
       "    </tr>\n",
       "    <tr>\n",
       "      <th>2025-06-01</th>\n",
       "      <td>10666.48</td>\n",
       "      <td>9892.71</td>\n",
       "    </tr>\n",
       "    <tr>\n",
       "      <th>2025-07-01</th>\n",
       "      <td>10973.97</td>\n",
       "      <td>10137.84</td>\n",
       "    </tr>\n",
       "    <tr>\n",
       "      <th>2025-08-01</th>\n",
       "      <td>14703.71</td>\n",
       "      <td>13503.10</td>\n",
       "    </tr>\n",
       "    <tr>\n",
       "      <th>2025-09-01</th>\n",
       "      <td>13080.16</td>\n",
       "      <td>11983.40</td>\n",
       "    </tr>\n",
       "    <tr>\n",
       "      <th>2025-10-01</th>\n",
       "      <td>10440.37</td>\n",
       "      <td>9552.45</td>\n",
       "    </tr>\n",
       "    <tr>\n",
       "      <th>2025-11-01</th>\n",
       "      <td>6726.91</td>\n",
       "      <td>6159.05</td>\n",
       "    </tr>\n",
       "    <tr>\n",
       "      <th>2025-12-01</th>\n",
       "      <td>5366.66</td>\n",
       "      <td>4907.31</td>\n",
       "    </tr>\n",
       "  </tbody>\n",
       "</table>\n",
       "</div>"
      ],
      "text/plain": [
       "            HW-multiplicative seasonality  \\\n",
       "2024-01-01                        5490.98   \n",
       "2024-02-01                        5854.74   \n",
       "2024-03-01                        6376.79   \n",
       "2024-04-01                        7841.31   \n",
       "2024-05-01                        7849.30   \n",
       "2024-06-01                       10162.06   \n",
       "2024-07-01                       10453.68   \n",
       "2024-08-01                       13985.51   \n",
       "2024-09-01                       12449.13   \n",
       "2024-10-01                        9948.60   \n",
       "2024-11-01                        6424.89   \n",
       "2024-12-01                        5131.85   \n",
       "2025-01-01                        5745.51   \n",
       "2025-02-01                        6128.08   \n",
       "2025-03-01                        6677.37   \n",
       "2025-04-01                        8219.68   \n",
       "2025-05-01                        8227.92   \n",
       "2025-06-01                       10666.48   \n",
       "2025-07-01                       10973.97   \n",
       "2025-08-01                       14703.71   \n",
       "2025-09-01                       13080.16   \n",
       "2025-10-01                       10440.37   \n",
       "2025-11-01                        6726.91   \n",
       "2025-12-01                        5366.66   \n",
       "\n",
       "            Damped HW-multiplicative seasonality  \n",
       "2024-01-01                               5471.13  \n",
       "2024-02-01                               5804.05  \n",
       "2024-03-01                               6291.60  \n",
       "2024-04-01                               7700.31  \n",
       "2024-05-01                               7675.94  \n",
       "2024-06-01                               9892.71  \n",
       "2024-07-01                              10137.84  \n",
       "2024-08-01                              13503.10  \n",
       "2024-09-01                              11983.40  \n",
       "2024-10-01                               9552.45  \n",
       "2024-11-01                               6159.05  \n",
       "2024-12-01                               4907.31  \n",
       "2025-01-01                               5471.13  \n",
       "2025-02-01                               5804.05  \n",
       "2025-03-01                               6291.60  \n",
       "2025-04-01                               7700.31  \n",
       "2025-05-01                               7675.94  \n",
       "2025-06-01                               9892.71  \n",
       "2025-07-01                              10137.84  \n",
       "2025-08-01                              13503.10  \n",
       "2025-09-01                              11983.40  \n",
       "2025-10-01                               9552.45  \n",
       "2025-11-01                               6159.05  \n",
       "2025-12-01                               4907.31  "
      ]
     },
     "execution_count": 129,
     "metadata": {},
     "output_type": "execute_result"
    }
   ],
   "source": [
    "fit2, fit4, forecast2, forecast4 = holt_winters_M_forecast_annual(GMAF, 24)\n",
    "GMAF_forecast = back_transformation_merge(forecast2, forecast4)\n",
    "GMAF_forecast"
   ]
  },
  {
   "cell_type": "code",
   "execution_count": 130,
   "metadata": {},
   "outputs": [
    {
     "name": "stdout",
     "output_type": "stream",
     "text": [
      "         HW model 1    HW model 2\n",
      "alpha  1.000000e+00  1.000000e+00\n",
      "beta   1.282217e-12  0.000000e+00\n",
      "gamma  1.369026e-08  7.159591e-09\n",
      "l0     6.263109e+00  6.051598e+00\n",
      "b0     3.534649e-03  1.050869e-01\n",
      "MSE    3.834569e-02  3.833131e-02\n"
     ]
    }
   ],
   "source": [
    "MSE_results(GMAF,'mul')"
   ]
  },
  {
   "cell_type": "code",
   "execution_count": 131,
   "metadata": {},
   "outputs": [
    {
     "name": "stdout",
     "output_type": "stream",
     "text": [
      "         HW model 1    HW model 2\n",
      "alpha  1.000000e+00  1.000000e+00\n",
      "beta   1.282217e-12  0.000000e+00\n",
      "gamma  1.369026e-08  7.159591e-09\n",
      "l0     6.263109e+00  6.051598e+00\n",
      "b0     3.534649e-03  1.050869e-01\n",
      "MAE    9.241076e-02  9.226575e-02\n"
     ]
    }
   ],
   "source": [
    "MAE_results(GMAF,\"mul\")"
   ]
  },
  {
   "cell_type": "code",
   "execution_count": 132,
   "metadata": {},
   "outputs": [
    {
     "name": "stdout",
     "output_type": "stream",
     "text": [
      "         HW model 2    HW model 4\n",
      "alpha  1.000000e+00  1.000000e+00\n",
      "beta   1.282217e-12  0.000000e+00\n",
      "gamma  1.369026e-08  7.159591e-09\n",
      "l0     6.263109e+00  6.051598e+00\n",
      "b0     3.534649e-03  1.050869e-01\n",
      "MAPE   1.239660e-02  1.238172e-02\n"
     ]
    }
   ],
   "source": [
    "MAPE_results(GMAF,\"mul\")"
   ]
  },
  {
   "cell_type": "code",
   "execution_count": 133,
   "metadata": {},
   "outputs": [],
   "source": [
    "# Residuals behaviour\n",
    "residualsGMAF = GMAF['Log Data'] - fit4.fittedvalues\n",
    "residualsGMAF_flattened = residualsGMAF.values.flatten()\n",
    "\n",
    "autocorrelation_plot(residualsGMAF_flattened)\n",
    "plot_acf(residualsCH4_flattened, lags=20) \n",
    "plt.title('ACF of the GMAF Model 2 Residuals', fontsize = 20, fontweight = \"bold\")\n",
    "plt.show()"
   ]
  },
  {
   "cell_type": "markdown",
   "metadata": {},
   "source": [
    "### ET12"
   ]
  },
  {
   "cell_type": "code",
   "execution_count": 134,
   "metadata": {},
   "outputs": [],
   "source": [
    "holt_winters_M_forecast_plot(ET12, 12)"
   ]
  },
  {
   "cell_type": "code",
   "execution_count": 135,
   "metadata": {},
   "outputs": [
    {
     "data": {
      "application/vnd.microsoft.datawrangler.viewer.v0+json": {
       "columns": [
        {
         "name": "index",
         "rawType": "datetime64[ns]",
         "type": "datetime"
        },
        {
         "name": "HW-multiplicative seasonality",
         "rawType": "float64",
         "type": "float"
        },
        {
         "name": "Damped HW-multiplicative seasonality",
         "rawType": "float64",
         "type": "float"
        }
       ],
       "conversionMethod": "pd.DataFrame",
       "ref": "06892ee8-d691-4b1e-8cf1-002a71578d21",
       "rows": [
        [
         "2025-01-01 00:00:00",
         "16.04",
         "16.1"
        ],
        [
         "2025-02-01 00:00:00",
         "16.21",
         "16.27"
        ],
        [
         "2025-03-01 00:00:00",
         "15.15",
         "15.21"
        ],
        [
         "2025-04-01 00:00:00",
         "13.54",
         "13.61"
        ],
        [
         "2025-05-01 00:00:00",
         "12.12",
         "12.19"
        ],
        [
         "2025-06-01 00:00:00",
         "11.68",
         "11.75"
        ],
        [
         "2025-07-01 00:00:00",
         "11.15",
         "11.23"
        ],
        [
         "2025-08-01 00:00:00",
         "11.03",
         "11.12"
        ],
        [
         "2025-09-01 00:00:00",
         "12.04",
         "12.14"
        ],
        [
         "2025-10-01 00:00:00",
         "13.1",
         "13.23"
        ],
        [
         "2025-11-01 00:00:00",
         "14.88",
         "15.04"
        ],
        [
         "2025-12-01 00:00:00",
         "15.89",
         "16.08"
        ]
       ],
       "shape": {
        "columns": 2,
        "rows": 12
       }
      },
      "text/html": [
       "<div>\n",
       "<style scoped>\n",
       "    .dataframe tbody tr th:only-of-type {\n",
       "        vertical-align: middle;\n",
       "    }\n",
       "\n",
       "    .dataframe tbody tr th {\n",
       "        vertical-align: top;\n",
       "    }\n",
       "\n",
       "    .dataframe thead th {\n",
       "        text-align: right;\n",
       "    }\n",
       "</style>\n",
       "<table border=\"1\" class=\"dataframe\">\n",
       "  <thead>\n",
       "    <tr style=\"text-align: right;\">\n",
       "      <th></th>\n",
       "      <th>HW-multiplicative seasonality</th>\n",
       "      <th>Damped HW-multiplicative seasonality</th>\n",
       "    </tr>\n",
       "  </thead>\n",
       "  <tbody>\n",
       "    <tr>\n",
       "      <th>2025-01-01</th>\n",
       "      <td>16.04</td>\n",
       "      <td>16.10</td>\n",
       "    </tr>\n",
       "    <tr>\n",
       "      <th>2025-02-01</th>\n",
       "      <td>16.21</td>\n",
       "      <td>16.27</td>\n",
       "    </tr>\n",
       "    <tr>\n",
       "      <th>2025-03-01</th>\n",
       "      <td>15.15</td>\n",
       "      <td>15.21</td>\n",
       "    </tr>\n",
       "    <tr>\n",
       "      <th>2025-04-01</th>\n",
       "      <td>13.54</td>\n",
       "      <td>13.61</td>\n",
       "    </tr>\n",
       "    <tr>\n",
       "      <th>2025-05-01</th>\n",
       "      <td>12.12</td>\n",
       "      <td>12.19</td>\n",
       "    </tr>\n",
       "    <tr>\n",
       "      <th>2025-06-01</th>\n",
       "      <td>11.68</td>\n",
       "      <td>11.75</td>\n",
       "    </tr>\n",
       "    <tr>\n",
       "      <th>2025-07-01</th>\n",
       "      <td>11.15</td>\n",
       "      <td>11.23</td>\n",
       "    </tr>\n",
       "    <tr>\n",
       "      <th>2025-08-01</th>\n",
       "      <td>11.03</td>\n",
       "      <td>11.12</td>\n",
       "    </tr>\n",
       "    <tr>\n",
       "      <th>2025-09-01</th>\n",
       "      <td>12.04</td>\n",
       "      <td>12.14</td>\n",
       "    </tr>\n",
       "    <tr>\n",
       "      <th>2025-10-01</th>\n",
       "      <td>13.10</td>\n",
       "      <td>13.23</td>\n",
       "    </tr>\n",
       "    <tr>\n",
       "      <th>2025-11-01</th>\n",
       "      <td>14.88</td>\n",
       "      <td>15.04</td>\n",
       "    </tr>\n",
       "    <tr>\n",
       "      <th>2025-12-01</th>\n",
       "      <td>15.89</td>\n",
       "      <td>16.08</td>\n",
       "    </tr>\n",
       "  </tbody>\n",
       "</table>\n",
       "</div>"
      ],
      "text/plain": [
       "            HW-multiplicative seasonality  \\\n",
       "2025-01-01                          16.04   \n",
       "2025-02-01                          16.21   \n",
       "2025-03-01                          15.15   \n",
       "2025-04-01                          13.54   \n",
       "2025-05-01                          12.12   \n",
       "2025-06-01                          11.68   \n",
       "2025-07-01                          11.15   \n",
       "2025-08-01                          11.03   \n",
       "2025-09-01                          12.04   \n",
       "2025-10-01                          13.10   \n",
       "2025-11-01                          14.88   \n",
       "2025-12-01                          15.89   \n",
       "\n",
       "            Damped HW-multiplicative seasonality  \n",
       "2025-01-01                                 16.10  \n",
       "2025-02-01                                 16.27  \n",
       "2025-03-01                                 15.21  \n",
       "2025-04-01                                 13.61  \n",
       "2025-05-01                                 12.19  \n",
       "2025-06-01                                 11.75  \n",
       "2025-07-01                                 11.23  \n",
       "2025-08-01                                 11.12  \n",
       "2025-09-01                                 12.14  \n",
       "2025-10-01                                 13.23  \n",
       "2025-11-01                                 15.04  \n",
       "2025-12-01                                 16.08  "
      ]
     },
     "execution_count": 135,
     "metadata": {},
     "output_type": "execute_result"
    }
   ],
   "source": [
    "fit2, fit4,forecast2, forecast4 = holt_winters_M_forecast_annual(ET12, 12)\n",
    "ET12_forecast = back_transformation_merge(forecast2, forecast4)\n",
    "ET12_forecast"
   ]
  },
  {
   "cell_type": "code",
   "execution_count": 136,
   "metadata": {},
   "outputs": [
    {
     "name": "stdout",
     "output_type": "stream",
     "text": [
      "       HW model 1    HW model 2\n",
      "alpha    0.292059  2.996873e-01\n",
      "beta     0.000000  3.527778e-13\n",
      "gamma    0.000000  4.181360e-12\n",
      "l0       2.883013  2.889285e+00\n",
      "b0      -0.000781  1.076465e-02\n",
      "MSE      0.001897  1.896529e-03\n"
     ]
    }
   ],
   "source": [
    "MSE_results(ET12,\"mul\")"
   ]
  },
  {
   "cell_type": "code",
   "execution_count": 137,
   "metadata": {},
   "outputs": [
    {
     "name": "stdout",
     "output_type": "stream",
     "text": [
      "       HW model 1    HW model 2\n",
      "alpha    0.292059  2.996873e-01\n",
      "beta     0.000000  3.527778e-13\n",
      "gamma    0.000000  4.181360e-12\n",
      "l0       2.883013  2.889285e+00\n",
      "b0      -0.000781  1.076465e-02\n",
      "MAE      0.031571  3.170332e-02\n"
     ]
    }
   ],
   "source": [
    "MAE_results(ET12, \"mul\")"
   ]
  },
  {
   "cell_type": "code",
   "execution_count": 138,
   "metadata": {},
   "outputs": [
    {
     "name": "stdout",
     "output_type": "stream",
     "text": [
      "       HW model 2    HW model 4\n",
      "alpha    0.292059  2.996873e-01\n",
      "beta     0.000000  3.527778e-13\n",
      "gamma    0.000000  4.181360e-12\n",
      "l0       2.883013  2.889285e+00\n",
      "b0      -0.000781  1.076465e-02\n",
      "MAPE     0.011180  1.123794e-02\n"
     ]
    }
   ],
   "source": [
    "MAPE_results(ET12, \"mul\")"
   ]
  },
  {
   "cell_type": "code",
   "execution_count": 139,
   "metadata": {},
   "outputs": [],
   "source": [
    "# Residuals behaviour\n",
    "residualsET12 = ET12['Log Data'] - fit2.fittedvalues\n",
    "residualsET12_flattened = residualsET12.values.flatten()\n",
    "autocorrelation_plot(residualsET12_flattened)\n",
    "plot_acf(residualsCH4_flattened, lags=20)  # You can adjust the number of lags as needed\n",
    "plt.title('ACF of the ET12 Model 1 Residuals', fontsize = 20, fontweight = \"bold\")\n",
    "plt.show()"
   ]
  }
 ],
 "metadata": {
  "kernelspec": {
   "display_name": "datasciences1",
   "language": "python",
   "name": "python3"
  },
  "language_info": {
   "codemirror_mode": {
    "name": "ipython",
    "version": 3
   },
   "file_extension": ".py",
   "mimetype": "text/x-python",
   "name": "python",
   "nbconvert_exporter": "python",
   "pygments_lexer": "ipython3",
   "version": "3.9.16"
  }
 },
 "nbformat": 4,
 "nbformat_minor": 2
}
