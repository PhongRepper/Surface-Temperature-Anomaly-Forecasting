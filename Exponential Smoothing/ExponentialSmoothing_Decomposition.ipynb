{
 "cells": [
  {
   "cell_type": "code",
   "execution_count": 1,
   "metadata": {},
   "outputs": [],
   "source": [
    "#Import libraries\n",
    "import pandas as pd\n",
    "import numpy as np\n",
    "import matplotlib.pyplot as plt\n",
    "import seaborn as sns\n",
    "import matplotlib       \n",
    "matplotlib.use('Qt5Agg')\n",
    "sns.set_style(\"whitegrid\")\n",
    "import calendar"
   ]
  },
  {
   "cell_type": "markdown",
   "metadata": {},
   "source": [
    "# DATA PREPROCESSING"
   ]
  },
  {
   "cell_type": "markdown",
   "metadata": {},
   "source": [
    "### MSTA"
   ]
  },
  {
   "cell_type": "code",
   "execution_count": 2,
   "metadata": {},
   "outputs": [],
   "source": [
    "MSTA= pd.read_excel('Data_36544086.xlsx', sheet_name='MSTA',\n",
    "                                header=0, \n",
    "                                usecols=['Time', 'Anomaly (deg C)'],\n",
    "                                parse_dates=True).squeeze()"
   ]
  },
  {
   "cell_type": "code",
   "execution_count": 3,
   "metadata": {},
   "outputs": [],
   "source": [
    "MSTA['Time'] = pd.to_datetime(MSTA['Time'])\n",
    "MSTA = MSTA.set_index('Time')"
   ]
  },
  {
   "cell_type": "code",
   "execution_count": 4,
   "metadata": {},
   "outputs": [
    {
     "data": {
      "application/vnd.microsoft.datawrangler.viewer.v0+json": {
       "columns": [
        {
         "name": "index",
         "rawType": "object",
         "type": "string"
        },
        {
         "name": "Anomaly (deg C)",
         "rawType": "float64",
         "type": "float"
        }
       ],
       "conversionMethod": "pd.DataFrame",
       "ref": "0a01fb81-3e69-4f0b-bb73-dbb644dc37c1",
       "rows": [
        [
         "count",
         "2100.0"
        ],
        [
         "mean",
         "-0.06502215366849051"
        ],
        [
         "std",
         "0.40623704175985204"
        ],
        [
         "min",
         "-1.0448953"
        ],
        [
         "25%",
         "-0.34592773"
        ],
        [
         "50%",
         "-0.15394249"
        ],
        [
         "75%",
         "0.12239733125"
        ],
        [
         "max",
         "1.3521734"
        ]
       ],
       "shape": {
        "columns": 1,
        "rows": 8
       }
      },
      "text/html": [
       "<div>\n",
       "<style scoped>\n",
       "    .dataframe tbody tr th:only-of-type {\n",
       "        vertical-align: middle;\n",
       "    }\n",
       "\n",
       "    .dataframe tbody tr th {\n",
       "        vertical-align: top;\n",
       "    }\n",
       "\n",
       "    .dataframe thead th {\n",
       "        text-align: right;\n",
       "    }\n",
       "</style>\n",
       "<table border=\"1\" class=\"dataframe\">\n",
       "  <thead>\n",
       "    <tr style=\"text-align: right;\">\n",
       "      <th></th>\n",
       "      <th>Anomaly (deg C)</th>\n",
       "    </tr>\n",
       "  </thead>\n",
       "  <tbody>\n",
       "    <tr>\n",
       "      <th>count</th>\n",
       "      <td>2100.000000</td>\n",
       "    </tr>\n",
       "    <tr>\n",
       "      <th>mean</th>\n",
       "      <td>-0.065022</td>\n",
       "    </tr>\n",
       "    <tr>\n",
       "      <th>std</th>\n",
       "      <td>0.406237</td>\n",
       "    </tr>\n",
       "    <tr>\n",
       "      <th>min</th>\n",
       "      <td>-1.044895</td>\n",
       "    </tr>\n",
       "    <tr>\n",
       "      <th>25%</th>\n",
       "      <td>-0.345928</td>\n",
       "    </tr>\n",
       "    <tr>\n",
       "      <th>50%</th>\n",
       "      <td>-0.153942</td>\n",
       "    </tr>\n",
       "    <tr>\n",
       "      <th>75%</th>\n",
       "      <td>0.122397</td>\n",
       "    </tr>\n",
       "    <tr>\n",
       "      <th>max</th>\n",
       "      <td>1.352173</td>\n",
       "    </tr>\n",
       "  </tbody>\n",
       "</table>\n",
       "</div>"
      ],
      "text/plain": [
       "       Anomaly (deg C)\n",
       "count      2100.000000\n",
       "mean         -0.065022\n",
       "std           0.406237\n",
       "min          -1.044895\n",
       "25%          -0.345928\n",
       "50%          -0.153942\n",
       "75%           0.122397\n",
       "max           1.352173"
      ]
     },
     "execution_count": 4,
     "metadata": {},
     "output_type": "execute_result"
    }
   ],
   "source": [
    "MSTA.describe()"
   ]
  },
  {
   "cell_type": "code",
   "execution_count": 5,
   "metadata": {},
   "outputs": [
    {
     "data": {
      "text/plain": [
       "Anomaly (deg C)    0\n",
       "dtype: int64"
      ]
     },
     "execution_count": 5,
     "metadata": {},
     "output_type": "execute_result"
    }
   ],
   "source": [
    "MSTA.isna().sum()"
   ]
  },
  {
   "cell_type": "code",
   "execution_count": 6,
   "metadata": {},
   "outputs": [
    {
     "data": {
      "application/vnd.microsoft.datawrangler.viewer.v0+json": {
       "columns": [
        {
         "name": "Time",
         "rawType": "datetime64[ns]",
         "type": "datetime"
        },
        {
         "name": "Anomaly (deg C)",
         "rawType": "float64",
         "type": "float"
        }
       ],
       "conversionMethod": "pd.DataFrame",
       "ref": "e1c87944-c644-4151-9376-2e9b53565a71",
       "rows": [
        [
         "1950-01-01 00:00:00",
         "-0.3000435"
        ],
        [
         "1950-02-01 00:00:00",
         "-0.3700363"
        ],
        [
         "1950-03-01 00:00:00",
         "-0.21643846"
        ],
        [
         "1950-04-01 00:00:00",
         "-0.24361575"
        ],
        [
         "1950-05-01 00:00:00",
         "-0.13729782"
        ],
        [
         "1950-06-01 00:00:00",
         "-0.105043374"
        ],
        [
         "1950-07-01 00:00:00",
         "-0.10670231"
        ],
        [
         "1950-08-01 00:00:00",
         "-0.15261763"
        ],
        [
         "1950-09-01 00:00:00",
         "-0.24503586"
        ],
        [
         "1950-10-01 00:00:00",
         "-0.20104446"
        ],
        [
         "1950-11-01 00:00:00",
         "-0.38081577"
        ],
        [
         "1950-12-01 00:00:00",
         "-0.2607705"
        ],
        [
         "1951-01-01 00:00:00",
         "-0.3603426"
        ],
        [
         "1951-02-01 00:00:00",
         "-0.50937843"
        ],
        [
         "1951-03-01 00:00:00",
         "-0.2620192"
        ],
        [
         "1951-04-01 00:00:00",
         "-0.108077675"
        ],
        [
         "1951-05-01 00:00:00",
         "0.03226914"
        ],
        [
         "1951-06-01 00:00:00",
         "0.060181145"
        ],
        [
         "1951-07-01 00:00:00",
         "0.03866412"
        ],
        [
         "1951-08-01 00:00:00",
         "0.12133113"
        ],
        [
         "1951-09-01 00:00:00",
         "0.13226272"
        ],
        [
         "1951-10-01 00:00:00",
         "0.12436143"
        ],
        [
         "1951-11-01 00:00:00",
         "-0.07229671"
        ],
        [
         "1951-12-01 00:00:00",
         "0.06919738"
        ],
        [
         "1952-01-01 00:00:00",
         "0.09402649"
        ],
        [
         "1952-02-01 00:00:00",
         "0.068350874"
        ],
        [
         "1952-03-01 00:00:00",
         "-0.16353905"
        ],
        [
         "1952-04-01 00:00:00",
         "0.045588057"
        ],
        [
         "1952-05-01 00:00:00",
         "0.022243632"
        ],
        [
         "1952-06-01 00:00:00",
         "0.023484357"
        ],
        [
         "1952-07-01 00:00:00",
         "0.09006012"
        ],
        [
         "1952-08-01 00:00:00",
         "0.096942395"
        ],
        [
         "1952-09-01 00:00:00",
         "0.09621102"
        ],
        [
         "1952-10-01 00:00:00",
         "-0.016534438"
        ],
        [
         "1952-11-01 00:00:00",
         "-0.13228506"
        ],
        [
         "1952-12-01 00:00:00",
         "-0.040293824"
        ],
        [
         "1953-01-01 00:00:00",
         "-0.009005203"
        ],
        [
         "1953-02-01 00:00:00",
         "0.09501187"
        ],
        [
         "1953-03-01 00:00:00",
         "0.01800697"
        ],
        [
         "1953-04-01 00:00:00",
         "0.22455436"
        ],
        [
         "1953-05-01 00:00:00",
         "0.14901619"
        ],
        [
         "1953-06-01 00:00:00",
         "0.1404282"
        ],
        [
         "1953-07-01 00:00:00",
         "0.043144584"
        ],
        [
         "1953-08-01 00:00:00",
         "0.08707856"
        ],
        [
         "1953-09-01 00:00:00",
         "0.08630111"
        ],
        [
         "1953-10-01 00:00:00",
         "0.08342033"
        ],
        [
         "1953-11-01 00:00:00",
         "-0.0058099576"
        ],
        [
         "1953-12-01 00:00:00",
         "0.019422"
        ],
        [
         "1954-01-01 00:00:00",
         "-0.24345858"
        ],
        [
         "1954-02-01 00:00:00",
         "-0.08907446"
        ]
       ],
       "shape": {
        "columns": 1,
        "rows": 900
       }
      },
      "text/html": [
       "<div>\n",
       "<style scoped>\n",
       "    .dataframe tbody tr th:only-of-type {\n",
       "        vertical-align: middle;\n",
       "    }\n",
       "\n",
       "    .dataframe tbody tr th {\n",
       "        vertical-align: top;\n",
       "    }\n",
       "\n",
       "    .dataframe thead th {\n",
       "        text-align: right;\n",
       "    }\n",
       "</style>\n",
       "<table border=\"1\" class=\"dataframe\">\n",
       "  <thead>\n",
       "    <tr style=\"text-align: right;\">\n",
       "      <th></th>\n",
       "      <th>Anomaly (deg C)</th>\n",
       "    </tr>\n",
       "    <tr>\n",
       "      <th>Time</th>\n",
       "      <th></th>\n",
       "    </tr>\n",
       "  </thead>\n",
       "  <tbody>\n",
       "    <tr>\n",
       "      <th>1950-01-01</th>\n",
       "      <td>-0.300044</td>\n",
       "    </tr>\n",
       "    <tr>\n",
       "      <th>1950-02-01</th>\n",
       "      <td>-0.370036</td>\n",
       "    </tr>\n",
       "    <tr>\n",
       "      <th>1950-03-01</th>\n",
       "      <td>-0.216438</td>\n",
       "    </tr>\n",
       "    <tr>\n",
       "      <th>1950-04-01</th>\n",
       "      <td>-0.243616</td>\n",
       "    </tr>\n",
       "    <tr>\n",
       "      <th>1950-05-01</th>\n",
       "      <td>-0.137298</td>\n",
       "    </tr>\n",
       "    <tr>\n",
       "      <th>...</th>\n",
       "      <td>...</td>\n",
       "    </tr>\n",
       "    <tr>\n",
       "      <th>2024-08-01</th>\n",
       "      <td>1.239584</td>\n",
       "    </tr>\n",
       "    <tr>\n",
       "      <th>2024-09-01</th>\n",
       "      <td>1.144937</td>\n",
       "    </tr>\n",
       "    <tr>\n",
       "      <th>2024-10-01</th>\n",
       "      <td>1.199982</td>\n",
       "    </tr>\n",
       "    <tr>\n",
       "      <th>2024-11-01</th>\n",
       "      <td>1.225049</td>\n",
       "    </tr>\n",
       "    <tr>\n",
       "      <th>2024-12-01</th>\n",
       "      <td>1.096270</td>\n",
       "    </tr>\n",
       "  </tbody>\n",
       "</table>\n",
       "<p>900 rows × 1 columns</p>\n",
       "</div>"
      ],
      "text/plain": [
       "            Anomaly (deg C)\n",
       "Time                       \n",
       "1950-01-01        -0.300044\n",
       "1950-02-01        -0.370036\n",
       "1950-03-01        -0.216438\n",
       "1950-04-01        -0.243616\n",
       "1950-05-01        -0.137298\n",
       "...                     ...\n",
       "2024-08-01         1.239584\n",
       "2024-09-01         1.144937\n",
       "2024-10-01         1.199982\n",
       "2024-11-01         1.225049\n",
       "2024-12-01         1.096270\n",
       "\n",
       "[900 rows x 1 columns]"
      ]
     },
     "execution_count": 6,
     "metadata": {},
     "output_type": "execute_result"
    }
   ],
   "source": [
    "# Extract data from the year 1950 onwards\n",
    "MSTA_1950_onwards = MSTA[MSTA.index >= '1950-01-01']\n",
    "MSTA_1950_onwards"
   ]
  },
  {
   "cell_type": "markdown",
   "metadata": {},
   "source": [
    "### CH4"
   ]
  },
  {
   "cell_type": "code",
   "execution_count": 7,
   "metadata": {},
   "outputs": [],
   "source": [
    "CH4 = pd.read_excel('Data_36544086.xlsx', sheet_name='CH4',\n",
    "                header=0, \n",
    "                usecols=['Year', 'Month', 'NOAA CH4 (ppb)'], \n",
    "                parse_dates=True).squeeze()"
   ]
  },
  {
   "cell_type": "code",
   "execution_count": 8,
   "metadata": {},
   "outputs": [],
   "source": [
    "# Convert 'Year' and 'Month' to strings and concatenate them\n",
    "CH4['Time'] = CH4['Year'].astype(str) + '-' + CH4['Month'].astype(str).str.zfill(2)"
   ]
  },
  {
   "cell_type": "code",
   "execution_count": 9,
   "metadata": {},
   "outputs": [],
   "source": [
    "CH4 = CH4.drop(columns=['Year', 'Month'])\n",
    "CH4['Time'] = pd.to_datetime(CH4['Time'])\n",
    "CH4 = CH4.set_index('Time')\n"
   ]
  },
  {
   "cell_type": "code",
   "execution_count": 10,
   "metadata": {},
   "outputs": [
    {
     "data": {
      "text/plain": [
       "NOAA CH4 (ppb)    0\n",
       "dtype: int64"
      ]
     },
     "execution_count": 10,
     "metadata": {},
     "output_type": "execute_result"
    }
   ],
   "source": [
    "CH4.describe()\n",
    "CH4.isna().sum()"
   ]
  },
  {
   "cell_type": "code",
   "execution_count": 11,
   "metadata": {},
   "outputs": [
    {
     "data": {
      "application/vnd.microsoft.datawrangler.viewer.v0+json": {
       "columns": [
        {
         "name": "Time",
         "rawType": "datetime64[ns]",
         "type": "datetime"
        },
        {
         "name": "NOAA CH4 (ppb)",
         "rawType": "float64",
         "type": "float"
        }
       ],
       "conversionMethod": "pd.DataFrame",
       "ref": "4029425c-1d81-4da3-ab5d-4dbe8f79094d",
       "rows": [
        [
         "1983-07-01 00:00:00",
         "1625.95"
        ],
        [
         "1983-08-01 00:00:00",
         "1628.05"
        ],
        [
         "1983-09-01 00:00:00",
         "1638.44"
        ],
        [
         "1983-10-01 00:00:00",
         "1644.8"
        ],
        [
         "1983-11-01 00:00:00",
         "1642.59"
        ],
        [
         "1983-12-01 00:00:00",
         "1639.56"
        ],
        [
         "1984-01-01 00:00:00",
         "1638.73"
        ],
        [
         "1984-02-01 00:00:00",
         "1638.78"
        ],
        [
         "1984-03-01 00:00:00",
         "1640.88"
        ],
        [
         "1984-04-01 00:00:00",
         "1643.98"
        ],
        [
         "1984-05-01 00:00:00",
         "1643.13"
        ],
        [
         "1984-06-01 00:00:00",
         "1639.76"
        ],
        [
         "1984-07-01 00:00:00",
         "1638.0"
        ],
        [
         "1984-08-01 00:00:00",
         "1641.68"
        ],
        [
         "1984-09-01 00:00:00",
         "1650.62"
        ],
        [
         "1984-10-01 00:00:00",
         "1654.59"
        ],
        [
         "1984-11-01 00:00:00",
         "1653.77"
        ],
        [
         "1984-12-01 00:00:00",
         "1656.23"
        ],
        [
         "1985-01-01 00:00:00",
         "1655.6"
        ],
        [
         "1985-02-01 00:00:00",
         "1652.21"
        ],
        [
         "1985-03-01 00:00:00",
         "1654.62"
        ],
        [
         "1985-04-01 00:00:00",
         "1658.2"
        ],
        [
         "1985-05-01 00:00:00",
         "1655.86"
        ],
        [
         "1985-06-01 00:00:00",
         "1650.07"
        ],
        [
         "1985-07-01 00:00:00",
         "1646.81"
        ],
        [
         "1985-08-01 00:00:00",
         "1652.23"
        ],
        [
         "1985-09-01 00:00:00",
         "1662.5"
        ],
        [
         "1985-10-01 00:00:00",
         "1667.49"
        ],
        [
         "1985-11-01 00:00:00",
         "1666.79"
        ],
        [
         "1985-12-01 00:00:00",
         "1666.08"
        ],
        [
         "1986-01-01 00:00:00",
         "1666.28"
        ],
        [
         "1986-02-01 00:00:00",
         "1666.89"
        ],
        [
         "1986-03-01 00:00:00",
         "1669.28"
        ],
        [
         "1986-04-01 00:00:00",
         "1670.81"
        ],
        [
         "1986-05-01 00:00:00",
         "1668.43"
        ],
        [
         "1986-06-01 00:00:00",
         "1664.78"
        ],
        [
         "1986-07-01 00:00:00",
         "1662.33"
        ],
        [
         "1986-08-01 00:00:00",
         "1664.36"
        ],
        [
         "1986-09-01 00:00:00",
         "1672.59"
        ],
        [
         "1986-10-01 00:00:00",
         "1678.67"
        ],
        [
         "1986-11-01 00:00:00",
         "1678.97"
        ],
        [
         "1986-12-01 00:00:00",
         "1679.14"
        ],
        [
         "1987-01-01 00:00:00",
         "1679.39"
        ],
        [
         "1987-02-01 00:00:00",
         "1679.0"
        ],
        [
         "1987-03-01 00:00:00",
         "1680.04"
        ],
        [
         "1987-04-01 00:00:00",
         "1681.35"
        ],
        [
         "1987-05-01 00:00:00",
         "1681.83"
        ],
        [
         "1987-06-01 00:00:00",
         "1680.0"
        ],
        [
         "1987-07-01 00:00:00",
         "1675.96"
        ],
        [
         "1987-08-01 00:00:00",
         "1677.15"
        ]
       ],
       "shape": {
        "columns": 1,
        "rows": 495
       }
      },
      "text/html": [
       "<div>\n",
       "<style scoped>\n",
       "    .dataframe tbody tr th:only-of-type {\n",
       "        vertical-align: middle;\n",
       "    }\n",
       "\n",
       "    .dataframe tbody tr th {\n",
       "        vertical-align: top;\n",
       "    }\n",
       "\n",
       "    .dataframe thead th {\n",
       "        text-align: right;\n",
       "    }\n",
       "</style>\n",
       "<table border=\"1\" class=\"dataframe\">\n",
       "  <thead>\n",
       "    <tr style=\"text-align: right;\">\n",
       "      <th></th>\n",
       "      <th>NOAA CH4 (ppb)</th>\n",
       "    </tr>\n",
       "    <tr>\n",
       "      <th>Time</th>\n",
       "      <th></th>\n",
       "    </tr>\n",
       "  </thead>\n",
       "  <tbody>\n",
       "    <tr>\n",
       "      <th>1983-07-01</th>\n",
       "      <td>1625.95</td>\n",
       "    </tr>\n",
       "    <tr>\n",
       "      <th>1983-08-01</th>\n",
       "      <td>1628.05</td>\n",
       "    </tr>\n",
       "    <tr>\n",
       "      <th>1983-09-01</th>\n",
       "      <td>1638.44</td>\n",
       "    </tr>\n",
       "    <tr>\n",
       "      <th>1983-10-01</th>\n",
       "      <td>1644.80</td>\n",
       "    </tr>\n",
       "    <tr>\n",
       "      <th>1983-11-01</th>\n",
       "      <td>1642.59</td>\n",
       "    </tr>\n",
       "    <tr>\n",
       "      <th>...</th>\n",
       "      <td>...</td>\n",
       "    </tr>\n",
       "    <tr>\n",
       "      <th>2024-05-01</th>\n",
       "      <td>1926.36</td>\n",
       "    </tr>\n",
       "    <tr>\n",
       "      <th>2024-06-01</th>\n",
       "      <td>1921.77</td>\n",
       "    </tr>\n",
       "    <tr>\n",
       "      <th>2024-07-01</th>\n",
       "      <td>1921.03</td>\n",
       "    </tr>\n",
       "    <tr>\n",
       "      <th>2024-08-01</th>\n",
       "      <td>1926.83</td>\n",
       "    </tr>\n",
       "    <tr>\n",
       "      <th>2024-09-01</th>\n",
       "      <td>1936.64</td>\n",
       "    </tr>\n",
       "  </tbody>\n",
       "</table>\n",
       "<p>495 rows × 1 columns</p>\n",
       "</div>"
      ],
      "text/plain": [
       "            NOAA CH4 (ppb)\n",
       "Time                      \n",
       "1983-07-01         1625.95\n",
       "1983-08-01         1628.05\n",
       "1983-09-01         1638.44\n",
       "1983-10-01         1644.80\n",
       "1983-11-01         1642.59\n",
       "...                    ...\n",
       "2024-05-01         1926.36\n",
       "2024-06-01         1921.77\n",
       "2024-07-01         1921.03\n",
       "2024-08-01         1926.83\n",
       "2024-09-01         1936.64\n",
       "\n",
       "[495 rows x 1 columns]"
      ]
     },
     "execution_count": 11,
     "metadata": {},
     "output_type": "execute_result"
    }
   ],
   "source": [
    "CH4"
   ]
  },
  {
   "cell_type": "markdown",
   "metadata": {},
   "source": [
    "### GMAF"
   ]
  },
  {
   "cell_type": "code",
   "execution_count": 12,
   "metadata": {},
   "outputs": [],
   "source": [
    "GMAF = pd.read_excel('Data_36544086.xlsx', sheet_name='GMAF',\n",
    "                    header=None,\n",
    "                    skiprows=227,\n",
    "                    usecols=[0,2],\n",
    "                    names=['Time', 'Passenger Count'], \n",
    "                    parse_dates=True).squeeze()"
   ]
  },
  {
   "cell_type": "code",
   "execution_count": 13,
   "metadata": {},
   "outputs": [],
   "source": [
    "# Reset the index to access the 'Time' column\n",
    "#GMAF = GMAF.reset_index()\n",
    "\n",
    "# Convert the 'Time' column to datetime format\n",
    "GMAF['Time'] = pd.to_datetime(GMAF['Time'], format='%Y %b')\n",
    "\n",
    "# Format the dates to 'YYYY-MM'\n",
    "GMAF['Time'] = GMAF['Time'].dt.strftime('%Y-%m')\n",
    "\n",
    "GMAF['Time'] = pd.to_datetime(GMAF['Time'])\n",
    "\n",
    "# Set 'Time' column back as the index\n",
    "GMAF = GMAF.set_index('Time')"
   ]
  },
  {
   "cell_type": "code",
   "execution_count": 14,
   "metadata": {},
   "outputs": [],
   "source": [
    "GMAF['Passenger Count'] = GMAF['Passenger Count'].astype(int)"
   ]
  },
  {
   "cell_type": "code",
   "execution_count": 15,
   "metadata": {},
   "outputs": [
    {
     "data": {
      "application/vnd.microsoft.datawrangler.viewer.v0+json": {
       "columns": [
        {
         "name": "index",
         "rawType": "object",
         "type": "string"
        },
        {
         "name": "Passenger Count",
         "rawType": "float64",
         "type": "float"
        }
       ],
       "conversionMethod": "pd.DataFrame",
       "ref": "31809496-6959-4f5b-9be6-ae18beb4760e",
       "rows": [
        [
         "count",
         "528.0"
        ],
        [
         "mean",
         "4259.448863636364"
        ],
        [
         "std",
         "2304.9164418329187"
        ],
        [
         "min",
         "150.0"
        ],
        [
         "25%",
         "2475.5"
        ],
        [
         "50%",
         "4033.0"
        ],
        [
         "75%",
         "5793.25"
        ],
        [
         "max",
         "11628.0"
        ]
       ],
       "shape": {
        "columns": 1,
        "rows": 8
       }
      },
      "text/html": [
       "<div>\n",
       "<style scoped>\n",
       "    .dataframe tbody tr th:only-of-type {\n",
       "        vertical-align: middle;\n",
       "    }\n",
       "\n",
       "    .dataframe tbody tr th {\n",
       "        vertical-align: top;\n",
       "    }\n",
       "\n",
       "    .dataframe thead th {\n",
       "        text-align: right;\n",
       "    }\n",
       "</style>\n",
       "<table border=\"1\" class=\"dataframe\">\n",
       "  <thead>\n",
       "    <tr style=\"text-align: right;\">\n",
       "      <th></th>\n",
       "      <th>Passenger Count</th>\n",
       "    </tr>\n",
       "  </thead>\n",
       "  <tbody>\n",
       "    <tr>\n",
       "      <th>count</th>\n",
       "      <td>528.000000</td>\n",
       "    </tr>\n",
       "    <tr>\n",
       "      <th>mean</th>\n",
       "      <td>4259.448864</td>\n",
       "    </tr>\n",
       "    <tr>\n",
       "      <th>std</th>\n",
       "      <td>2304.916442</td>\n",
       "    </tr>\n",
       "    <tr>\n",
       "      <th>min</th>\n",
       "      <td>150.000000</td>\n",
       "    </tr>\n",
       "    <tr>\n",
       "      <th>25%</th>\n",
       "      <td>2475.500000</td>\n",
       "    </tr>\n",
       "    <tr>\n",
       "      <th>50%</th>\n",
       "      <td>4033.000000</td>\n",
       "    </tr>\n",
       "    <tr>\n",
       "      <th>75%</th>\n",
       "      <td>5793.250000</td>\n",
       "    </tr>\n",
       "    <tr>\n",
       "      <th>max</th>\n",
       "      <td>11628.000000</td>\n",
       "    </tr>\n",
       "  </tbody>\n",
       "</table>\n",
       "</div>"
      ],
      "text/plain": [
       "       Passenger Count\n",
       "count       528.000000\n",
       "mean       4259.448864\n",
       "std        2304.916442\n",
       "min         150.000000\n",
       "25%        2475.500000\n",
       "50%        4033.000000\n",
       "75%        5793.250000\n",
       "max       11628.000000"
      ]
     },
     "execution_count": 15,
     "metadata": {},
     "output_type": "execute_result"
    }
   ],
   "source": [
    "GMAF.describe()"
   ]
  },
  {
   "cell_type": "code",
   "execution_count": 16,
   "metadata": {},
   "outputs": [
    {
     "data": {
      "text/plain": [
       "Passenger Count    0\n",
       "dtype: int64"
      ]
     },
     "execution_count": 16,
     "metadata": {},
     "output_type": "execute_result"
    }
   ],
   "source": [
    "GMAF.isna().sum()"
   ]
  },
  {
   "cell_type": "markdown",
   "metadata": {},
   "source": [
    "### ET12"
   ]
  },
  {
   "cell_type": "code",
   "execution_count": 17,
   "metadata": {},
   "outputs": [],
   "source": [
    "ET12 = pd.read_excel('Data_36544086.xlsx', sheet_name='ET12',\n",
    "                                    header=None,\n",
    "                                    skiprows= 6,\n",
    "                                    usecols=[0,1],\n",
    "                                    names=['Time', 'Unadjusted Total'], parse_dates=True).squeeze()"
   ]
  },
  {
   "cell_type": "code",
   "execution_count": 18,
   "metadata": {},
   "outputs": [],
   "source": [
    "ET12 = ET12.set_index('Time')"
   ]
  },
  {
   "cell_type": "code",
   "execution_count": 19,
   "metadata": {},
   "outputs": [],
   "source": [
    "ET12['Unadjusted Total'] = ET12['Unadjusted Total'].round(2)"
   ]
  },
  {
   "cell_type": "code",
   "execution_count": 20,
   "metadata": {},
   "outputs": [],
   "source": [
    "# Reset the index to access the 'Time' column\n",
    "ET12 = ET12.reset_index()\n",
    "\n",
    "# Clean the 'Time' column to remove unwanted characters or spaces\n",
    "ET12['Time'] = ET12['Time'].str.replace(r'\\[.*\\]', '', regex=True).str.strip()\n",
    "\n",
    "# Convert the 'Time' column to datetime format\n",
    "ET12['Time'] = pd.to_datetime(ET12['Time'], format='%B %Y')\n",
    "\n",
    "# Format the dates to 'YYYY-MM'\n",
    "ET12['Time'] = ET12['Time'].dt.strftime('%Y-%m')\n",
    "\n",
    "# Set 'Time' column back as the index\n",
    "ET12['Time'] = pd.to_datetime(ET12['Time'])\n",
    "ET12 = ET12.set_index('Time')"
   ]
  },
  {
   "cell_type": "code",
   "execution_count": 21,
   "metadata": {},
   "outputs": [
    {
     "data": {
      "application/vnd.microsoft.datawrangler.viewer.v0+json": {
       "columns": [
        {
         "name": "index",
         "rawType": "object",
         "type": "string"
        },
        {
         "name": "Unadjusted Total",
         "rawType": "float64",
         "type": "float"
        }
       ],
       "conversionMethod": "pd.DataFrame",
       "ref": "480f9ac1-1332-44bb-93dd-c76c2c640415",
       "rows": [
        [
         "count",
         "360.0"
        ],
        [
         "mean",
         "17.36963888888889"
        ],
        [
         "std",
         "3.3742627599012947"
        ],
        [
         "min",
         "10.02"
        ],
        [
         "25%",
         "14.89"
        ],
        [
         "50%",
         "16.9"
        ],
        [
         "75%",
         "19.735"
        ],
        [
         "max",
         "25.02"
        ]
       ],
       "shape": {
        "columns": 1,
        "rows": 8
       }
      },
      "text/html": [
       "<div>\n",
       "<style scoped>\n",
       "    .dataframe tbody tr th:only-of-type {\n",
       "        vertical-align: middle;\n",
       "    }\n",
       "\n",
       "    .dataframe tbody tr th {\n",
       "        vertical-align: top;\n",
       "    }\n",
       "\n",
       "    .dataframe thead th {\n",
       "        text-align: right;\n",
       "    }\n",
       "</style>\n",
       "<table border=\"1\" class=\"dataframe\">\n",
       "  <thead>\n",
       "    <tr style=\"text-align: right;\">\n",
       "      <th></th>\n",
       "      <th>Unadjusted Total</th>\n",
       "    </tr>\n",
       "  </thead>\n",
       "  <tbody>\n",
       "    <tr>\n",
       "      <th>count</th>\n",
       "      <td>360.000000</td>\n",
       "    </tr>\n",
       "    <tr>\n",
       "      <th>mean</th>\n",
       "      <td>17.369639</td>\n",
       "    </tr>\n",
       "    <tr>\n",
       "      <th>std</th>\n",
       "      <td>3.374263</td>\n",
       "    </tr>\n",
       "    <tr>\n",
       "      <th>min</th>\n",
       "      <td>10.020000</td>\n",
       "    </tr>\n",
       "    <tr>\n",
       "      <th>25%</th>\n",
       "      <td>14.890000</td>\n",
       "    </tr>\n",
       "    <tr>\n",
       "      <th>50%</th>\n",
       "      <td>16.900000</td>\n",
       "    </tr>\n",
       "    <tr>\n",
       "      <th>75%</th>\n",
       "      <td>19.735000</td>\n",
       "    </tr>\n",
       "    <tr>\n",
       "      <th>max</th>\n",
       "      <td>25.020000</td>\n",
       "    </tr>\n",
       "  </tbody>\n",
       "</table>\n",
       "</div>"
      ],
      "text/plain": [
       "       Unadjusted Total\n",
       "count        360.000000\n",
       "mean          17.369639\n",
       "std            3.374263\n",
       "min           10.020000\n",
       "25%           14.890000\n",
       "50%           16.900000\n",
       "75%           19.735000\n",
       "max           25.020000"
      ]
     },
     "execution_count": 21,
     "metadata": {},
     "output_type": "execute_result"
    }
   ],
   "source": [
    "ET12.describe()"
   ]
  },
  {
   "cell_type": "code",
   "execution_count": 22,
   "metadata": {},
   "outputs": [
    {
     "data": {
      "text/plain": [
       "Unadjusted Total    0\n",
       "dtype: int64"
      ]
     },
     "execution_count": 22,
     "metadata": {},
     "output_type": "execute_result"
    }
   ],
   "source": [
    "ET12.isna().sum()"
   ]
  },
  {
   "cell_type": "markdown",
   "metadata": {},
   "source": [
    "### Calendar Adjustment"
   ]
  },
  {
   "cell_type": "code",
   "execution_count": 23,
   "metadata": {},
   "outputs": [],
   "source": [
    "variables = [MSTA_1950_onwards, CH4, GMAF, ET12]"
   ]
  },
  {
   "cell_type": "code",
   "execution_count": 24,
   "metadata": {},
   "outputs": [
    {
     "name": "stderr",
     "output_type": "stream",
     "text": [
      "C:\\Users\\admin\\AppData\\Local\\Temp\\ipykernel_26720\\3493902977.py:4: SettingWithCopyWarning: \n",
      "A value is trying to be set on a copy of a slice from a DataFrame.\n",
      "Try using .loc[row_indexer,col_indexer] = value instead\n",
      "\n",
      "See the caveats in the documentation: https://pandas.pydata.org/pandas-docs/stable/user_guide/indexing.html#returning-a-view-versus-a-copy\n",
      "  df[\"Days\"] = np.nan\n",
      "C:\\Users\\admin\\AppData\\Local\\Temp\\ipykernel_26720\\3493902977.py:9: SettingWithCopyWarning: \n",
      "A value is trying to be set on a copy of a slice from a DataFrame.\n",
      "Try using .loc[row_indexer,col_indexer] = value instead\n",
      "\n",
      "See the caveats in the documentation: https://pandas.pydata.org/pandas-docs/stable/user_guide/indexing.html#returning-a-view-versus-a-copy\n",
      "  df[\"Adjusted Data\"] = (df.iloc[:, 0] * 365.25 / (12 * df[\"Days\"])).round(2)\n"
     ]
    }
   ],
   "source": [
    "#Calendar adjustment\n",
    "# Create empty column for days in the month\n",
    "def calendar_adjustment(df):\n",
    "    df[\"Days\"] = np.nan\n",
    "    # Fill empty columns with the days per calendar month\n",
    "    for date in df.index:\n",
    "        df.loc[date, \"Days\"] = calendar.monthrange(date.year, date.month)[1]\n",
    "    # Perform calendar adjustment\n",
    "    df[\"Adjusted Data\"] = (df.iloc[:, 0] * 365.25 / (12 * df[\"Days\"])).round(2)\n",
    "\n",
    "\n",
    "#for i in variables:\n",
    "for i in [MSTA_1950_onwards, GMAF, ET12]:\n",
    "    calendar_adjustment(i)"
   ]
  },
  {
   "cell_type": "code",
   "execution_count": 25,
   "metadata": {},
   "outputs": [],
   "source": [
    "# CH4 = CH4.drop(columns=['Days', 'NOAA CH4 (ppb)'])\n",
    "MSTA_1950_onwards = MSTA_1950_onwards.drop(columns=['Days', 'Anomaly (deg C)'])\n",
    "GMAF = GMAF.drop(columns=['Days', 'Passenger Count'])\n",
    "ET12 = ET12.drop(columns=['Days', 'Unadjusted Total'])"
   ]
  },
  {
   "cell_type": "code",
   "execution_count": 26,
   "metadata": {},
   "outputs": [],
   "source": [
    "def rename_columns(df, df_name):\n",
    "    df = df.rename(columns={'Adjusted Data': df_name})\n",
    "    return df"
   ]
  },
  {
   "cell_type": "code",
   "execution_count": 27,
   "metadata": {},
   "outputs": [],
   "source": [
    "# CH4 = rename_columns(CH4, 'CH4 (adjusted)')\n",
    "MSTA_1950_onwards = rename_columns(MSTA_1950_onwards, 'Anomaly (adjusted deg C)')#\n",
    "GMAF = rename_columns(GMAF, 'Passenger Count (adjusted)')\n",
    "ET12 = rename_columns(ET12, 'Total ET12 (adjusted)')"
   ]
  },
  {
   "cell_type": "code",
   "execution_count": 28,
   "metadata": {},
   "outputs": [
    {
     "data": {
      "application/vnd.microsoft.datawrangler.viewer.v0+json": {
       "columns": [
        {
         "name": "Time",
         "rawType": "datetime64[ns]",
         "type": "datetime"
        },
        {
         "name": "NOAA CH4 (ppb)",
         "rawType": "float64",
         "type": "float"
        }
       ],
       "conversionMethod": "pd.DataFrame",
       "ref": "9aaeef4a-c4ce-4415-83c0-a4b5ef21bd15",
       "rows": [
        [
         "1983-07-01 00:00:00",
         "1625.95"
        ],
        [
         "1983-08-01 00:00:00",
         "1628.05"
        ],
        [
         "1983-09-01 00:00:00",
         "1638.44"
        ],
        [
         "1983-10-01 00:00:00",
         "1644.8"
        ],
        [
         "1983-11-01 00:00:00",
         "1642.59"
        ],
        [
         "1983-12-01 00:00:00",
         "1639.56"
        ],
        [
         "1984-01-01 00:00:00",
         "1638.73"
        ],
        [
         "1984-02-01 00:00:00",
         "1638.78"
        ],
        [
         "1984-03-01 00:00:00",
         "1640.88"
        ],
        [
         "1984-04-01 00:00:00",
         "1643.98"
        ],
        [
         "1984-05-01 00:00:00",
         "1643.13"
        ],
        [
         "1984-06-01 00:00:00",
         "1639.76"
        ],
        [
         "1984-07-01 00:00:00",
         "1638.0"
        ],
        [
         "1984-08-01 00:00:00",
         "1641.68"
        ],
        [
         "1984-09-01 00:00:00",
         "1650.62"
        ],
        [
         "1984-10-01 00:00:00",
         "1654.59"
        ],
        [
         "1984-11-01 00:00:00",
         "1653.77"
        ],
        [
         "1984-12-01 00:00:00",
         "1656.23"
        ],
        [
         "1985-01-01 00:00:00",
         "1655.6"
        ],
        [
         "1985-02-01 00:00:00",
         "1652.21"
        ],
        [
         "1985-03-01 00:00:00",
         "1654.62"
        ],
        [
         "1985-04-01 00:00:00",
         "1658.2"
        ],
        [
         "1985-05-01 00:00:00",
         "1655.86"
        ],
        [
         "1985-06-01 00:00:00",
         "1650.07"
        ],
        [
         "1985-07-01 00:00:00",
         "1646.81"
        ],
        [
         "1985-08-01 00:00:00",
         "1652.23"
        ],
        [
         "1985-09-01 00:00:00",
         "1662.5"
        ],
        [
         "1985-10-01 00:00:00",
         "1667.49"
        ],
        [
         "1985-11-01 00:00:00",
         "1666.79"
        ],
        [
         "1985-12-01 00:00:00",
         "1666.08"
        ],
        [
         "1986-01-01 00:00:00",
         "1666.28"
        ],
        [
         "1986-02-01 00:00:00",
         "1666.89"
        ],
        [
         "1986-03-01 00:00:00",
         "1669.28"
        ],
        [
         "1986-04-01 00:00:00",
         "1670.81"
        ],
        [
         "1986-05-01 00:00:00",
         "1668.43"
        ],
        [
         "1986-06-01 00:00:00",
         "1664.78"
        ],
        [
         "1986-07-01 00:00:00",
         "1662.33"
        ],
        [
         "1986-08-01 00:00:00",
         "1664.36"
        ],
        [
         "1986-09-01 00:00:00",
         "1672.59"
        ],
        [
         "1986-10-01 00:00:00",
         "1678.67"
        ],
        [
         "1986-11-01 00:00:00",
         "1678.97"
        ],
        [
         "1986-12-01 00:00:00",
         "1679.14"
        ],
        [
         "1987-01-01 00:00:00",
         "1679.39"
        ],
        [
         "1987-02-01 00:00:00",
         "1679.0"
        ],
        [
         "1987-03-01 00:00:00",
         "1680.04"
        ],
        [
         "1987-04-01 00:00:00",
         "1681.35"
        ],
        [
         "1987-05-01 00:00:00",
         "1681.83"
        ],
        [
         "1987-06-01 00:00:00",
         "1680.0"
        ],
        [
         "1987-07-01 00:00:00",
         "1675.96"
        ],
        [
         "1987-08-01 00:00:00",
         "1677.15"
        ]
       ],
       "shape": {
        "columns": 1,
        "rows": 495
       }
      },
      "text/html": [
       "<div>\n",
       "<style scoped>\n",
       "    .dataframe tbody tr th:only-of-type {\n",
       "        vertical-align: middle;\n",
       "    }\n",
       "\n",
       "    .dataframe tbody tr th {\n",
       "        vertical-align: top;\n",
       "    }\n",
       "\n",
       "    .dataframe thead th {\n",
       "        text-align: right;\n",
       "    }\n",
       "</style>\n",
       "<table border=\"1\" class=\"dataframe\">\n",
       "  <thead>\n",
       "    <tr style=\"text-align: right;\">\n",
       "      <th></th>\n",
       "      <th>NOAA CH4 (ppb)</th>\n",
       "    </tr>\n",
       "    <tr>\n",
       "      <th>Time</th>\n",
       "      <th></th>\n",
       "    </tr>\n",
       "  </thead>\n",
       "  <tbody>\n",
       "    <tr>\n",
       "      <th>1983-07-01</th>\n",
       "      <td>1625.95</td>\n",
       "    </tr>\n",
       "    <tr>\n",
       "      <th>1983-08-01</th>\n",
       "      <td>1628.05</td>\n",
       "    </tr>\n",
       "    <tr>\n",
       "      <th>1983-09-01</th>\n",
       "      <td>1638.44</td>\n",
       "    </tr>\n",
       "    <tr>\n",
       "      <th>1983-10-01</th>\n",
       "      <td>1644.80</td>\n",
       "    </tr>\n",
       "    <tr>\n",
       "      <th>1983-11-01</th>\n",
       "      <td>1642.59</td>\n",
       "    </tr>\n",
       "    <tr>\n",
       "      <th>...</th>\n",
       "      <td>...</td>\n",
       "    </tr>\n",
       "    <tr>\n",
       "      <th>2024-05-01</th>\n",
       "      <td>1926.36</td>\n",
       "    </tr>\n",
       "    <tr>\n",
       "      <th>2024-06-01</th>\n",
       "      <td>1921.77</td>\n",
       "    </tr>\n",
       "    <tr>\n",
       "      <th>2024-07-01</th>\n",
       "      <td>1921.03</td>\n",
       "    </tr>\n",
       "    <tr>\n",
       "      <th>2024-08-01</th>\n",
       "      <td>1926.83</td>\n",
       "    </tr>\n",
       "    <tr>\n",
       "      <th>2024-09-01</th>\n",
       "      <td>1936.64</td>\n",
       "    </tr>\n",
       "  </tbody>\n",
       "</table>\n",
       "<p>495 rows × 1 columns</p>\n",
       "</div>"
      ],
      "text/plain": [
       "            NOAA CH4 (ppb)\n",
       "Time                      \n",
       "1983-07-01         1625.95\n",
       "1983-08-01         1628.05\n",
       "1983-09-01         1638.44\n",
       "1983-10-01         1644.80\n",
       "1983-11-01         1642.59\n",
       "...                    ...\n",
       "2024-05-01         1926.36\n",
       "2024-06-01         1921.77\n",
       "2024-07-01         1921.03\n",
       "2024-08-01         1926.83\n",
       "2024-09-01         1936.64\n",
       "\n",
       "[495 rows x 1 columns]"
      ]
     },
     "execution_count": 28,
     "metadata": {},
     "output_type": "execute_result"
    }
   ],
   "source": [
    "CH4"
   ]
  },
  {
   "cell_type": "code",
   "execution_count": 29,
   "metadata": {},
   "outputs": [],
   "source": [
    "# Add frequency to the index\n",
    "def frequency_add(i):\n",
    "    i.index = pd.DatetimeIndex(i.index.values, freq=i.index.inferred_freq)\n",
    "\n",
    "for i in variables:\n",
    "    frequency_add(i)"
   ]
  },
  {
   "cell_type": "code",
   "execution_count": 30,
   "metadata": {},
   "outputs": [],
   "source": [
    "# Set the name attribute for each DataFrame\n",
    "variables[0].name = 'MSTA_1950_onwards'\n",
    "variables[1].name = 'CH4'\n",
    "variables[2].name = 'GMAF'\n",
    "variables[3].name = 'ET12'"
   ]
  },
  {
   "cell_type": "markdown",
   "metadata": {},
   "source": [
    "# Decomposition"
   ]
  },
  {
   "cell_type": "code",
   "execution_count": 32,
   "metadata": {},
   "outputs": [],
   "source": [
    "# Seasonal Decomposition\n",
    "from statsmodels.tsa.seasonal import seasonal_decompose"
   ]
  },
  {
   "cell_type": "code",
   "execution_count": 33,
   "metadata": {},
   "outputs": [],
   "source": [
    "#Additive Decomposition\n",
    "def additive_decompose(variable):\n",
    "        result = seasonal_decompose(variable.iloc[:, 0], model='additive')\n",
    "        result.plot()\n",
    "        plt.show()\n",
    "#Multiplicative Decomposition\n",
    "def mul_decompose(variable):\n",
    "        result = seasonal_decompose(variable.iloc[:, 0], model='multiplicative')\n",
    "        result.plot()\n",
    "        plt.show()\n",
    "\n",
    "for i in variables:\n",
    "        additive_decompose(i)"
   ]
  },
  {
   "cell_type": "code",
   "execution_count": 34,
   "metadata": {},
   "outputs": [],
   "source": [
    "for i in [CH4, GMAF, ET12]:\n",
    "    mul_decompose(i)"
   ]
  }
 ],
 "metadata": {
  "kernelspec": {
   "display_name": "datasciences1",
   "language": "python",
   "name": "python3"
  },
  "language_info": {
   "codemirror_mode": {
    "name": "ipython",
    "version": 3
   },
   "file_extension": ".py",
   "mimetype": "text/x-python",
   "name": "python",
   "nbconvert_exporter": "python",
   "pygments_lexer": "ipython3",
   "version": "3.9.16"
  }
 },
 "nbformat": 4,
 "nbformat_minor": 2
}
