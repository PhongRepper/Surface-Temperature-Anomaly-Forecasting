{
 "cells": [
  {
   "cell_type": "code",
   "execution_count": 2,
   "metadata": {},
   "outputs": [],
   "source": [
    "#Import libraries\n",
    "import pandas as pd\n",
    "import numpy as np\n",
    "import matplotlib.pyplot as plt\n",
    "import seaborn as sns\n",
    "import matplotlib\n",
    "matplotlib.use('Qt5Agg')\n",
    "sns.set_style(\"whitegrid\")\n",
    "\n",
    "import calendar"
   ]
  },
  {
   "cell_type": "markdown",
   "metadata": {},
   "source": [
    "# DATA PREPROCESSING"
   ]
  },
  {
   "cell_type": "markdown",
   "metadata": {},
   "source": [
    "### MSTA"
   ]
  },
  {
   "cell_type": "code",
   "execution_count": 3,
   "metadata": {},
   "outputs": [],
   "source": [
    "MSTA= pd.read_excel('Data_36544086.xlsx', sheet_name='MSTA',\n",
    "                                header=0, \n",
    "                                usecols=['Time', 'Anomaly (deg C)'],\n",
    "                                parse_dates=True).squeeze()"
   ]
  },
  {
   "cell_type": "code",
   "execution_count": 4,
   "metadata": {},
   "outputs": [],
   "source": [
    "MSTA['Time'] = pd.to_datetime(MSTA['Time'])\n",
    "MSTA = MSTA.set_index('Time')"
   ]
  },
  {
   "cell_type": "code",
   "execution_count": 5,
   "metadata": {},
   "outputs": [
    {
     "data": {
      "application/vnd.microsoft.datawrangler.viewer.v0+json": {
       "columns": [
        {
         "name": "index",
         "rawType": "object",
         "type": "string"
        },
        {
         "name": "Anomaly (deg C)",
         "rawType": "float64",
         "type": "float"
        }
       ],
       "conversionMethod": "pd.DataFrame",
       "ref": "e9efda2d-40bb-4363-87de-90c69b0b0703",
       "rows": [
        [
         "count",
         "2100.0"
        ],
        [
         "mean",
         "-0.06502215366849051"
        ],
        [
         "std",
         "0.40623704175985204"
        ],
        [
         "min",
         "-1.0448953"
        ],
        [
         "25%",
         "-0.34592773"
        ],
        [
         "50%",
         "-0.15394249"
        ],
        [
         "75%",
         "0.12239733125"
        ],
        [
         "max",
         "1.3521734"
        ]
       ],
       "shape": {
        "columns": 1,
        "rows": 8
       }
      },
      "text/html": [
       "<div>\n",
       "<style scoped>\n",
       "    .dataframe tbody tr th:only-of-type {\n",
       "        vertical-align: middle;\n",
       "    }\n",
       "\n",
       "    .dataframe tbody tr th {\n",
       "        vertical-align: top;\n",
       "    }\n",
       "\n",
       "    .dataframe thead th {\n",
       "        text-align: right;\n",
       "    }\n",
       "</style>\n",
       "<table border=\"1\" class=\"dataframe\">\n",
       "  <thead>\n",
       "    <tr style=\"text-align: right;\">\n",
       "      <th></th>\n",
       "      <th>Anomaly (deg C)</th>\n",
       "    </tr>\n",
       "  </thead>\n",
       "  <tbody>\n",
       "    <tr>\n",
       "      <th>count</th>\n",
       "      <td>2100.000000</td>\n",
       "    </tr>\n",
       "    <tr>\n",
       "      <th>mean</th>\n",
       "      <td>-0.065022</td>\n",
       "    </tr>\n",
       "    <tr>\n",
       "      <th>std</th>\n",
       "      <td>0.406237</td>\n",
       "    </tr>\n",
       "    <tr>\n",
       "      <th>min</th>\n",
       "      <td>-1.044895</td>\n",
       "    </tr>\n",
       "    <tr>\n",
       "      <th>25%</th>\n",
       "      <td>-0.345928</td>\n",
       "    </tr>\n",
       "    <tr>\n",
       "      <th>50%</th>\n",
       "      <td>-0.153942</td>\n",
       "    </tr>\n",
       "    <tr>\n",
       "      <th>75%</th>\n",
       "      <td>0.122397</td>\n",
       "    </tr>\n",
       "    <tr>\n",
       "      <th>max</th>\n",
       "      <td>1.352173</td>\n",
       "    </tr>\n",
       "  </tbody>\n",
       "</table>\n",
       "</div>"
      ],
      "text/plain": [
       "       Anomaly (deg C)\n",
       "count      2100.000000\n",
       "mean         -0.065022\n",
       "std           0.406237\n",
       "min          -1.044895\n",
       "25%          -0.345928\n",
       "50%          -0.153942\n",
       "75%           0.122397\n",
       "max           1.352173"
      ]
     },
     "execution_count": 5,
     "metadata": {},
     "output_type": "execute_result"
    }
   ],
   "source": [
    "MSTA.describe()"
   ]
  },
  {
   "cell_type": "code",
   "execution_count": 6,
   "metadata": {},
   "outputs": [
    {
     "data": {
      "text/plain": [
       "Anomaly (deg C)    0\n",
       "dtype: int64"
      ]
     },
     "execution_count": 6,
     "metadata": {},
     "output_type": "execute_result"
    }
   ],
   "source": [
    "MSTA.isna().sum()"
   ]
  },
  {
   "cell_type": "code",
   "execution_count": 7,
   "metadata": {},
   "outputs": [
    {
     "data": {
      "application/vnd.microsoft.datawrangler.viewer.v0+json": {
       "columns": [
        {
         "name": "Time",
         "rawType": "datetime64[ns]",
         "type": "datetime"
        },
        {
         "name": "Anomaly (deg C)",
         "rawType": "float64",
         "type": "float"
        }
       ],
       "conversionMethod": "pd.DataFrame",
       "ref": "ab40ac23-7a7c-416f-ab40-953a71f56bad",
       "rows": [
        [
         "1950-01-01 00:00:00",
         "-0.3000435"
        ],
        [
         "1950-02-01 00:00:00",
         "-0.3700363"
        ],
        [
         "1950-03-01 00:00:00",
         "-0.21643846"
        ],
        [
         "1950-04-01 00:00:00",
         "-0.24361575"
        ],
        [
         "1950-05-01 00:00:00",
         "-0.13729782"
        ],
        [
         "1950-06-01 00:00:00",
         "-0.105043374"
        ],
        [
         "1950-07-01 00:00:00",
         "-0.10670231"
        ],
        [
         "1950-08-01 00:00:00",
         "-0.15261763"
        ],
        [
         "1950-09-01 00:00:00",
         "-0.24503586"
        ],
        [
         "1950-10-01 00:00:00",
         "-0.20104446"
        ],
        [
         "1950-11-01 00:00:00",
         "-0.38081577"
        ],
        [
         "1950-12-01 00:00:00",
         "-0.2607705"
        ],
        [
         "1951-01-01 00:00:00",
         "-0.3603426"
        ],
        [
         "1951-02-01 00:00:00",
         "-0.50937843"
        ],
        [
         "1951-03-01 00:00:00",
         "-0.2620192"
        ],
        [
         "1951-04-01 00:00:00",
         "-0.108077675"
        ],
        [
         "1951-05-01 00:00:00",
         "0.03226914"
        ],
        [
         "1951-06-01 00:00:00",
         "0.060181145"
        ],
        [
         "1951-07-01 00:00:00",
         "0.03866412"
        ],
        [
         "1951-08-01 00:00:00",
         "0.12133113"
        ],
        [
         "1951-09-01 00:00:00",
         "0.13226272"
        ],
        [
         "1951-10-01 00:00:00",
         "0.12436143"
        ],
        [
         "1951-11-01 00:00:00",
         "-0.07229671"
        ],
        [
         "1951-12-01 00:00:00",
         "0.06919738"
        ],
        [
         "1952-01-01 00:00:00",
         "0.09402649"
        ],
        [
         "1952-02-01 00:00:00",
         "0.068350874"
        ],
        [
         "1952-03-01 00:00:00",
         "-0.16353905"
        ],
        [
         "1952-04-01 00:00:00",
         "0.045588057"
        ],
        [
         "1952-05-01 00:00:00",
         "0.022243632"
        ],
        [
         "1952-06-01 00:00:00",
         "0.023484357"
        ],
        [
         "1952-07-01 00:00:00",
         "0.09006012"
        ],
        [
         "1952-08-01 00:00:00",
         "0.096942395"
        ],
        [
         "1952-09-01 00:00:00",
         "0.09621102"
        ],
        [
         "1952-10-01 00:00:00",
         "-0.016534438"
        ],
        [
         "1952-11-01 00:00:00",
         "-0.13228506"
        ],
        [
         "1952-12-01 00:00:00",
         "-0.040293824"
        ],
        [
         "1953-01-01 00:00:00",
         "-0.009005203"
        ],
        [
         "1953-02-01 00:00:00",
         "0.09501187"
        ],
        [
         "1953-03-01 00:00:00",
         "0.01800697"
        ],
        [
         "1953-04-01 00:00:00",
         "0.22455436"
        ],
        [
         "1953-05-01 00:00:00",
         "0.14901619"
        ],
        [
         "1953-06-01 00:00:00",
         "0.1404282"
        ],
        [
         "1953-07-01 00:00:00",
         "0.043144584"
        ],
        [
         "1953-08-01 00:00:00",
         "0.08707856"
        ],
        [
         "1953-09-01 00:00:00",
         "0.08630111"
        ],
        [
         "1953-10-01 00:00:00",
         "0.08342033"
        ],
        [
         "1953-11-01 00:00:00",
         "-0.0058099576"
        ],
        [
         "1953-12-01 00:00:00",
         "0.019422"
        ],
        [
         "1954-01-01 00:00:00",
         "-0.24345858"
        ],
        [
         "1954-02-01 00:00:00",
         "-0.08907446"
        ]
       ],
       "shape": {
        "columns": 1,
        "rows": 900
       }
      },
      "text/html": [
       "<div>\n",
       "<style scoped>\n",
       "    .dataframe tbody tr th:only-of-type {\n",
       "        vertical-align: middle;\n",
       "    }\n",
       "\n",
       "    .dataframe tbody tr th {\n",
       "        vertical-align: top;\n",
       "    }\n",
       "\n",
       "    .dataframe thead th {\n",
       "        text-align: right;\n",
       "    }\n",
       "</style>\n",
       "<table border=\"1\" class=\"dataframe\">\n",
       "  <thead>\n",
       "    <tr style=\"text-align: right;\">\n",
       "      <th></th>\n",
       "      <th>Anomaly (deg C)</th>\n",
       "    </tr>\n",
       "    <tr>\n",
       "      <th>Time</th>\n",
       "      <th></th>\n",
       "    </tr>\n",
       "  </thead>\n",
       "  <tbody>\n",
       "    <tr>\n",
       "      <th>1950-01-01</th>\n",
       "      <td>-0.300044</td>\n",
       "    </tr>\n",
       "    <tr>\n",
       "      <th>1950-02-01</th>\n",
       "      <td>-0.370036</td>\n",
       "    </tr>\n",
       "    <tr>\n",
       "      <th>1950-03-01</th>\n",
       "      <td>-0.216438</td>\n",
       "    </tr>\n",
       "    <tr>\n",
       "      <th>1950-04-01</th>\n",
       "      <td>-0.243616</td>\n",
       "    </tr>\n",
       "    <tr>\n",
       "      <th>1950-05-01</th>\n",
       "      <td>-0.137298</td>\n",
       "    </tr>\n",
       "    <tr>\n",
       "      <th>...</th>\n",
       "      <td>...</td>\n",
       "    </tr>\n",
       "    <tr>\n",
       "      <th>2024-08-01</th>\n",
       "      <td>1.239584</td>\n",
       "    </tr>\n",
       "    <tr>\n",
       "      <th>2024-09-01</th>\n",
       "      <td>1.144937</td>\n",
       "    </tr>\n",
       "    <tr>\n",
       "      <th>2024-10-01</th>\n",
       "      <td>1.199982</td>\n",
       "    </tr>\n",
       "    <tr>\n",
       "      <th>2024-11-01</th>\n",
       "      <td>1.225049</td>\n",
       "    </tr>\n",
       "    <tr>\n",
       "      <th>2024-12-01</th>\n",
       "      <td>1.096270</td>\n",
       "    </tr>\n",
       "  </tbody>\n",
       "</table>\n",
       "<p>900 rows × 1 columns</p>\n",
       "</div>"
      ],
      "text/plain": [
       "            Anomaly (deg C)\n",
       "Time                       \n",
       "1950-01-01        -0.300044\n",
       "1950-02-01        -0.370036\n",
       "1950-03-01        -0.216438\n",
       "1950-04-01        -0.243616\n",
       "1950-05-01        -0.137298\n",
       "...                     ...\n",
       "2024-08-01         1.239584\n",
       "2024-09-01         1.144937\n",
       "2024-10-01         1.199982\n",
       "2024-11-01         1.225049\n",
       "2024-12-01         1.096270\n",
       "\n",
       "[900 rows x 1 columns]"
      ]
     },
     "execution_count": 7,
     "metadata": {},
     "output_type": "execute_result"
    }
   ],
   "source": [
    "# Extract data from the year 1950 onwards\n",
    "MSTA_1950_onwards = MSTA[MSTA.index >= '1950-01-01']\n",
    "MSTA_1950_onwards"
   ]
  },
  {
   "cell_type": "markdown",
   "metadata": {},
   "source": [
    "### CH4"
   ]
  },
  {
   "cell_type": "code",
   "execution_count": 8,
   "metadata": {},
   "outputs": [],
   "source": [
    "CH4 = pd.read_excel('Data_36544086.xlsx', sheet_name='CH4',\n",
    "                header=0, \n",
    "                usecols=['Year', 'Month', 'NOAA CH4 (ppb)'], \n",
    "                parse_dates=True).squeeze()"
   ]
  },
  {
   "cell_type": "code",
   "execution_count": 9,
   "metadata": {},
   "outputs": [],
   "source": [
    "# Convert 'Year' and 'Month' to strings and concatenate them\n",
    "CH4['Time'] = CH4['Year'].astype(str) + '-' + CH4['Month'].astype(str).str.zfill(2)"
   ]
  },
  {
   "cell_type": "code",
   "execution_count": 10,
   "metadata": {},
   "outputs": [],
   "source": [
    "CH4 = CH4.drop(columns=['Year', 'Month'])\n",
    "CH4['Time'] = pd.to_datetime(CH4['Time'])\n",
    "CH4 = CH4.set_index('Time')\n"
   ]
  },
  {
   "cell_type": "code",
   "execution_count": 11,
   "metadata": {},
   "outputs": [
    {
     "data": {
      "text/plain": [
       "NOAA CH4 (ppb)    0\n",
       "dtype: int64"
      ]
     },
     "execution_count": 11,
     "metadata": {},
     "output_type": "execute_result"
    }
   ],
   "source": [
    "CH4.describe()\n",
    "CH4.isna().sum()"
   ]
  },
  {
   "cell_type": "code",
   "execution_count": 12,
   "metadata": {},
   "outputs": [
    {
     "data": {
      "application/vnd.microsoft.datawrangler.viewer.v0+json": {
       "columns": [
        {
         "name": "Time",
         "rawType": "datetime64[ns]",
         "type": "datetime"
        },
        {
         "name": "NOAA CH4 (ppb)",
         "rawType": "float64",
         "type": "float"
        }
       ],
       "conversionMethod": "pd.DataFrame",
       "ref": "327e7039-44a0-47ea-9c70-e14c087325e1",
       "rows": [
        [
         "1983-07-01 00:00:00",
         "1625.95"
        ],
        [
         "1983-08-01 00:00:00",
         "1628.05"
        ],
        [
         "1983-09-01 00:00:00",
         "1638.44"
        ],
        [
         "1983-10-01 00:00:00",
         "1644.8"
        ],
        [
         "1983-11-01 00:00:00",
         "1642.59"
        ],
        [
         "1983-12-01 00:00:00",
         "1639.56"
        ],
        [
         "1984-01-01 00:00:00",
         "1638.73"
        ],
        [
         "1984-02-01 00:00:00",
         "1638.78"
        ],
        [
         "1984-03-01 00:00:00",
         "1640.88"
        ],
        [
         "1984-04-01 00:00:00",
         "1643.98"
        ],
        [
         "1984-05-01 00:00:00",
         "1643.13"
        ],
        [
         "1984-06-01 00:00:00",
         "1639.76"
        ],
        [
         "1984-07-01 00:00:00",
         "1638.0"
        ],
        [
         "1984-08-01 00:00:00",
         "1641.68"
        ],
        [
         "1984-09-01 00:00:00",
         "1650.62"
        ],
        [
         "1984-10-01 00:00:00",
         "1654.59"
        ],
        [
         "1984-11-01 00:00:00",
         "1653.77"
        ],
        [
         "1984-12-01 00:00:00",
         "1656.23"
        ],
        [
         "1985-01-01 00:00:00",
         "1655.6"
        ],
        [
         "1985-02-01 00:00:00",
         "1652.21"
        ],
        [
         "1985-03-01 00:00:00",
         "1654.62"
        ],
        [
         "1985-04-01 00:00:00",
         "1658.2"
        ],
        [
         "1985-05-01 00:00:00",
         "1655.86"
        ],
        [
         "1985-06-01 00:00:00",
         "1650.07"
        ],
        [
         "1985-07-01 00:00:00",
         "1646.81"
        ],
        [
         "1985-08-01 00:00:00",
         "1652.23"
        ],
        [
         "1985-09-01 00:00:00",
         "1662.5"
        ],
        [
         "1985-10-01 00:00:00",
         "1667.49"
        ],
        [
         "1985-11-01 00:00:00",
         "1666.79"
        ],
        [
         "1985-12-01 00:00:00",
         "1666.08"
        ],
        [
         "1986-01-01 00:00:00",
         "1666.28"
        ],
        [
         "1986-02-01 00:00:00",
         "1666.89"
        ],
        [
         "1986-03-01 00:00:00",
         "1669.28"
        ],
        [
         "1986-04-01 00:00:00",
         "1670.81"
        ],
        [
         "1986-05-01 00:00:00",
         "1668.43"
        ],
        [
         "1986-06-01 00:00:00",
         "1664.78"
        ],
        [
         "1986-07-01 00:00:00",
         "1662.33"
        ],
        [
         "1986-08-01 00:00:00",
         "1664.36"
        ],
        [
         "1986-09-01 00:00:00",
         "1672.59"
        ],
        [
         "1986-10-01 00:00:00",
         "1678.67"
        ],
        [
         "1986-11-01 00:00:00",
         "1678.97"
        ],
        [
         "1986-12-01 00:00:00",
         "1679.14"
        ],
        [
         "1987-01-01 00:00:00",
         "1679.39"
        ],
        [
         "1987-02-01 00:00:00",
         "1679.0"
        ],
        [
         "1987-03-01 00:00:00",
         "1680.04"
        ],
        [
         "1987-04-01 00:00:00",
         "1681.35"
        ],
        [
         "1987-05-01 00:00:00",
         "1681.83"
        ],
        [
         "1987-06-01 00:00:00",
         "1680.0"
        ],
        [
         "1987-07-01 00:00:00",
         "1675.96"
        ],
        [
         "1987-08-01 00:00:00",
         "1677.15"
        ]
       ],
       "shape": {
        "columns": 1,
        "rows": 495
       }
      },
      "text/html": [
       "<div>\n",
       "<style scoped>\n",
       "    .dataframe tbody tr th:only-of-type {\n",
       "        vertical-align: middle;\n",
       "    }\n",
       "\n",
       "    .dataframe tbody tr th {\n",
       "        vertical-align: top;\n",
       "    }\n",
       "\n",
       "    .dataframe thead th {\n",
       "        text-align: right;\n",
       "    }\n",
       "</style>\n",
       "<table border=\"1\" class=\"dataframe\">\n",
       "  <thead>\n",
       "    <tr style=\"text-align: right;\">\n",
       "      <th></th>\n",
       "      <th>NOAA CH4 (ppb)</th>\n",
       "    </tr>\n",
       "    <tr>\n",
       "      <th>Time</th>\n",
       "      <th></th>\n",
       "    </tr>\n",
       "  </thead>\n",
       "  <tbody>\n",
       "    <tr>\n",
       "      <th>1983-07-01</th>\n",
       "      <td>1625.95</td>\n",
       "    </tr>\n",
       "    <tr>\n",
       "      <th>1983-08-01</th>\n",
       "      <td>1628.05</td>\n",
       "    </tr>\n",
       "    <tr>\n",
       "      <th>1983-09-01</th>\n",
       "      <td>1638.44</td>\n",
       "    </tr>\n",
       "    <tr>\n",
       "      <th>1983-10-01</th>\n",
       "      <td>1644.80</td>\n",
       "    </tr>\n",
       "    <tr>\n",
       "      <th>1983-11-01</th>\n",
       "      <td>1642.59</td>\n",
       "    </tr>\n",
       "    <tr>\n",
       "      <th>...</th>\n",
       "      <td>...</td>\n",
       "    </tr>\n",
       "    <tr>\n",
       "      <th>2024-05-01</th>\n",
       "      <td>1926.36</td>\n",
       "    </tr>\n",
       "    <tr>\n",
       "      <th>2024-06-01</th>\n",
       "      <td>1921.77</td>\n",
       "    </tr>\n",
       "    <tr>\n",
       "      <th>2024-07-01</th>\n",
       "      <td>1921.03</td>\n",
       "    </tr>\n",
       "    <tr>\n",
       "      <th>2024-08-01</th>\n",
       "      <td>1926.83</td>\n",
       "    </tr>\n",
       "    <tr>\n",
       "      <th>2024-09-01</th>\n",
       "      <td>1936.64</td>\n",
       "    </tr>\n",
       "  </tbody>\n",
       "</table>\n",
       "<p>495 rows × 1 columns</p>\n",
       "</div>"
      ],
      "text/plain": [
       "            NOAA CH4 (ppb)\n",
       "Time                      \n",
       "1983-07-01         1625.95\n",
       "1983-08-01         1628.05\n",
       "1983-09-01         1638.44\n",
       "1983-10-01         1644.80\n",
       "1983-11-01         1642.59\n",
       "...                    ...\n",
       "2024-05-01         1926.36\n",
       "2024-06-01         1921.77\n",
       "2024-07-01         1921.03\n",
       "2024-08-01         1926.83\n",
       "2024-09-01         1936.64\n",
       "\n",
       "[495 rows x 1 columns]"
      ]
     },
     "execution_count": 12,
     "metadata": {},
     "output_type": "execute_result"
    }
   ],
   "source": [
    "CH4"
   ]
  },
  {
   "cell_type": "markdown",
   "metadata": {},
   "source": [
    "### GMAF"
   ]
  },
  {
   "cell_type": "code",
   "execution_count": 13,
   "metadata": {},
   "outputs": [],
   "source": [
    "GMAF = pd.read_excel('Data_36544086.xlsx', sheet_name='GMAF',\n",
    "                    header=None,\n",
    "                    skiprows=227,\n",
    "                    usecols=[0,2],\n",
    "                    names=['Time', 'Passenger Count'], \n",
    "                    parse_dates=True).squeeze()"
   ]
  },
  {
   "cell_type": "code",
   "execution_count": 14,
   "metadata": {},
   "outputs": [],
   "source": [
    "# Reset the index to access the 'Time' column\n",
    "#GMAF = GMAF.reset_index()\n",
    "\n",
    "# Convert the 'Time' column to datetime format\n",
    "GMAF['Time'] = pd.to_datetime(GMAF['Time'], format='%Y %b')\n",
    "\n",
    "# Format the dates to 'YYYY-MM'\n",
    "GMAF['Time'] = GMAF['Time'].dt.strftime('%Y-%m')\n",
    "\n",
    "GMAF['Time'] = pd.to_datetime(GMAF['Time'])\n",
    "\n",
    "# Set 'Time' column back as the index\n",
    "GMAF = GMAF.set_index('Time')"
   ]
  },
  {
   "cell_type": "code",
   "execution_count": 15,
   "metadata": {},
   "outputs": [],
   "source": [
    "GMAF['Passenger Count'] = GMAF['Passenger Count'].astype(int)"
   ]
  },
  {
   "cell_type": "code",
   "execution_count": 16,
   "metadata": {},
   "outputs": [
    {
     "data": {
      "application/vnd.microsoft.datawrangler.viewer.v0+json": {
       "columns": [
        {
         "name": "index",
         "rawType": "object",
         "type": "string"
        },
        {
         "name": "Passenger Count",
         "rawType": "float64",
         "type": "float"
        }
       ],
       "conversionMethod": "pd.DataFrame",
       "ref": "bfe40a8a-17f6-4bf7-a126-e8ee61f25bf1",
       "rows": [
        [
         "count",
         "528.0"
        ],
        [
         "mean",
         "4259.448863636364"
        ],
        [
         "std",
         "2304.9164418329187"
        ],
        [
         "min",
         "150.0"
        ],
        [
         "25%",
         "2475.5"
        ],
        [
         "50%",
         "4033.0"
        ],
        [
         "75%",
         "5793.25"
        ],
        [
         "max",
         "11628.0"
        ]
       ],
       "shape": {
        "columns": 1,
        "rows": 8
       }
      },
      "text/html": [
       "<div>\n",
       "<style scoped>\n",
       "    .dataframe tbody tr th:only-of-type {\n",
       "        vertical-align: middle;\n",
       "    }\n",
       "\n",
       "    .dataframe tbody tr th {\n",
       "        vertical-align: top;\n",
       "    }\n",
       "\n",
       "    .dataframe thead th {\n",
       "        text-align: right;\n",
       "    }\n",
       "</style>\n",
       "<table border=\"1\" class=\"dataframe\">\n",
       "  <thead>\n",
       "    <tr style=\"text-align: right;\">\n",
       "      <th></th>\n",
       "      <th>Passenger Count</th>\n",
       "    </tr>\n",
       "  </thead>\n",
       "  <tbody>\n",
       "    <tr>\n",
       "      <th>count</th>\n",
       "      <td>528.000000</td>\n",
       "    </tr>\n",
       "    <tr>\n",
       "      <th>mean</th>\n",
       "      <td>4259.448864</td>\n",
       "    </tr>\n",
       "    <tr>\n",
       "      <th>std</th>\n",
       "      <td>2304.916442</td>\n",
       "    </tr>\n",
       "    <tr>\n",
       "      <th>min</th>\n",
       "      <td>150.000000</td>\n",
       "    </tr>\n",
       "    <tr>\n",
       "      <th>25%</th>\n",
       "      <td>2475.500000</td>\n",
       "    </tr>\n",
       "    <tr>\n",
       "      <th>50%</th>\n",
       "      <td>4033.000000</td>\n",
       "    </tr>\n",
       "    <tr>\n",
       "      <th>75%</th>\n",
       "      <td>5793.250000</td>\n",
       "    </tr>\n",
       "    <tr>\n",
       "      <th>max</th>\n",
       "      <td>11628.000000</td>\n",
       "    </tr>\n",
       "  </tbody>\n",
       "</table>\n",
       "</div>"
      ],
      "text/plain": [
       "       Passenger Count\n",
       "count       528.000000\n",
       "mean       4259.448864\n",
       "std        2304.916442\n",
       "min         150.000000\n",
       "25%        2475.500000\n",
       "50%        4033.000000\n",
       "75%        5793.250000\n",
       "max       11628.000000"
      ]
     },
     "execution_count": 16,
     "metadata": {},
     "output_type": "execute_result"
    }
   ],
   "source": [
    "GMAF.describe()"
   ]
  },
  {
   "cell_type": "code",
   "execution_count": 17,
   "metadata": {},
   "outputs": [
    {
     "data": {
      "text/plain": [
       "Passenger Count    0\n",
       "dtype: int64"
      ]
     },
     "execution_count": 17,
     "metadata": {},
     "output_type": "execute_result"
    }
   ],
   "source": [
    "GMAF.isna().sum()"
   ]
  },
  {
   "cell_type": "markdown",
   "metadata": {},
   "source": [
    "### ET12"
   ]
  },
  {
   "cell_type": "code",
   "execution_count": 18,
   "metadata": {},
   "outputs": [],
   "source": [
    "ET12 = pd.read_excel('Data_36544086.xlsx', sheet_name='ET12',\n",
    "                                    header=None,\n",
    "                                    skiprows= 6,\n",
    "                                    usecols=[0,1],\n",
    "                                    names=['Time', 'Unadjusted Total'], parse_dates=True).squeeze()"
   ]
  },
  {
   "cell_type": "code",
   "execution_count": 19,
   "metadata": {},
   "outputs": [],
   "source": [
    "ET12 = ET12.set_index('Time')"
   ]
  },
  {
   "cell_type": "code",
   "execution_count": 20,
   "metadata": {},
   "outputs": [],
   "source": [
    "ET12['Unadjusted Total'] = ET12['Unadjusted Total'].round(2)"
   ]
  },
  {
   "cell_type": "code",
   "execution_count": 21,
   "metadata": {},
   "outputs": [],
   "source": [
    "# Reset the index to access the 'Time' column\n",
    "ET12 = ET12.reset_index()\n",
    "\n",
    "# Clean the 'Time' column to remove unwanted characters or spaces\n",
    "ET12['Time'] = ET12['Time'].str.replace(r'\\[.*\\]', '', regex=True).str.strip()\n",
    "\n",
    "# Convert the 'Time' column to datetime format\n",
    "ET12['Time'] = pd.to_datetime(ET12['Time'], format='%B %Y')\n",
    "\n",
    "# Format the dates to 'YYYY-MM'\n",
    "ET12['Time'] = ET12['Time'].dt.strftime('%Y-%m')\n",
    "\n",
    "# Set 'Time' column back as the index\n",
    "ET12['Time'] = pd.to_datetime(ET12['Time'])\n",
    "ET12 = ET12.set_index('Time')"
   ]
  },
  {
   "cell_type": "code",
   "execution_count": 22,
   "metadata": {},
   "outputs": [
    {
     "data": {
      "application/vnd.microsoft.datawrangler.viewer.v0+json": {
       "columns": [
        {
         "name": "index",
         "rawType": "object",
         "type": "string"
        },
        {
         "name": "Unadjusted Total",
         "rawType": "float64",
         "type": "float"
        }
       ],
       "conversionMethod": "pd.DataFrame",
       "ref": "254acc2c-9e75-4267-901f-05198969a1ea",
       "rows": [
        [
         "count",
         "360.0"
        ],
        [
         "mean",
         "17.36963888888889"
        ],
        [
         "std",
         "3.3742627599012947"
        ],
        [
         "min",
         "10.02"
        ],
        [
         "25%",
         "14.89"
        ],
        [
         "50%",
         "16.9"
        ],
        [
         "75%",
         "19.735"
        ],
        [
         "max",
         "25.02"
        ]
       ],
       "shape": {
        "columns": 1,
        "rows": 8
       }
      },
      "text/html": [
       "<div>\n",
       "<style scoped>\n",
       "    .dataframe tbody tr th:only-of-type {\n",
       "        vertical-align: middle;\n",
       "    }\n",
       "\n",
       "    .dataframe tbody tr th {\n",
       "        vertical-align: top;\n",
       "    }\n",
       "\n",
       "    .dataframe thead th {\n",
       "        text-align: right;\n",
       "    }\n",
       "</style>\n",
       "<table border=\"1\" class=\"dataframe\">\n",
       "  <thead>\n",
       "    <tr style=\"text-align: right;\">\n",
       "      <th></th>\n",
       "      <th>Unadjusted Total</th>\n",
       "    </tr>\n",
       "  </thead>\n",
       "  <tbody>\n",
       "    <tr>\n",
       "      <th>count</th>\n",
       "      <td>360.000000</td>\n",
       "    </tr>\n",
       "    <tr>\n",
       "      <th>mean</th>\n",
       "      <td>17.369639</td>\n",
       "    </tr>\n",
       "    <tr>\n",
       "      <th>std</th>\n",
       "      <td>3.374263</td>\n",
       "    </tr>\n",
       "    <tr>\n",
       "      <th>min</th>\n",
       "      <td>10.020000</td>\n",
       "    </tr>\n",
       "    <tr>\n",
       "      <th>25%</th>\n",
       "      <td>14.890000</td>\n",
       "    </tr>\n",
       "    <tr>\n",
       "      <th>50%</th>\n",
       "      <td>16.900000</td>\n",
       "    </tr>\n",
       "    <tr>\n",
       "      <th>75%</th>\n",
       "      <td>19.735000</td>\n",
       "    </tr>\n",
       "    <tr>\n",
       "      <th>max</th>\n",
       "      <td>25.020000</td>\n",
       "    </tr>\n",
       "  </tbody>\n",
       "</table>\n",
       "</div>"
      ],
      "text/plain": [
       "       Unadjusted Total\n",
       "count        360.000000\n",
       "mean          17.369639\n",
       "std            3.374263\n",
       "min           10.020000\n",
       "25%           14.890000\n",
       "50%           16.900000\n",
       "75%           19.735000\n",
       "max           25.020000"
      ]
     },
     "execution_count": 22,
     "metadata": {},
     "output_type": "execute_result"
    }
   ],
   "source": [
    "ET12.describe()"
   ]
  },
  {
   "cell_type": "code",
   "execution_count": 23,
   "metadata": {},
   "outputs": [
    {
     "data": {
      "text/plain": [
       "Unadjusted Total    0\n",
       "dtype: int64"
      ]
     },
     "execution_count": 23,
     "metadata": {},
     "output_type": "execute_result"
    }
   ],
   "source": [
    "ET12.isna().sum()"
   ]
  },
  {
   "cell_type": "markdown",
   "metadata": {},
   "source": [
    "### Calendar Adjustment"
   ]
  },
  {
   "cell_type": "code",
   "execution_count": 24,
   "metadata": {},
   "outputs": [],
   "source": [
    "variables = [MSTA_1950_onwards, CH4, GMAF, ET12]"
   ]
  },
  {
   "cell_type": "code",
   "execution_count": 25,
   "metadata": {},
   "outputs": [
    {
     "name": "stderr",
     "output_type": "stream",
     "text": [
      "C:\\Users\\admin\\AppData\\Local\\Temp\\ipykernel_22100\\3493902977.py:4: SettingWithCopyWarning: \n",
      "A value is trying to be set on a copy of a slice from a DataFrame.\n",
      "Try using .loc[row_indexer,col_indexer] = value instead\n",
      "\n",
      "See the caveats in the documentation: https://pandas.pydata.org/pandas-docs/stable/user_guide/indexing.html#returning-a-view-versus-a-copy\n",
      "  df[\"Days\"] = np.nan\n",
      "C:\\Users\\admin\\AppData\\Local\\Temp\\ipykernel_22100\\3493902977.py:9: SettingWithCopyWarning: \n",
      "A value is trying to be set on a copy of a slice from a DataFrame.\n",
      "Try using .loc[row_indexer,col_indexer] = value instead\n",
      "\n",
      "See the caveats in the documentation: https://pandas.pydata.org/pandas-docs/stable/user_guide/indexing.html#returning-a-view-versus-a-copy\n",
      "  df[\"Adjusted Data\"] = (df.iloc[:, 0] * 365.25 / (12 * df[\"Days\"])).round(2)\n"
     ]
    }
   ],
   "source": [
    "#Calendar adjustment\n",
    "# Create empty column for days in the month\n",
    "def calendar_adjustment(df):\n",
    "    df[\"Days\"] = np.nan\n",
    "    # Fill empty columns with the days per calendar month\n",
    "    for date in df.index:\n",
    "        df.loc[date, \"Days\"] = calendar.monthrange(date.year, date.month)[1]\n",
    "    # Perform calendar adjustment\n",
    "    df[\"Adjusted Data\"] = (df.iloc[:, 0] * 365.25 / (12 * df[\"Days\"])).round(2)\n",
    "\n",
    "\n",
    "#for i in variables:\n",
    "for i in [MSTA_1950_onwards, GMAF, ET12]:\n",
    "    calendar_adjustment(i)"
   ]
  },
  {
   "cell_type": "code",
   "execution_count": 26,
   "metadata": {},
   "outputs": [],
   "source": [
    "# CH4 = CH4.drop(columns=['Days', 'NOAA CH4 (ppb)'])\n",
    "MSTA_1950_onwards = MSTA_1950_onwards.drop(columns=['Days', 'Anomaly (deg C)'])\n",
    "GMAF = GMAF.drop(columns=['Days', 'Passenger Count'])\n",
    "ET12 = ET12.drop(columns=['Days', 'Unadjusted Total'])"
   ]
  },
  {
   "cell_type": "code",
   "execution_count": 27,
   "metadata": {},
   "outputs": [],
   "source": [
    "def rename_columns(df, df_name):\n",
    "    df = df.rename(columns={'Adjusted Data': df_name})\n",
    "    return df"
   ]
  },
  {
   "cell_type": "code",
   "execution_count": 28,
   "metadata": {},
   "outputs": [],
   "source": [
    "# CH4 = rename_columns(CH4, 'CH4 (adjusted)')\n",
    "MSTA_1950_onwards = rename_columns(MSTA_1950_onwards, 'Anomaly (adjusted deg C)')#\n",
    "GMAF = rename_columns(GMAF, 'Passenger Count (adjusted)')\n",
    "ET12 = rename_columns(ET12, 'Total ET12 (adjusted)')"
   ]
  },
  {
   "cell_type": "code",
   "execution_count": 29,
   "metadata": {},
   "outputs": [
    {
     "data": {
      "application/vnd.microsoft.datawrangler.viewer.v0+json": {
       "columns": [
        {
         "name": "Time",
         "rawType": "datetime64[ns]",
         "type": "datetime"
        },
        {
         "name": "NOAA CH4 (ppb)",
         "rawType": "float64",
         "type": "float"
        }
       ],
       "conversionMethod": "pd.DataFrame",
       "ref": "91b3602a-891a-46b3-9cef-5ef2f3e95f06",
       "rows": [
        [
         "1983-07-01 00:00:00",
         "1625.95"
        ],
        [
         "1983-08-01 00:00:00",
         "1628.05"
        ],
        [
         "1983-09-01 00:00:00",
         "1638.44"
        ],
        [
         "1983-10-01 00:00:00",
         "1644.8"
        ],
        [
         "1983-11-01 00:00:00",
         "1642.59"
        ],
        [
         "1983-12-01 00:00:00",
         "1639.56"
        ],
        [
         "1984-01-01 00:00:00",
         "1638.73"
        ],
        [
         "1984-02-01 00:00:00",
         "1638.78"
        ],
        [
         "1984-03-01 00:00:00",
         "1640.88"
        ],
        [
         "1984-04-01 00:00:00",
         "1643.98"
        ],
        [
         "1984-05-01 00:00:00",
         "1643.13"
        ],
        [
         "1984-06-01 00:00:00",
         "1639.76"
        ],
        [
         "1984-07-01 00:00:00",
         "1638.0"
        ],
        [
         "1984-08-01 00:00:00",
         "1641.68"
        ],
        [
         "1984-09-01 00:00:00",
         "1650.62"
        ],
        [
         "1984-10-01 00:00:00",
         "1654.59"
        ],
        [
         "1984-11-01 00:00:00",
         "1653.77"
        ],
        [
         "1984-12-01 00:00:00",
         "1656.23"
        ],
        [
         "1985-01-01 00:00:00",
         "1655.6"
        ],
        [
         "1985-02-01 00:00:00",
         "1652.21"
        ],
        [
         "1985-03-01 00:00:00",
         "1654.62"
        ],
        [
         "1985-04-01 00:00:00",
         "1658.2"
        ],
        [
         "1985-05-01 00:00:00",
         "1655.86"
        ],
        [
         "1985-06-01 00:00:00",
         "1650.07"
        ],
        [
         "1985-07-01 00:00:00",
         "1646.81"
        ],
        [
         "1985-08-01 00:00:00",
         "1652.23"
        ],
        [
         "1985-09-01 00:00:00",
         "1662.5"
        ],
        [
         "1985-10-01 00:00:00",
         "1667.49"
        ],
        [
         "1985-11-01 00:00:00",
         "1666.79"
        ],
        [
         "1985-12-01 00:00:00",
         "1666.08"
        ],
        [
         "1986-01-01 00:00:00",
         "1666.28"
        ],
        [
         "1986-02-01 00:00:00",
         "1666.89"
        ],
        [
         "1986-03-01 00:00:00",
         "1669.28"
        ],
        [
         "1986-04-01 00:00:00",
         "1670.81"
        ],
        [
         "1986-05-01 00:00:00",
         "1668.43"
        ],
        [
         "1986-06-01 00:00:00",
         "1664.78"
        ],
        [
         "1986-07-01 00:00:00",
         "1662.33"
        ],
        [
         "1986-08-01 00:00:00",
         "1664.36"
        ],
        [
         "1986-09-01 00:00:00",
         "1672.59"
        ],
        [
         "1986-10-01 00:00:00",
         "1678.67"
        ],
        [
         "1986-11-01 00:00:00",
         "1678.97"
        ],
        [
         "1986-12-01 00:00:00",
         "1679.14"
        ],
        [
         "1987-01-01 00:00:00",
         "1679.39"
        ],
        [
         "1987-02-01 00:00:00",
         "1679.0"
        ],
        [
         "1987-03-01 00:00:00",
         "1680.04"
        ],
        [
         "1987-04-01 00:00:00",
         "1681.35"
        ],
        [
         "1987-05-01 00:00:00",
         "1681.83"
        ],
        [
         "1987-06-01 00:00:00",
         "1680.0"
        ],
        [
         "1987-07-01 00:00:00",
         "1675.96"
        ],
        [
         "1987-08-01 00:00:00",
         "1677.15"
        ]
       ],
       "shape": {
        "columns": 1,
        "rows": 495
       }
      },
      "text/html": [
       "<div>\n",
       "<style scoped>\n",
       "    .dataframe tbody tr th:only-of-type {\n",
       "        vertical-align: middle;\n",
       "    }\n",
       "\n",
       "    .dataframe tbody tr th {\n",
       "        vertical-align: top;\n",
       "    }\n",
       "\n",
       "    .dataframe thead th {\n",
       "        text-align: right;\n",
       "    }\n",
       "</style>\n",
       "<table border=\"1\" class=\"dataframe\">\n",
       "  <thead>\n",
       "    <tr style=\"text-align: right;\">\n",
       "      <th></th>\n",
       "      <th>NOAA CH4 (ppb)</th>\n",
       "    </tr>\n",
       "    <tr>\n",
       "      <th>Time</th>\n",
       "      <th></th>\n",
       "    </tr>\n",
       "  </thead>\n",
       "  <tbody>\n",
       "    <tr>\n",
       "      <th>1983-07-01</th>\n",
       "      <td>1625.95</td>\n",
       "    </tr>\n",
       "    <tr>\n",
       "      <th>1983-08-01</th>\n",
       "      <td>1628.05</td>\n",
       "    </tr>\n",
       "    <tr>\n",
       "      <th>1983-09-01</th>\n",
       "      <td>1638.44</td>\n",
       "    </tr>\n",
       "    <tr>\n",
       "      <th>1983-10-01</th>\n",
       "      <td>1644.80</td>\n",
       "    </tr>\n",
       "    <tr>\n",
       "      <th>1983-11-01</th>\n",
       "      <td>1642.59</td>\n",
       "    </tr>\n",
       "    <tr>\n",
       "      <th>...</th>\n",
       "      <td>...</td>\n",
       "    </tr>\n",
       "    <tr>\n",
       "      <th>2024-05-01</th>\n",
       "      <td>1926.36</td>\n",
       "    </tr>\n",
       "    <tr>\n",
       "      <th>2024-06-01</th>\n",
       "      <td>1921.77</td>\n",
       "    </tr>\n",
       "    <tr>\n",
       "      <th>2024-07-01</th>\n",
       "      <td>1921.03</td>\n",
       "    </tr>\n",
       "    <tr>\n",
       "      <th>2024-08-01</th>\n",
       "      <td>1926.83</td>\n",
       "    </tr>\n",
       "    <tr>\n",
       "      <th>2024-09-01</th>\n",
       "      <td>1936.64</td>\n",
       "    </tr>\n",
       "  </tbody>\n",
       "</table>\n",
       "<p>495 rows × 1 columns</p>\n",
       "</div>"
      ],
      "text/plain": [
       "            NOAA CH4 (ppb)\n",
       "Time                      \n",
       "1983-07-01         1625.95\n",
       "1983-08-01         1628.05\n",
       "1983-09-01         1638.44\n",
       "1983-10-01         1644.80\n",
       "1983-11-01         1642.59\n",
       "...                    ...\n",
       "2024-05-01         1926.36\n",
       "2024-06-01         1921.77\n",
       "2024-07-01         1921.03\n",
       "2024-08-01         1926.83\n",
       "2024-09-01         1936.64\n",
       "\n",
       "[495 rows x 1 columns]"
      ]
     },
     "execution_count": 29,
     "metadata": {},
     "output_type": "execute_result"
    }
   ],
   "source": [
    "CH4"
   ]
  },
  {
   "cell_type": "code",
   "execution_count": 30,
   "metadata": {},
   "outputs": [],
   "source": [
    "# Add frequency to the index\n",
    "def frequency_add(i):\n",
    "    i.index = pd.DatetimeIndex(i.index.values, freq=i.index.inferred_freq)\n",
    "\n",
    "for i in variables:\n",
    "    frequency_add(i)"
   ]
  },
  {
   "cell_type": "code",
   "execution_count": 31,
   "metadata": {},
   "outputs": [],
   "source": [
    "# Set the name attribute for each DataFrame\n",
    "variables[0].name = 'MSTA_1950_onwards'\n",
    "variables[1].name = 'CH4'\n",
    "variables[2].name = 'GMAF'\n",
    "variables[3].name = 'ET12'"
   ]
  },
  {
   "cell_type": "markdown",
   "metadata": {},
   "source": [
    "### Merged Data"
   ]
  },
  {
   "cell_type": "code",
   "execution_count": 32,
   "metadata": {},
   "outputs": [
    {
     "data": {
      "text/plain": [
       "['Anomaly (adjusted deg C)']"
      ]
     },
     "execution_count": 32,
     "metadata": {},
     "output_type": "execute_result"
    }
   ],
   "source": [
    "MSTA_1950_onwards.columns.tolist()"
   ]
  },
  {
   "cell_type": "code",
   "execution_count": 33,
   "metadata": {},
   "outputs": [
    {
     "data": {
      "text/plain": [
       "Anomaly (adjusted deg C)      0\n",
       "NOAA CH4 (ppb)                0\n",
       "Passenger Count (adjusted)    0\n",
       "Total ET12 (adjusted)         0\n",
       "dtype: int64"
      ]
     },
     "execution_count": 33,
     "metadata": {},
     "output_type": "execute_result"
    }
   ],
   "source": [
    "merged_df = pd.merge(MSTA_1950_onwards, CH4, left_index=True, right_index=True, how='inner')\n",
    "merged_df = pd.merge(merged_df, GMAF, left_index=True, right_index=True, how='inner')\n",
    "merged_df = pd.merge(merged_df, ET12, left_index=True, right_index=True, how='inner')\n",
    "merged_df = merged_df.round(2)\n",
    "\n",
    "merged_df.isna().sum()\n",
    "\n"
   ]
  },
  {
   "cell_type": "code",
   "execution_count": 34,
   "metadata": {},
   "outputs": [
    {
     "data": {
      "application/vnd.microsoft.datawrangler.viewer.v0+json": {
       "columns": [
        {
         "name": "index",
         "rawType": "datetime64[ns]",
         "type": "datetime"
        },
        {
         "name": "Anomaly (adjusted deg C)",
         "rawType": "float64",
         "type": "float"
        },
        {
         "name": "NOAA CH4 (ppb)",
         "rawType": "float64",
         "type": "float"
        },
        {
         "name": "Passenger Count (adjusted)",
         "rawType": "float64",
         "type": "float"
        },
        {
         "name": "Total ET12 (adjusted)",
         "rawType": "float64",
         "type": "float"
        }
       ],
       "conversionMethod": "pd.DataFrame",
       "ref": "2619f921-61da-464a-b3d9-a1c5101cd06f",
       "rows": [
        [
         "1995-01-01 00:00:00",
         "0.41",
         "1751.12",
         "2225.86",
         "20.65"
        ],
        [
         "1995-02-01 00:00:00",
         "0.7",
         "1749.48",
         "2399.13",
         "21.74"
        ],
        [
         "1995-03-01 00:00:00",
         "0.35",
         "1749.01",
         "2662.79",
         "22.13"
        ],
        [
         "1995-04-01 00:00:00",
         "0.43",
         "1749.43",
         "3407.99",
         "17.84"
        ],
        [
         "1995-05-01 00:00:00",
         "0.26",
         "1747.63",
         "3422.75",
         "16.13"
        ],
        [
         "1995-06-01 00:00:00",
         "0.38",
         "1742.84",
         "4208.49",
         "15.85"
        ],
        [
         "1995-07-01 00:00:00",
         "0.43",
         "1740.16",
         "4276.96",
         "14.24"
        ],
        [
         "1995-08-01 00:00:00",
         "0.38",
         "1743.57",
         "4963.28",
         "13.96"
        ],
        [
         "1995-09-01 00:00:00",
         "0.28",
         "1749.79",
         "4683.32",
         "16.08"
        ],
        [
         "1995-10-01 00:00:00",
         "0.37",
         "1754.33",
         "4165.03",
         "17.39"
        ],
        [
         "1995-11-01 00:00:00",
         "0.38",
         "1755.5",
         "2572.98",
         "19.35"
        ],
        [
         "1995-12-01 00:00:00",
         "0.17",
         "1753.88",
         "2319.14",
         "24.57"
        ],
        [
         "1996-01-01 00:00:00",
         "0.21",
         "1752.23",
         "2212.12",
         "21.02"
        ],
        [
         "1996-02-01 00:00:00",
         "0.48",
         "1752.72",
         "2428.7",
         "23.83"
        ],
        [
         "1996-03-01 00:00:00",
         "0.28",
         "1752.24",
         "2911.2",
         "22.54"
        ],
        [
         "1996-04-01 00:00:00",
         "0.26",
         "1749.6",
         "3373.49",
         "19.0"
        ],
        [
         "1996-05-01 00:00:00",
         "0.23",
         "1748.29",
         "3239.14",
         "17.77"
        ],
        [
         "1996-06-01 00:00:00",
         "0.22",
         "1746.06",
         "4178.05",
         "15.98"
        ],
        [
         "1996-07-01 00:00:00",
         "0.32",
         "1742.05",
         "4067.82",
         "14.35"
        ],
        [
         "1996-08-01 00:00:00",
         "0.35",
         "1744.28",
         "5084.04",
         "14.14"
        ],
        [
         "1996-09-01 00:00:00",
         "0.21",
         "1752.65",
         "4635.63",
         "16.71"
        ],
        [
         "1996-10-01 00:00:00",
         "0.13",
         "1758.88",
         "4325.07",
         "18.5"
        ],
        [
         "1996-11-01 00:00:00",
         "0.32",
         "1760.02",
         "3018.39",
         "21.69"
        ],
        [
         "1996-12-01 00:00:00",
         "0.32",
         "1756.94",
         "2463.47",
         "23.27"
        ],
        [
         "1997-01-01 00:00:00",
         "0.24",
         "1753.38",
         "2494.89",
         "23.54"
        ],
        [
         "1997-02-01 00:00:00",
         "0.33",
         "1753.83",
         "2806.77",
         "21.73"
        ],
        [
         "1997-03-01 00:00:00",
         "0.39",
         "1755.69",
         "2976.0",
         "20.26"
        ],
        [
         "1997-04-01 00:00:00",
         "0.38",
         "1755.54",
         "3407.99",
         "18.84"
        ],
        [
         "1997-05-01 00:00:00",
         "0.31",
         "1753.79",
         "3839.05",
         "15.91"
        ],
        [
         "1997-06-01 00:00:00",
         "0.5",
         "1750.1",
         "4686.36",
         "16.85"
        ],
        [
         "1997-07-01 00:00:00",
         "0.34",
         "1746.04",
         "4496.9",
         "16.01"
        ],
        [
         "1997-08-01 00:00:00",
         "0.4",
         "1747.74",
         "5631.92",
         "13.23"
        ],
        [
         "1997-09-01 00:00:00",
         "0.47",
         "1754.99",
         "4935.95",
         "16.72"
        ],
        [
         "1997-10-01 00:00:00",
         "0.56",
         "1760.28",
         "4473.33",
         "18.28"
        ],
        [
         "1997-11-01 00:00:00",
         "0.62",
         "1761.7",
         "3509.44",
         "20.47"
        ],
        [
         "1997-12-01 00:00:00",
         "0.51",
         "1761.92",
         "2669.66",
         "22.67"
        ],
        [
         "1998-01-01 00:00:00",
         "0.55",
         "1761.44",
         "2765.89",
         "21.25"
        ],
        [
         "1998-02-01 00:00:00",
         "0.87",
         "1761.41",
         "3299.21",
         "21.83"
        ],
        [
         "1998-03-01 00:00:00",
         "0.58",
         "1762.95",
         "3266.63",
         "21.56"
        ],
        [
         "1998-04-01 00:00:00",
         "0.66",
         "1764.71",
         "3873.68",
         "20.05"
        ],
        [
         "1998-05-01 00:00:00",
         "0.63",
         "1764.23",
         "4520.46",
         "16.64"
        ],
        [
         "1998-06-01 00:00:00",
         "0.68",
         "1760.34",
         "4890.29",
         "18.12"
        ],
        [
         "1998-07-01 00:00:00",
         "0.65",
         "1756.15",
         "5045.75",
         "15.61"
        ],
        [
         "1998-08-01 00:00:00",
         "0.63",
         "1760.18",
         "6075.72",
         "15.64"
        ],
        [
         "1998-09-01 00:00:00",
         "0.44",
         "1770.68",
         "5730.37",
         "17.13"
        ],
        [
         "1998-10-01 00:00:00",
         "0.4",
         "1776.22",
         "4820.91",
         "17.96"
        ],
        [
         "1998-11-01 00:00:00",
         "0.39",
         "1775.46",
         "3714.39",
         "22.34"
        ],
        [
         "1998-12-01 00:00:00",
         "0.48",
         "1774.06",
         "2853.27",
         "22.98"
        ],
        [
         "1999-01-01 00:00:00",
         "0.38",
         "1773.78",
         "3125.24",
         "22.34"
        ],
        [
         "1999-02-01 00:00:00",
         "0.66",
         "1773.87",
         "3316.6",
         "22.95"
        ]
       ],
       "shape": {
        "columns": 4,
        "rows": 348
       }
      },
      "text/html": [
       "<div>\n",
       "<style scoped>\n",
       "    .dataframe tbody tr th:only-of-type {\n",
       "        vertical-align: middle;\n",
       "    }\n",
       "\n",
       "    .dataframe tbody tr th {\n",
       "        vertical-align: top;\n",
       "    }\n",
       "\n",
       "    .dataframe thead th {\n",
       "        text-align: right;\n",
       "    }\n",
       "</style>\n",
       "<table border=\"1\" class=\"dataframe\">\n",
       "  <thead>\n",
       "    <tr style=\"text-align: right;\">\n",
       "      <th></th>\n",
       "      <th>Anomaly (adjusted deg C)</th>\n",
       "      <th>NOAA CH4 (ppb)</th>\n",
       "      <th>Passenger Count (adjusted)</th>\n",
       "      <th>Total ET12 (adjusted)</th>\n",
       "    </tr>\n",
       "  </thead>\n",
       "  <tbody>\n",
       "    <tr>\n",
       "      <th>1995-01-01</th>\n",
       "      <td>0.41</td>\n",
       "      <td>1751.12</td>\n",
       "      <td>2225.86</td>\n",
       "      <td>20.65</td>\n",
       "    </tr>\n",
       "    <tr>\n",
       "      <th>1995-02-01</th>\n",
       "      <td>0.70</td>\n",
       "      <td>1749.48</td>\n",
       "      <td>2399.13</td>\n",
       "      <td>21.74</td>\n",
       "    </tr>\n",
       "    <tr>\n",
       "      <th>1995-03-01</th>\n",
       "      <td>0.35</td>\n",
       "      <td>1749.01</td>\n",
       "      <td>2662.79</td>\n",
       "      <td>22.13</td>\n",
       "    </tr>\n",
       "    <tr>\n",
       "      <th>1995-04-01</th>\n",
       "      <td>0.43</td>\n",
       "      <td>1749.43</td>\n",
       "      <td>3407.99</td>\n",
       "      <td>17.84</td>\n",
       "    </tr>\n",
       "    <tr>\n",
       "      <th>1995-05-01</th>\n",
       "      <td>0.26</td>\n",
       "      <td>1747.63</td>\n",
       "      <td>3422.75</td>\n",
       "      <td>16.13</td>\n",
       "    </tr>\n",
       "    <tr>\n",
       "      <th>...</th>\n",
       "      <td>...</td>\n",
       "      <td>...</td>\n",
       "      <td>...</td>\n",
       "      <td>...</td>\n",
       "    </tr>\n",
       "    <tr>\n",
       "      <th>2023-08-01</th>\n",
       "      <td>1.18</td>\n",
       "      <td>1917.22</td>\n",
       "      <td>10037.50</td>\n",
       "      <td>11.28</td>\n",
       "    </tr>\n",
       "    <tr>\n",
       "      <th>2023-09-01</th>\n",
       "      <td>1.37</td>\n",
       "      <td>1925.06</td>\n",
       "      <td>9615.21</td>\n",
       "      <td>11.87</td>\n",
       "    </tr>\n",
       "    <tr>\n",
       "      <th>2023-10-01</th>\n",
       "      <td>1.26</td>\n",
       "      <td>1930.72</td>\n",
       "      <td>8339.88</td>\n",
       "      <td>13.02</td>\n",
       "    </tr>\n",
       "    <tr>\n",
       "      <th>2023-11-01</th>\n",
       "      <td>1.35</td>\n",
       "      <td>1931.85</td>\n",
       "      <td>5794.29</td>\n",
       "      <td>15.37</td>\n",
       "    </tr>\n",
       "    <tr>\n",
       "      <th>2023-12-01</th>\n",
       "      <td>1.24</td>\n",
       "      <td>1931.15</td>\n",
       "      <td>4907.31</td>\n",
       "      <td>15.83</td>\n",
       "    </tr>\n",
       "  </tbody>\n",
       "</table>\n",
       "<p>348 rows × 4 columns</p>\n",
       "</div>"
      ],
      "text/plain": [
       "            Anomaly (adjusted deg C)  NOAA CH4 (ppb)  \\\n",
       "1995-01-01                      0.41         1751.12   \n",
       "1995-02-01                      0.70         1749.48   \n",
       "1995-03-01                      0.35         1749.01   \n",
       "1995-04-01                      0.43         1749.43   \n",
       "1995-05-01                      0.26         1747.63   \n",
       "...                              ...             ...   \n",
       "2023-08-01                      1.18         1917.22   \n",
       "2023-09-01                      1.37         1925.06   \n",
       "2023-10-01                      1.26         1930.72   \n",
       "2023-11-01                      1.35         1931.85   \n",
       "2023-12-01                      1.24         1931.15   \n",
       "\n",
       "            Passenger Count (adjusted)  Total ET12 (adjusted)  \n",
       "1995-01-01                     2225.86                  20.65  \n",
       "1995-02-01                     2399.13                  21.74  \n",
       "1995-03-01                     2662.79                  22.13  \n",
       "1995-04-01                     3407.99                  17.84  \n",
       "1995-05-01                     3422.75                  16.13  \n",
       "...                                ...                    ...  \n",
       "2023-08-01                    10037.50                  11.28  \n",
       "2023-09-01                     9615.21                  11.87  \n",
       "2023-10-01                     8339.88                  13.02  \n",
       "2023-11-01                     5794.29                  15.37  \n",
       "2023-12-01                     4907.31                  15.83  \n",
       "\n",
       "[348 rows x 4 columns]"
      ]
     },
     "execution_count": 34,
     "metadata": {},
     "output_type": "execute_result"
    }
   ],
   "source": [
    "merged_df"
   ]
  },
  {
   "cell_type": "code",
   "execution_count": 35,
   "metadata": {},
   "outputs": [
    {
     "data": {
      "application/vnd.microsoft.datawrangler.viewer.v0+json": {
       "columns": [
        {
         "name": "index",
         "rawType": "int64",
         "type": "integer"
        },
        {
         "name": "year",
         "rawType": "int32",
         "type": "integer"
        },
        {
         "name": "unique_month_count",
         "rawType": "int64",
         "type": "integer"
        }
       ],
       "conversionMethod": "pd.DataFrame",
       "ref": "35ee1fa0-c058-40cb-9fa9-10ab0283d1cb",
       "rows": [
        [
         "0",
         "1995",
         "12"
        ],
        [
         "1",
         "1996",
         "12"
        ],
        [
         "2",
         "1997",
         "12"
        ],
        [
         "3",
         "1998",
         "12"
        ],
        [
         "4",
         "1999",
         "12"
        ],
        [
         "5",
         "2000",
         "12"
        ],
        [
         "6",
         "2001",
         "12"
        ],
        [
         "7",
         "2002",
         "12"
        ],
        [
         "8",
         "2003",
         "12"
        ],
        [
         "9",
         "2004",
         "12"
        ],
        [
         "10",
         "2005",
         "12"
        ],
        [
         "11",
         "2006",
         "12"
        ],
        [
         "12",
         "2007",
         "12"
        ],
        [
         "13",
         "2008",
         "12"
        ],
        [
         "14",
         "2009",
         "12"
        ],
        [
         "15",
         "2010",
         "12"
        ],
        [
         "16",
         "2011",
         "12"
        ],
        [
         "17",
         "2012",
         "12"
        ],
        [
         "18",
         "2013",
         "12"
        ],
        [
         "19",
         "2014",
         "12"
        ],
        [
         "20",
         "2015",
         "12"
        ],
        [
         "21",
         "2016",
         "12"
        ],
        [
         "22",
         "2017",
         "12"
        ],
        [
         "23",
         "2018",
         "12"
        ],
        [
         "24",
         "2019",
         "12"
        ],
        [
         "25",
         "2020",
         "12"
        ],
        [
         "26",
         "2021",
         "12"
        ],
        [
         "27",
         "2022",
         "12"
        ],
        [
         "28",
         "2023",
         "12"
        ]
       ],
       "shape": {
        "columns": 2,
        "rows": 29
       }
      },
      "text/html": [
       "<div>\n",
       "<style scoped>\n",
       "    .dataframe tbody tr th:only-of-type {\n",
       "        vertical-align: middle;\n",
       "    }\n",
       "\n",
       "    .dataframe tbody tr th {\n",
       "        vertical-align: top;\n",
       "    }\n",
       "\n",
       "    .dataframe thead th {\n",
       "        text-align: right;\n",
       "    }\n",
       "</style>\n",
       "<table border=\"1\" class=\"dataframe\">\n",
       "  <thead>\n",
       "    <tr style=\"text-align: right;\">\n",
       "      <th></th>\n",
       "      <th>year</th>\n",
       "      <th>unique_month_count</th>\n",
       "    </tr>\n",
       "  </thead>\n",
       "  <tbody>\n",
       "    <tr>\n",
       "      <th>0</th>\n",
       "      <td>1995</td>\n",
       "      <td>12</td>\n",
       "    </tr>\n",
       "    <tr>\n",
       "      <th>1</th>\n",
       "      <td>1996</td>\n",
       "      <td>12</td>\n",
       "    </tr>\n",
       "    <tr>\n",
       "      <th>2</th>\n",
       "      <td>1997</td>\n",
       "      <td>12</td>\n",
       "    </tr>\n",
       "    <tr>\n",
       "      <th>3</th>\n",
       "      <td>1998</td>\n",
       "      <td>12</td>\n",
       "    </tr>\n",
       "    <tr>\n",
       "      <th>4</th>\n",
       "      <td>1999</td>\n",
       "      <td>12</td>\n",
       "    </tr>\n",
       "    <tr>\n",
       "      <th>5</th>\n",
       "      <td>2000</td>\n",
       "      <td>12</td>\n",
       "    </tr>\n",
       "    <tr>\n",
       "      <th>6</th>\n",
       "      <td>2001</td>\n",
       "      <td>12</td>\n",
       "    </tr>\n",
       "    <tr>\n",
       "      <th>7</th>\n",
       "      <td>2002</td>\n",
       "      <td>12</td>\n",
       "    </tr>\n",
       "    <tr>\n",
       "      <th>8</th>\n",
       "      <td>2003</td>\n",
       "      <td>12</td>\n",
       "    </tr>\n",
       "    <tr>\n",
       "      <th>9</th>\n",
       "      <td>2004</td>\n",
       "      <td>12</td>\n",
       "    </tr>\n",
       "    <tr>\n",
       "      <th>10</th>\n",
       "      <td>2005</td>\n",
       "      <td>12</td>\n",
       "    </tr>\n",
       "    <tr>\n",
       "      <th>11</th>\n",
       "      <td>2006</td>\n",
       "      <td>12</td>\n",
       "    </tr>\n",
       "    <tr>\n",
       "      <th>12</th>\n",
       "      <td>2007</td>\n",
       "      <td>12</td>\n",
       "    </tr>\n",
       "    <tr>\n",
       "      <th>13</th>\n",
       "      <td>2008</td>\n",
       "      <td>12</td>\n",
       "    </tr>\n",
       "    <tr>\n",
       "      <th>14</th>\n",
       "      <td>2009</td>\n",
       "      <td>12</td>\n",
       "    </tr>\n",
       "    <tr>\n",
       "      <th>15</th>\n",
       "      <td>2010</td>\n",
       "      <td>12</td>\n",
       "    </tr>\n",
       "    <tr>\n",
       "      <th>16</th>\n",
       "      <td>2011</td>\n",
       "      <td>12</td>\n",
       "    </tr>\n",
       "    <tr>\n",
       "      <th>17</th>\n",
       "      <td>2012</td>\n",
       "      <td>12</td>\n",
       "    </tr>\n",
       "    <tr>\n",
       "      <th>18</th>\n",
       "      <td>2013</td>\n",
       "      <td>12</td>\n",
       "    </tr>\n",
       "    <tr>\n",
       "      <th>19</th>\n",
       "      <td>2014</td>\n",
       "      <td>12</td>\n",
       "    </tr>\n",
       "    <tr>\n",
       "      <th>20</th>\n",
       "      <td>2015</td>\n",
       "      <td>12</td>\n",
       "    </tr>\n",
       "    <tr>\n",
       "      <th>21</th>\n",
       "      <td>2016</td>\n",
       "      <td>12</td>\n",
       "    </tr>\n",
       "    <tr>\n",
       "      <th>22</th>\n",
       "      <td>2017</td>\n",
       "      <td>12</td>\n",
       "    </tr>\n",
       "    <tr>\n",
       "      <th>23</th>\n",
       "      <td>2018</td>\n",
       "      <td>12</td>\n",
       "    </tr>\n",
       "    <tr>\n",
       "      <th>24</th>\n",
       "      <td>2019</td>\n",
       "      <td>12</td>\n",
       "    </tr>\n",
       "    <tr>\n",
       "      <th>25</th>\n",
       "      <td>2020</td>\n",
       "      <td>12</td>\n",
       "    </tr>\n",
       "    <tr>\n",
       "      <th>26</th>\n",
       "      <td>2021</td>\n",
       "      <td>12</td>\n",
       "    </tr>\n",
       "    <tr>\n",
       "      <th>27</th>\n",
       "      <td>2022</td>\n",
       "      <td>12</td>\n",
       "    </tr>\n",
       "    <tr>\n",
       "      <th>28</th>\n",
       "      <td>2023</td>\n",
       "      <td>12</td>\n",
       "    </tr>\n",
       "  </tbody>\n",
       "</table>\n",
       "</div>"
      ],
      "text/plain": [
       "    year  unique_month_count\n",
       "0   1995                  12\n",
       "1   1996                  12\n",
       "2   1997                  12\n",
       "3   1998                  12\n",
       "4   1999                  12\n",
       "5   2000                  12\n",
       "6   2001                  12\n",
       "7   2002                  12\n",
       "8   2003                  12\n",
       "9   2004                  12\n",
       "10  2005                  12\n",
       "11  2006                  12\n",
       "12  2007                  12\n",
       "13  2008                  12\n",
       "14  2009                  12\n",
       "15  2010                  12\n",
       "16  2011                  12\n",
       "17  2012                  12\n",
       "18  2013                  12\n",
       "19  2014                  12\n",
       "20  2015                  12\n",
       "21  2016                  12\n",
       "22  2017                  12\n",
       "23  2018                  12\n",
       "24  2019                  12\n",
       "25  2020                  12\n",
       "26  2021                  12\n",
       "27  2022                  12\n",
       "28  2023                  12"
      ]
     },
     "execution_count": 35,
     "metadata": {},
     "output_type": "execute_result"
    }
   ],
   "source": [
    "# Extract the year and month from the index\n",
    "merged_df['year'] = merged_df.index.year\n",
    "merged_df['month'] = merged_df.index.month  \n",
    "\n",
    "# Count the number of unique months for each year\n",
    "month_counts = merged_df.groupby('year')['month'].nunique()\n",
    "\n",
    "# Convert to DataFrame for a better representation\n",
    "month_counts = pd.DataFrame(month_counts).reset_index()\n",
    "month_counts.columns = ['year', 'unique_month_count']\n",
    "\n",
    "month_counts\n",
    "\n"
   ]
  },
  {
   "cell_type": "markdown",
   "metadata": {},
   "source": [
    "### Adding Auxiliary Variables"
   ]
  },
  {
   "cell_type": "code",
   "execution_count": 36,
   "metadata": {},
   "outputs": [],
   "source": [
    "#Adding month variables D1-D12 \n",
    "for month in range(1, 13):\n",
    "    merged_df[f'D{month}'] = 0\n",
    "\n",
    "\n",
    "merged_df['month'] = merged_df.index.month  \n",
    "\n",
    "\n",
    "for month in range(1, 13):\n",
    "    merged_df.loc[merged_df['month'] == month, f'D{month}'] = 1\n",
    "\n",
    "#Adding Time variable\n",
    "merged_df['time'] = range(1, len(merged_df) + 1)\n",
    "\n",
    "merged_df = merged_df.drop(columns=['month','year'])"
   ]
  },
  {
   "cell_type": "code",
   "execution_count": 37,
   "metadata": {},
   "outputs": [],
   "source": [
    "new_column_names = [\n",
    "    'Anomaly_adjusted_deg_C',\n",
    "    'NOAA_CH4',\n",
    "    'Passenger_Count_adjusted',\n",
    "    'Total_ET12_adjusted',\n",
    "    'D1', 'D2', 'D3', 'D4', 'D5', 'D6', 'D7', 'D8', 'D9', 'D10', 'D11', 'D12', 'time'\n",
    "]\n",
    "\n",
    "# Apply the new column names to the DataFrame\n",
    "merged_df.columns = new_column_names"
   ]
  },
  {
   "cell_type": "code",
   "execution_count": 38,
   "metadata": {},
   "outputs": [],
   "source": [
    "# reading the basic variables\n",
    "MSTA = merged_df['Anomaly_adjusted_deg_C']\n",
    "ET12 = merged_df[\"Total_ET12_adjusted\"]\n",
    "CH4 = merged_df['NOAA_CH4']\n",
    "GMAF = merged_df[\"Passenger_Count_adjusted\"]\n",
    "\n",
    "D1 = merged_df[\"D1\"]\n",
    "D2 = merged_df[\"D2\"]\n",
    "D3 = merged_df[\"D3\"]\n",
    "D4 = merged_df[\"D4\"]\n",
    "D5 = merged_df[\"D5\"]\n",
    "D6 = merged_df[\"D6\"]\n",
    "D7 = merged_df[\"D7\"]\n",
    "D8 = merged_df[\"D8\"]\n",
    "D9 = merged_df[\"D9\"]\n",
    "D10 = merged_df[\"D10\"]\n",
    "D11 = merged_df[\"D11\"]\n",
    "D12 = merged_df[\"D12\"]\n",
    "time = merged_df[\"time\"]"
   ]
  },
  {
   "cell_type": "code",
   "execution_count": 39,
   "metadata": {},
   "outputs": [
    {
     "data": {
      "application/vnd.microsoft.datawrangler.viewer.v0+json": {
       "columns": [
        {
         "name": "Time",
         "rawType": "datetime64[ns]",
         "type": "datetime"
        },
        {
         "name": "Anomaly_adjusted_deg_C",
         "rawType": "float64",
         "type": "float"
        }
       ],
       "conversionMethod": "pd.DataFrame",
       "ref": "a0cb836a-4a85-468e-a654-3a2fabd0fc08",
       "rows": [
        [
         "1995-01-01 00:00:00",
         "0.41"
        ],
        [
         "1995-02-01 00:00:00",
         "0.7"
        ],
        [
         "1995-03-01 00:00:00",
         "0.35"
        ],
        [
         "1995-04-01 00:00:00",
         "0.43"
        ],
        [
         "1995-05-01 00:00:00",
         "0.26"
        ],
        [
         "1995-06-01 00:00:00",
         "0.38"
        ],
        [
         "1995-07-01 00:00:00",
         "0.43"
        ],
        [
         "1995-08-01 00:00:00",
         "0.38"
        ],
        [
         "1995-09-01 00:00:00",
         "0.28"
        ],
        [
         "1995-10-01 00:00:00",
         "0.37"
        ],
        [
         "1995-11-01 00:00:00",
         "0.38"
        ],
        [
         "1995-12-01 00:00:00",
         "0.17"
        ],
        [
         "1996-01-01 00:00:00",
         "0.21"
        ],
        [
         "1996-02-01 00:00:00",
         "0.48"
        ],
        [
         "1996-03-01 00:00:00",
         "0.28"
        ],
        [
         "1996-04-01 00:00:00",
         "0.26"
        ],
        [
         "1996-05-01 00:00:00",
         "0.23"
        ],
        [
         "1996-06-01 00:00:00",
         "0.22"
        ],
        [
         "1996-07-01 00:00:00",
         "0.32"
        ],
        [
         "1996-08-01 00:00:00",
         "0.35"
        ],
        [
         "1996-09-01 00:00:00",
         "0.21"
        ],
        [
         "1996-10-01 00:00:00",
         "0.13"
        ],
        [
         "1996-11-01 00:00:00",
         "0.32"
        ],
        [
         "1996-12-01 00:00:00",
         "0.32"
        ],
        [
         "1997-01-01 00:00:00",
         "0.24"
        ],
        [
         "1997-02-01 00:00:00",
         "0.33"
        ],
        [
         "1997-03-01 00:00:00",
         "0.39"
        ],
        [
         "1997-04-01 00:00:00",
         "0.38"
        ],
        [
         "1997-05-01 00:00:00",
         "0.31"
        ],
        [
         "1997-06-01 00:00:00",
         "0.5"
        ],
        [
         "1997-07-01 00:00:00",
         "0.34"
        ],
        [
         "1997-08-01 00:00:00",
         "0.4"
        ],
        [
         "1997-09-01 00:00:00",
         "0.47"
        ],
        [
         "1997-10-01 00:00:00",
         "0.56"
        ],
        [
         "1997-11-01 00:00:00",
         "0.62"
        ],
        [
         "1997-12-01 00:00:00",
         "0.51"
        ],
        [
         "1998-01-01 00:00:00",
         "0.55"
        ],
        [
         "1998-02-01 00:00:00",
         "0.87"
        ],
        [
         "1998-03-01 00:00:00",
         "0.58"
        ],
        [
         "1998-04-01 00:00:00",
         "0.66"
        ],
        [
         "1998-05-01 00:00:00",
         "0.63"
        ],
        [
         "1998-06-01 00:00:00",
         "0.68"
        ],
        [
         "1998-07-01 00:00:00",
         "0.65"
        ],
        [
         "1998-08-01 00:00:00",
         "0.63"
        ],
        [
         "1998-09-01 00:00:00",
         "0.44"
        ],
        [
         "1998-10-01 00:00:00",
         "0.4"
        ],
        [
         "1998-11-01 00:00:00",
         "0.39"
        ],
        [
         "1998-12-01 00:00:00",
         "0.48"
        ],
        [
         "1999-01-01 00:00:00",
         "0.38"
        ],
        [
         "1999-02-01 00:00:00",
         "0.66"
        ]
       ],
       "shape": {
        "columns": 1,
        "rows": 348
       }
      },
      "text/html": [
       "<div>\n",
       "<style scoped>\n",
       "    .dataframe tbody tr th:only-of-type {\n",
       "        vertical-align: middle;\n",
       "    }\n",
       "\n",
       "    .dataframe tbody tr th {\n",
       "        vertical-align: top;\n",
       "    }\n",
       "\n",
       "    .dataframe thead th {\n",
       "        text-align: right;\n",
       "    }\n",
       "</style>\n",
       "<table border=\"1\" class=\"dataframe\">\n",
       "  <thead>\n",
       "    <tr style=\"text-align: right;\">\n",
       "      <th></th>\n",
       "      <th>Anomaly_adjusted_deg_C</th>\n",
       "    </tr>\n",
       "    <tr>\n",
       "      <th>Time</th>\n",
       "      <th></th>\n",
       "    </tr>\n",
       "  </thead>\n",
       "  <tbody>\n",
       "    <tr>\n",
       "      <th>1995-01-01</th>\n",
       "      <td>0.41</td>\n",
       "    </tr>\n",
       "    <tr>\n",
       "      <th>1995-02-01</th>\n",
       "      <td>0.70</td>\n",
       "    </tr>\n",
       "    <tr>\n",
       "      <th>1995-03-01</th>\n",
       "      <td>0.35</td>\n",
       "    </tr>\n",
       "    <tr>\n",
       "      <th>1995-04-01</th>\n",
       "      <td>0.43</td>\n",
       "    </tr>\n",
       "    <tr>\n",
       "      <th>1995-05-01</th>\n",
       "      <td>0.26</td>\n",
       "    </tr>\n",
       "    <tr>\n",
       "      <th>...</th>\n",
       "      <td>...</td>\n",
       "    </tr>\n",
       "    <tr>\n",
       "      <th>2023-08-01</th>\n",
       "      <td>1.18</td>\n",
       "    </tr>\n",
       "    <tr>\n",
       "      <th>2023-09-01</th>\n",
       "      <td>1.37</td>\n",
       "    </tr>\n",
       "    <tr>\n",
       "      <th>2023-10-01</th>\n",
       "      <td>1.26</td>\n",
       "    </tr>\n",
       "    <tr>\n",
       "      <th>2023-11-01</th>\n",
       "      <td>1.35</td>\n",
       "    </tr>\n",
       "    <tr>\n",
       "      <th>2023-12-01</th>\n",
       "      <td>1.24</td>\n",
       "    </tr>\n",
       "  </tbody>\n",
       "</table>\n",
       "<p>348 rows × 1 columns</p>\n",
       "</div>"
      ],
      "text/plain": [
       "            Anomaly_adjusted_deg_C\n",
       "Time                              \n",
       "1995-01-01                    0.41\n",
       "1995-02-01                    0.70\n",
       "1995-03-01                    0.35\n",
       "1995-04-01                    0.43\n",
       "1995-05-01                    0.26\n",
       "...                            ...\n",
       "2023-08-01                    1.18\n",
       "2023-09-01                    1.37\n",
       "2023-10-01                    1.26\n",
       "2023-11-01                    1.35\n",
       "2023-12-01                    1.24\n",
       "\n",
       "[348 rows x 1 columns]"
      ]
     },
     "execution_count": 39,
     "metadata": {},
     "output_type": "execute_result"
    }
   ],
   "source": [
    "# Reading the original MSTA time series for all the 348 periods\n",
    "MSTAfull0 = pd.DataFrame(MSTA_1950_onwards[(MSTA_1950_onwards.index >= '1995-01-01') & (MSTA_1950_onwards.index <= '2023-12-01')])\n",
    "MSTAfull0.rename(columns={'Anomaly (adjusted deg C)': 'Anomaly_adjusted_deg_C'}, inplace=True)\n",
    "MSTAfull0"
   ]
  },
  {
   "cell_type": "markdown",
   "metadata": {},
   "source": [
    "### Preparing Fitted and Future values"
   ]
  },
  {
   "cell_type": "code",
   "execution_count": 40,
   "metadata": {},
   "outputs": [],
   "source": [
    "from statsmodels.tsa.holtwinters import ExponentialSmoothing"
   ]
  },
  {
   "cell_type": "code",
   "execution_count": 41,
   "metadata": {},
   "outputs": [],
   "source": [
    "#D1-D12 value assigning function:\n",
    "def monthly_pattern(num_periods, target_month):\n",
    "    pattern = []\n",
    "    \n",
    "    for i in range(num_periods):\n",
    "        month = (i % 12) + 1  \n",
    "        if month == target_month:\n",
    "            pattern.append(1)\n",
    "        else:\n",
    "            pattern.append(0)\n",
    "    return pattern"
   ]
  },
  {
   "cell_type": "code",
   "execution_count": 42,
   "metadata": {},
   "outputs": [],
   "source": [
    "#Future time order (for time varaiable):\n",
    "def consecutive_numbers(start_number, num_next):\n",
    "    return list(range(start_number + 1, start_number + num_next + 1))"
   ]
  },
  {
   "cell_type": "code",
   "execution_count": 43,
   "metadata": {},
   "outputs": [
    {
     "name": "stderr",
     "output_type": "stream",
     "text": [
      "c:\\Users\\admin\\anaconda3\\envs\\datasciences1\\lib\\site-packages\\statsmodels\\tsa\\base\\tsa_model.py:473: ValueWarning: No frequency information was provided, so inferred frequency MS will be used.\n",
      "  self._init_dates(dates, freq)\n",
      "c:\\Users\\admin\\anaconda3\\envs\\datasciences1\\lib\\site-packages\\statsmodels\\tsa\\base\\tsa_model.py:473: ValueWarning: No frequency information was provided, so inferred frequency MS will be used.\n",
      "  self._init_dates(dates, freq)\n",
      "c:\\Users\\admin\\anaconda3\\envs\\datasciences1\\lib\\site-packages\\statsmodels\\tsa\\base\\tsa_model.py:473: ValueWarning: No frequency information was provided, so inferred frequency MS will be used.\n",
      "  self._init_dates(dates, freq)\n",
      "c:\\Users\\admin\\anaconda3\\envs\\datasciences1\\lib\\site-packages\\statsmodels\\tsa\\holtwinters\\model.py:918: ConvergenceWarning: Optimization failed to converge. Check mle_retvals.\n",
      "  warnings.warn(\n"
     ]
    }
   ],
   "source": [
    "#Forecast Explanatory Variables based on Holt-Winters method\n",
    "\n",
    "# Forecasting for ET12 using Holt-Winters mul method\n",
    "fit1 = ExponentialSmoothing(ET12, trend='add', seasonal='mul', seasonal_periods=12, damped_trend=True).fit()\n",
    "fcast1 = fit1.forecast(24).rename(\"mul seasonal trend for ET12\")\n",
    "\n",
    "# Forecasting for CH4 using Holt-Winters add method\n",
    "fit2 = ExponentialSmoothing(CH4, trend='add', seasonal='add', seasonal_periods=12).fit(optimized=True)\n",
    "fcast2 = fit2.forecast(24).rename(\"add seasonal trend for CH4\")\n",
    "\n",
    "# Forecasting for GMAF using Holt-Winters mul method\n",
    "fit3 = ExponentialSmoothing(GMAF, trend='add', seasonal='mul', seasonal_periods=12, damped_trend=True).fit()\n",
    "fcast3 = fit3.forecast(24).rename(\"mul seasonal trend for GMAF\")"
   ]
  },
  {
   "cell_type": "code",
   "execution_count": 44,
   "metadata": {},
   "outputs": [],
   "source": [
    "# putting the fitted values of the forecasts of CH4,GMAF and ET12 in arrays\n",
    "a1 = np.array(fit1.fittedvalues)\n",
    "a2 = np.array(fit2.fittedvalues)\n",
    "a3 = np.array(fit3.fittedvalues)\n",
    "\n",
    "# putting the values of the forecasts of CH4,GMAF and ET12 in arrays\n",
    "v1 = np.array(fcast1)\n",
    "v2 = np.array(fcast2)\n",
    "v3 = np.array(fcast3)"
   ]
  },
  {
   "cell_type": "code",
   "execution_count": 45,
   "metadata": {},
   "outputs": [],
   "source": [
    "#Fitted value for D1-12\n",
    "a4 = monthly_pattern(len(a1), 1)  \n",
    "a5 = monthly_pattern(len(a1), 2)  \n",
    "a6 = monthly_pattern(len(a1), 3)  \n",
    "a7 = monthly_pattern(len(a1), 4)  \n",
    "a8 = monthly_pattern(len(a1), 5)  # \n",
    "a9 = monthly_pattern(len(a1), 6)  \n",
    "a10 = monthly_pattern(len(a1), 7)  \n",
    "a11 = monthly_pattern(len(a1), 8)  \n",
    "a12 = monthly_pattern(len(a1), 9)  \n",
    "a13 = monthly_pattern(len(a1), 10)  \n",
    "a14 = monthly_pattern(len(a1), 11)  \n",
    "a15 = monthly_pattern(len(a1), 12)  \n",
    "\n",
    "#Forecast value for D1-12\n",
    "v4 = monthly_pattern(24, 1)  \n",
    "v5 = monthly_pattern(24, 2)  \n",
    "v6 = monthly_pattern(24, 3)  \n",
    "v7 = monthly_pattern(24, 4)  \n",
    "v8 = monthly_pattern(24, 5)  # \n",
    "v9 = monthly_pattern(24, 6)  \n",
    "v10 = monthly_pattern(24, 7)  \n",
    "v11 = monthly_pattern(24, 8)  \n",
    "v12 = monthly_pattern(24, 9)  \n",
    "v13 = monthly_pattern(24, 10)  \n",
    "v14 = monthly_pattern(24, 11)  \n",
    "v15 = monthly_pattern(24, 12)  "
   ]
  },
  {
   "cell_type": "code",
   "execution_count": 46,
   "metadata": {},
   "outputs": [],
   "source": [
    "#a and v for time\n",
    "a16 = consecutive_numbers(0, len(a1))\n",
    "v16 = consecutive_numbers(len(a1), 24)"
   ]
  },
  {
   "cell_type": "markdown",
   "metadata": {},
   "source": [
    "# Regression Modelling "
   ]
  },
  {
   "cell_type": "code",
   "execution_count": 47,
   "metadata": {},
   "outputs": [
    {
     "name": "stdout",
     "output_type": "stream",
     "text": [
      "                              OLS Regression Results                              \n",
      "==================================================================================\n",
      "Dep. Variable:     Anomaly_adjusted_deg_C   R-squared:                       0.668\n",
      "Model:                                OLS   Adj. R-squared:                  0.653\n",
      "Method:                     Least Squares   F-statistic:                     44.46\n",
      "Date:                    Fri, 21 Mar 2025   Prob (F-statistic):           4.82e-70\n",
      "Time:                            08:44:17   Log-Likelihood:                 216.00\n",
      "No. Observations:                     348   AIC:                            -400.0\n",
      "Df Residuals:                         332   BIC:                            -338.4\n",
      "Df Model:                              15                                         \n",
      "Covariance Type:                nonrobust                                         \n",
      "============================================================================================\n",
      "                               coef    std err          t      P>|t|      [0.025      0.975]\n",
      "--------------------------------------------------------------------------------------------\n",
      "Intercept                   -1.4019      0.946     -1.482      0.139      -3.263       0.459\n",
      "Total_ET12_adjusted         -0.0197      0.008     -2.579      0.010      -0.035      -0.005\n",
      "NOAA_CH4                     0.0012      0.001      2.282      0.023       0.000       0.002\n",
      "Passenger_Count_adjusted  2.237e-05   5.27e-06      4.249      0.000     1.2e-05    3.27e-05\n",
      "D1                          -0.0450      0.100     -0.451      0.652      -0.241       0.151\n",
      "D2                           0.0613      0.101      0.607      0.544      -0.137       0.260\n",
      "D3                          -0.0129      0.093     -0.138      0.890      -0.196       0.170\n",
      "D4                          -0.0916      0.082     -1.111      0.267      -0.254       0.071\n",
      "D5                          -0.2118      0.074     -2.852      0.005      -0.358      -0.066\n",
      "D6                          -0.2149      0.072     -3.001      0.003      -0.356      -0.074\n",
      "D7                          -0.2281      0.068     -3.342      0.001      -0.362      -0.094\n",
      "D8                          -0.2394      0.073     -3.299      0.001      -0.382      -0.097\n",
      "D9                          -0.2010      0.077     -2.603      0.010      -0.353      -0.049\n",
      "D10                         -0.1414      0.083     -1.704      0.089      -0.305       0.022\n",
      "D11                         -0.0189      0.094     -0.202      0.840      -0.204       0.166\n",
      "D12                         -0.0583      0.102     -0.574      0.567      -0.258       0.142\n",
      "time                         0.0007      0.000      2.970      0.003       0.000       0.001\n",
      "==============================================================================\n",
      "Omnibus:                        6.102   Durbin-Watson:                   0.649\n",
      "Prob(Omnibus):                  0.047   Jarque-Bera (JB):                5.977\n",
      "Skew:                           0.269   Prob(JB):                       0.0504\n",
      "Kurtosis:                       3.352   Cond. No.                     5.79e+19\n",
      "==============================================================================\n",
      "\n",
      "Notes:\n",
      "[1] Standard Errors assume that the covariance matrix of the errors is correctly specified.\n",
      "[2] The smallest eigenvalue is 3.65e-30. This might indicate that there are\n",
      "strong multicollinearity problems or that the design matrix is singular.\n"
     ]
    }
   ],
   "source": [
    "\n",
    "from statsmodels.formula.api import ols\n",
    "# Regression model(s)\n",
    "\n",
    "formula3 = 'Anomaly_adjusted_deg_C ~ Total_ET12_adjusted + NOAA_CH4 + Passenger_Count_adjusted + D1 + D2 + D3 + D4 + D5 + D6 + D7 + D8 + D9 + D10 + D11 + D12+ time'\n",
    "\n",
    "# Ordinary Least Squares (OLS)\n",
    "results3 = ols(formula3, data=merged_df).fit()\n",
    "print(results3.summary())"
   ]
  },
  {
   "cell_type": "code",
   "execution_count": 48,
   "metadata": {},
   "outputs": [],
   "source": [
    "#Extracting the coefficients\n",
    "\n",
    "b0 = results3.params.Intercept\n",
    "b1 = results3.params.Total_ET12_adjusted\n",
    "b2 = results3.params.NOAA_CH4\n",
    "b3 = results3.params.Passenger_Count_adjusted\n",
    "\n",
    "# D1 to D12\n",
    "b4 = results3.params.D1\n",
    "b5 = results3.params.D2\n",
    "b6 = results3.params.D3\n",
    "b7 = results3.params.D4\n",
    "b8 = results3.params.D5\n",
    "b9 = results3.params.D6\n",
    "b10 = results3.params.D7\n",
    "b11 = results3.params.D8\n",
    "b12 = results3.params.D9\n",
    "b13 = results3.params.D10\n",
    "b14 = results3.params.D11\n",
    "b15 = results3.params.D12\n",
    "\n",
    "# Time variable\n",
    "b16 = results3.params.time"
   ]
  },
  {
   "cell_type": "code",
   "execution_count": null,
   "metadata": {},
   "outputs": [
    {
     "data": {
      "application/vnd.microsoft.datawrangler.viewer.v0+json": {
       "columns": [
        {
         "name": "index",
         "rawType": "datetime64[ns]",
         "type": "datetime"
        },
        {
         "name": "Values",
         "rawType": "float64",
         "type": "float"
        }
       ],
       "conversionMethod": "pd.DataFrame",
       "ref": "d18ff7fe-2806-4581-bb2b-9feac0266b15",
       "rows": [
        [
         "1995-01-01 00:00:00",
         "0.3608657690488977"
        ],
        [
         "1995-02-01 00:00:00",
         "0.4621068216160662"
        ],
        [
         "1995-03-01 00:00:00",
         "0.4136641072969931"
        ],
        [
         "1995-04-01 00:00:00",
         "0.38302424334764273"
        ],
        [
         "1995-05-01 00:00:00",
         "0.314422289725539"
        ],
        [
         "1995-06-01 00:00:00",
         "0.33087503876370705"
        ],
        [
         "1995-07-01 00:00:00",
         "0.3264960690353053"
        ],
        [
         "1995-08-01 00:00:00",
         "0.3499670997389827"
        ],
        [
         "1995-09-01 00:00:00",
         "0.3571216941288805"
        ],
        [
         "1995-10-01 00:00:00",
         "0.38249583107441976"
        ],
        [
         "1995-11-01 00:00:00",
         "0.42765042184969265"
        ],
        [
         "1995-12-01 00:00:00",
         "0.33990216076050234"
        ],
        [
         "1996-01-01 00:00:00",
         "0.3437622244680517"
        ],
        [
         "1996-02-01 00:00:00",
         "0.45314522307428884"
        ],
        [
         "1996-03-01 00:00:00",
         "0.40771017567715084"
        ],
        [
         "1996-04-01 00:00:00",
         "0.3898723528730031"
        ],
        [
         "1996-05-01 00:00:00",
         "0.310866065674755"
        ],
        [
         "1996-06-01 00:00:00",
         "0.32156265112069227"
        ],
        [
         "1996-07-01 00:00:00",
         "0.32915910560986383"
        ],
        [
         "1996-08-01 00:00:00",
         "0.34890785247672007"
        ],
        [
         "1996-09-01 00:00:00",
         "0.3641415559498112"
        ],
        [
         "1996-10-01 00:00:00",
         "0.38765863883160706"
        ],
        [
         "1996-11-01 00:00:00",
         "0.4338560043638044"
        ],
        [
         "1996-12-01 00:00:00",
         "0.34323129911128325"
        ],
        [
         "1997-01-01 00:00:00",
         "0.35213927210833446"
        ],
        [
         "1997-02-01 00:00:00",
         "0.4533147470973677"
        ],
        [
         "1997-03-01 00:00:00",
         "0.42548216224983215"
        ],
        [
         "1997-04-01 00:00:00",
         "0.41387572852976906"
        ],
        [
         "1997-05-01 00:00:00",
         "0.3350940797744465"
        ],
        [
         "1997-06-01 00:00:00",
         "0.36799743925410594"
        ],
        [
         "1997-07-01 00:00:00",
         "0.36077038230524655"
        ],
        [
         "1997-08-01 00:00:00",
         "0.371919544365893"
        ],
        [
         "1997-09-01 00:00:00",
         "0.3912668321944478"
        ],
        [
         "1997-10-01 00:00:00",
         "0.40838313608511934"
        ],
        [
         "1997-11-01 00:00:00",
         "0.45048163412257275"
        ],
        [
         "1997-12-01 00:00:00",
         "0.37257858809811134"
        ],
        [
         "1998-01-01 00:00:00",
         "0.3826058962840361"
        ],
        [
         "1998-02-01 00:00:00",
         "0.4986123837413203"
        ],
        [
         "1998-03-01 00:00:00",
         "0.4690367011381281"
        ],
        [
         "1998-04-01 00:00:00",
         "0.4432902258913091"
        ],
        [
         "1998-05-01 00:00:00",
         "0.36407894280784087"
        ],
        [
         "1998-06-01 00:00:00",
         "0.4029577477251498"
        ],
        [
         "1998-07-01 00:00:00",
         "0.37796969829919547"
        ],
        [
         "1998-08-01 00:00:00",
         "0.403173130007042"
        ],
        [
         "1998-09-01 00:00:00",
         "0.407721414122931"
        ],
        [
         "1998-10-01 00:00:00",
         "0.43673992818080537"
        ],
        [
         "1998-11-01 00:00:00",
         "0.47336494169670285"
        ],
        [
         "1998-12-01 00:00:00",
         "0.38251306822822667"
        ],
        [
         "1999-01-01 00:00:00",
         "0.3948605722818911"
        ],
        [
         "1999-02-01 00:00:00",
         "0.5142389606235803"
        ]
       ],
       "shape": {
        "columns": 1,
        "rows": 372
       }
      },
      "text/html": [
       "<div>\n",
       "<style scoped>\n",
       "    .dataframe tbody tr th:only-of-type {\n",
       "        vertical-align: middle;\n",
       "    }\n",
       "\n",
       "    .dataframe tbody tr th {\n",
       "        vertical-align: top;\n",
       "    }\n",
       "\n",
       "    .dataframe thead th {\n",
       "        text-align: right;\n",
       "    }\n",
       "</style>\n",
       "<table border=\"1\" class=\"dataframe\">\n",
       "  <thead>\n",
       "    <tr style=\"text-align: right;\">\n",
       "      <th></th>\n",
       "      <th>Values</th>\n",
       "    </tr>\n",
       "  </thead>\n",
       "  <tbody>\n",
       "    <tr>\n",
       "      <th>1995-01-01</th>\n",
       "      <td>0.360866</td>\n",
       "    </tr>\n",
       "    <tr>\n",
       "      <th>1995-02-01</th>\n",
       "      <td>0.462107</td>\n",
       "    </tr>\n",
       "    <tr>\n",
       "      <th>1995-03-01</th>\n",
       "      <td>0.413664</td>\n",
       "    </tr>\n",
       "    <tr>\n",
       "      <th>1995-04-01</th>\n",
       "      <td>0.383024</td>\n",
       "    </tr>\n",
       "    <tr>\n",
       "      <th>1995-05-01</th>\n",
       "      <td>0.314422</td>\n",
       "    </tr>\n",
       "    <tr>\n",
       "      <th>...</th>\n",
       "      <td>...</td>\n",
       "    </tr>\n",
       "    <tr>\n",
       "      <th>2025-08-01</th>\n",
       "      <td>1.067261</td>\n",
       "    </tr>\n",
       "    <tr>\n",
       "      <th>2025-09-01</th>\n",
       "      <td>1.054205</td>\n",
       "    </tr>\n",
       "    <tr>\n",
       "      <th>2025-10-01</th>\n",
       "      <td>1.065564</td>\n",
       "    </tr>\n",
       "    <tr>\n",
       "      <th>2025-11-01</th>\n",
       "      <td>1.102534</td>\n",
       "    </tr>\n",
       "    <tr>\n",
       "      <th>2025-12-01</th>\n",
       "      <td>1.023619</td>\n",
       "    </tr>\n",
       "  </tbody>\n",
       "</table>\n",
       "<p>372 rows × 1 columns</p>\n",
       "</div>"
      ],
      "text/plain": [
       "              Values\n",
       "1995-01-01  0.360866\n",
       "1995-02-01  0.462107\n",
       "1995-03-01  0.413664\n",
       "1995-04-01  0.383024\n",
       "1995-05-01  0.314422\n",
       "...              ...\n",
       "2025-08-01  1.067261\n",
       "2025-09-01  1.054205\n",
       "2025-10-01  1.065564\n",
       "2025-11-01  1.102534\n",
       "2025-12-01  1.023619\n",
       "\n",
       "[372 rows x 1 columns]"
      ]
     },
     "execution_count": 49,
     "metadata": {},
     "output_type": "execute_result"
    }
   ],
   "source": [
    "#Fitted values + Forecast values \n",
    "\n",
    "# Initialize the fitted and forecast arrays\n",
    "F = [0] * 348  # Assuming a1 has 348 periods of data\n",
    "E = [0] * 24   # Forecast for the next 24 periods\n",
    "\n",
    "# Calculate the fitted values\n",
    "for i in range(348):\n",
    "    fitted_value = b0 + a1[i] * b1 + a2[i] * b2 + a3[i] * b3\n",
    "    for j in range(4, 17):  # Loop for a4*b4, a5*b5, ..., a16*b16\n",
    "        fitted_value += globals()[f'a{j}'][i] * globals()[f'b{j}']\n",
    "    F[i] = fitted_value  # Store the fitted value\n",
    "\n",
    "# Calculate the forecast values\n",
    "for i in range(24):\n",
    "    forecast_value = b0 + v1[i] * b1 + v2[i] * b2 + v3[i] * b3\n",
    "    for j in range(4, 17):  # Loop for v4*b4, v5*b5, ..., v16*b16\n",
    "        forecast_value += globals()[f'v{j}'][i] * globals()[f'b{j}']\n",
    "    E[i] = forecast_value  # Store the forecast value\n",
    "\n",
    "# Convert the fitted and forecast arrays to DataFrames with the same column name\n",
    "F = pd.DataFrame(F, columns=['Values'])\n",
    "E = pd.DataFrame(E, columns=['Values'])\n",
    "\n",
    "# Generate date ranges for the fitted and forecast values\n",
    "date_range_fit = pd.date_range(start='1995-01-01', periods=len(F), freq='MS')\n",
    "date_range_pred = pd.date_range(start='2024-01-01', periods=len(E), freq='MS')\n",
    "\n",
    "# Set the date ranges as the index for the DataFrames\n",
    "F.index = date_range_fit\n",
    "E.index = date_range_pred\n",
    "\n",
    "# Concatenate F and E along the rows (axis=0)\n",
    "K = pd.concat([F, E], axis=0)\n",
    "K"
   ]
  },
  {
   "cell_type": "code",
   "execution_count": 50,
   "metadata": {},
   "outputs": [
    {
     "data": {
      "text/plain": [
       "0.01684510061577715"
      ]
     },
     "execution_count": 50,
     "metadata": {},
     "output_type": "execute_result"
    }
   ],
   "source": [
    "# Evaluating the MSE to generate the confidence interval\n",
    "MSTAfull = pd.DataFrame(MSTAfull0.Anomaly_adjusted_deg_C)\n",
    "values = MSTAfull[0:348] \n",
    "values = pd.DataFrame(values)\n",
    "\n",
    "\n",
    "MSE_cal = pd.concat([values.reset_index(drop=True), F[0:348].reset_index(drop=True)], axis=1)\n",
    "MSE_cal[\"Error\"] = MSE_cal[\"Anomaly_adjusted_deg_C\"] - MSE_cal.iloc[:, 1]\n",
    "MSE = sum(MSE_cal[\"Error\"] ** 2) * 1.0 / len(MSE_cal)\n",
    "MSE"
   ]
  },
  {
   "cell_type": "code",
   "execution_count": 51,
   "metadata": {},
   "outputs": [],
   "source": [
    "# Lower and upper bounds of forecasts for 99% confidence interval, z = 2.576\n",
    "LowerE = E - 2.576*MSE\n",
    "UpperE = E + 2.576*MSE\n",
    "LowerE = LowerE.squeeze() \n",
    "UpperE = UpperE.squeeze()"
   ]
  },
  {
   "cell_type": "code",
   "execution_count": 52,
   "metadata": {},
   "outputs": [],
   "source": [
    "#Plotting the forecast result\n",
    "\n",
    "fig, ax = plt.subplots(1, 1, figsize=(15, 10))\n",
    "\n",
    "# Plot the 'Original data' (MSTAfull)\n",
    "MSTAfull.plot(color='black', label='Original data', ax=ax)\n",
    "\n",
    "# Plot the 'Forecast Data' (K) \n",
    "K.plot(color='red', label='Forecast Data', ax=ax)  # Use label directly here\n",
    "\n",
    "# Ensure the range is consistent with the forecast length\n",
    "forecast_dates = K.index[-24:]  # Get the last 24 months for the forecast\n",
    "ax.fill_between(forecast_dates, LowerE[-24:], UpperE[-24:], color='b', alpha=0.3, label=\"Confidence Interval\")\n",
    "\n",
    "plt.xlabel('Time')\n",
    "plt.ylabel('Values')\n",
    "plt.title('Regression forecast of MSTA')\n",
    "ax.legend()\n",
    "plt.tight_layout()\n",
    "plt.show()"
   ]
  },
  {
   "cell_type": "code",
   "execution_count": 53,
   "metadata": {},
   "outputs": [],
   "source": [
    "#Assumption Testing/Residual Diagnostic\n",
    "\n",
    "from statsmodels.graphics.tsaplots import plot_acf, plot_pacf\n",
    "import scipy.stats as stats\n",
    "\n",
    "# Calculate residuals\n",
    "residuals = results3.resid\n",
    "fitted_values = results3.fittedvalues\n",
    "\n",
    "# Create a figure with multiple subplots\n",
    "fig, axes = plt.subplots(3, 2, figsize=(15, 18))\n",
    "\n",
    "# Plot residuals over time\n",
    "axes[0, 0].plot(residuals, label=\"Residuals\")\n",
    "axes[0, 0].axhline(0, color='black', linestyle='--')\n",
    "axes[0, 0].set_title(\"Residuals of OLS3 Model\")\n",
    "axes[0, 0].legend()\n",
    "\n",
    "# Plot ACF of residuals\n",
    "plot_acf(residuals, lags=40, ax=axes[0, 1])\n",
    "axes[0, 1].set_title('ACF of Residuals')\n",
    "\n",
    "# Plot PACF of residuals\n",
    "plot_pacf(residuals, lags=40, ax=axes[1, 0])\n",
    "axes[1, 0].set_title('PACF of Residuals')\n",
    "\n",
    "# Plot residuals vs. fitted values to check for homoscedasticity\n",
    "axes[1, 1].scatter(fitted_values, residuals)\n",
    "axes[1, 1].axhline(0, color='black', linestyle='--')\n",
    "axes[1, 1].set_xlabel('Fitted Values')\n",
    "axes[1, 1].set_ylabel('Residuals')\n",
    "axes[1, 1].set_title('Residuals vs. Fitted Values')\n",
    "\n",
    "# Plot histogram of residuals\n",
    "sns.histplot(residuals, kde=True, ax=axes[2, 0])\n",
    "axes[2, 0].set_title('Histogram of Residuals')\n",
    "axes[2, 0].set_xlabel('Residuals')\n",
    "axes[2, 0].set_ylabel('Frequency')\n",
    "\n",
    "# Q-Q plot of residuals\n",
    "stats.probplot(residuals, dist=\"norm\", plot=axes[2, 1])\n",
    "axes[2, 1].set_title('Q-Q Plot of Residuals')\n",
    "\n",
    "# Adjust layout for better visualization\n",
    "plt.tight_layout()\n",
    "\n",
    "# Display the plot\n",
    "plt.show()"
   ]
  }
 ],
 "metadata": {
  "kernelspec": {
   "display_name": "datasciences1",
   "language": "python",
   "name": "python3"
  },
  "language_info": {
   "codemirror_mode": {
    "name": "ipython",
    "version": 3
   },
   "file_extension": ".py",
   "mimetype": "text/x-python",
   "name": "python",
   "nbconvert_exporter": "python",
   "pygments_lexer": "ipython3",
   "version": "3.9.16"
  }
 },
 "nbformat": 4,
 "nbformat_minor": 2
}
